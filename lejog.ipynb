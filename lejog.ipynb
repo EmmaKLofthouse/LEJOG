{
 "cells": [
  {
   "cell_type": "markdown",
   "metadata": {},
   "source": [
    "# Land's End To John O'Groats Analysis\n",
    "\n",
    "In Summer 2023, I completed a walk from one end of the UK to the other. This is a quick look at the stats!"
   ]
  },
  {
   "cell_type": "markdown",
   "metadata": {},
   "source": [
    "# Table of Contents\n",
    "\n",
    "1. [Introduction](#intro)\n",
    "2. [Dataset](#data)\n",
    "3. [Loading Modules and data](#loading)\n",
    "4. [Data Cleaning](#cleaning)"
   ]
  },
  {
   "cell_type": "markdown",
   "metadata": {},
   "source": [
    "# Introduction <a name=\"intro\"></a>"
   ]
  },
  {
   "cell_type": "markdown",
   "metadata": {},
   "source": [
    "# Dataset <a name=\"data\"></a>"
   ]
  },
  {
   "cell_type": "markdown",
   "metadata": {},
   "source": [
    "# Loading modules and data <a name=\"loading\"></a>\n"
   ]
  },
  {
   "cell_type": "code",
   "execution_count": 233,
   "metadata": {},
   "outputs": [],
   "source": [
    "import matplotlib.pyplot as plt\n",
    "import pandas as pd\n",
    "import numpy as np\n",
    "import seaborn as sns"
   ]
  },
  {
   "cell_type": "code",
   "execution_count": 234,
   "metadata": {},
   "outputs": [],
   "source": [
    "df_overview = pd.read_csv(\"overview.csv\")\n",
    "df_counts = pd.read_csv(\"counts.csv\")"
   ]
  },
  {
   "cell_type": "code",
   "execution_count": 235,
   "metadata": {},
   "outputs": [
    {
     "data": {
      "text/html": [
       "<div>\n",
       "<style scoped>\n",
       "    .dataframe tbody tr th:only-of-type {\n",
       "        vertical-align: middle;\n",
       "    }\n",
       "\n",
       "    .dataframe tbody tr th {\n",
       "        vertical-align: top;\n",
       "    }\n",
       "\n",
       "    .dataframe thead th {\n",
       "        text-align: right;\n",
       "    }\n",
       "</style>\n",
       "<table border=\"1\" class=\"dataframe\">\n",
       "  <thead>\n",
       "    <tr style=\"text-align: right;\">\n",
       "      <th></th>\n",
       "      <th>Day</th>\n",
       "      <th>Days Left</th>\n",
       "      <th>Unnamed: 2</th>\n",
       "      <th>Date</th>\n",
       "      <th>Day.1</th>\n",
       "      <th>Start</th>\n",
       "      <th>End</th>\n",
       "      <th>Distance (km)</th>\n",
       "      <th>Total (km)</th>\n",
       "      <th>Distance (mi)</th>\n",
       "      <th>Total (mi)</th>\n",
       "      <th>Assistance</th>\n",
       "      <th>Notes</th>\n",
       "      <th>Unnamed: 13</th>\n",
       "      <th>Unnamed: 14</th>\n",
       "    </tr>\n",
       "  </thead>\n",
       "  <tbody>\n",
       "    <tr>\n",
       "      <th>0</th>\n",
       "      <td>0.0</td>\n",
       "      <td>NaN</td>\n",
       "      <td>NaN</td>\n",
       "      <td>17/05/2023</td>\n",
       "      <td>Wed</td>\n",
       "      <td>-</td>\n",
       "      <td>-</td>\n",
       "      <td>-</td>\n",
       "      <td>-</td>\n",
       "      <td>-</td>\n",
       "      <td>-</td>\n",
       "      <td>Mum/Dad</td>\n",
       "      <td>Travel Day</td>\n",
       "      <td>NaN</td>\n",
       "      <td>NaN</td>\n",
       "    </tr>\n",
       "    <tr>\n",
       "      <th>1</th>\n",
       "      <td>1.0</td>\n",
       "      <td>113.0</td>\n",
       "      <td>0%</td>\n",
       "      <td>18/05/2023</td>\n",
       "      <td>Thu</td>\n",
       "      <td>Land's End</td>\n",
       "      <td>Penzance</td>\n",
       "      <td>23</td>\n",
       "      <td>23</td>\n",
       "      <td>14.3</td>\n",
       "      <td>14.3</td>\n",
       "      <td>Mum/Dad</td>\n",
       "      <td>NaN</td>\n",
       "      <td>NaN</td>\n",
       "      <td>NaN</td>\n",
       "    </tr>\n",
       "    <tr>\n",
       "      <th>2</th>\n",
       "      <td>2.0</td>\n",
       "      <td>112.0</td>\n",
       "      <td>2%</td>\n",
       "      <td>19/05/2023</td>\n",
       "      <td>Fri</td>\n",
       "      <td>Penzance</td>\n",
       "      <td>Helston/Porthleven</td>\n",
       "      <td>25</td>\n",
       "      <td>48</td>\n",
       "      <td>15.5</td>\n",
       "      <td>29.8</td>\n",
       "      <td>Mum/Dad</td>\n",
       "      <td>to helston (25km) or to porthleven (22km) hilly!</td>\n",
       "      <td>NaN</td>\n",
       "      <td>NaN</td>\n",
       "    </tr>\n",
       "    <tr>\n",
       "      <th>3</th>\n",
       "      <td>3.0</td>\n",
       "      <td>111.0</td>\n",
       "      <td>3%</td>\n",
       "      <td>20/05/2023</td>\n",
       "      <td>Sat</td>\n",
       "      <td>Helston/Porthleven</td>\n",
       "      <td>Lizard</td>\n",
       "      <td>23</td>\n",
       "      <td>71</td>\n",
       "      <td>14.3</td>\n",
       "      <td>44.1</td>\n",
       "      <td>Mum/Dad</td>\n",
       "      <td>NaN</td>\n",
       "      <td>NaN</td>\n",
       "      <td>NaN</td>\n",
       "    </tr>\n",
       "    <tr>\n",
       "      <th>4</th>\n",
       "      <td>4.0</td>\n",
       "      <td>110.0</td>\n",
       "      <td>3%</td>\n",
       "      <td>21/05/2023</td>\n",
       "      <td>Sun</td>\n",
       "      <td>Lizard</td>\n",
       "      <td>Gweek</td>\n",
       "      <td>21.8</td>\n",
       "      <td>92.8</td>\n",
       "      <td>13.5</td>\n",
       "      <td>57.7</td>\n",
       "      <td>Mum/Dad</td>\n",
       "      <td>NaN</td>\n",
       "      <td>NaN</td>\n",
       "      <td>NaN</td>\n",
       "    </tr>\n",
       "  </tbody>\n",
       "</table>\n",
       "</div>"
      ],
      "text/plain": [
       "   Day  Days Left Unnamed: 2        Date Day.1               Start  \\\n",
       "0  0.0        NaN        NaN  17/05/2023   Wed                   -   \n",
       "1  1.0      113.0         0%  18/05/2023   Thu          Land's End   \n",
       "2  2.0      112.0         2%  19/05/2023   Fri            Penzance   \n",
       "3  3.0      111.0         3%  20/05/2023   Sat  Helston/Porthleven   \n",
       "4  4.0      110.0         3%  21/05/2023   Sun              Lizard   \n",
       "\n",
       "                  End Distance (km) Total (km) Distance (mi) Total (mi)  \\\n",
       "0                   -             -          -             -          -   \n",
       "1            Penzance            23         23          14.3       14.3   \n",
       "2  Helston/Porthleven            25         48          15.5       29.8   \n",
       "3              Lizard            23         71          14.3       44.1   \n",
       "4               Gweek          21.8       92.8          13.5       57.7   \n",
       "\n",
       "  Assistance                                             Notes Unnamed: 13  \\\n",
       "0    Mum/Dad                                        Travel Day         NaN   \n",
       "1    Mum/Dad                                               NaN         NaN   \n",
       "2    Mum/Dad  to helston (25km) or to porthleven (22km) hilly!         NaN   \n",
       "3    Mum/Dad                                               NaN         NaN   \n",
       "4    Mum/Dad                                               NaN         NaN   \n",
       "\n",
       "  Unnamed: 14  \n",
       "0         NaN  \n",
       "1         NaN  \n",
       "2         NaN  \n",
       "3         NaN  \n",
       "4         NaN  "
      ]
     },
     "execution_count": 235,
     "metadata": {},
     "output_type": "execute_result"
    }
   ],
   "source": [
    "df_overview.head()"
   ]
  },
  {
   "cell_type": "code",
   "execution_count": 236,
   "metadata": {},
   "outputs": [
    {
     "data": {
      "text/html": [
       "<div>\n",
       "<style scoped>\n",
       "    .dataframe tbody tr th:only-of-type {\n",
       "        vertical-align: middle;\n",
       "    }\n",
       "\n",
       "    .dataframe tbody tr th {\n",
       "        vertical-align: top;\n",
       "    }\n",
       "\n",
       "    .dataframe thead th {\n",
       "        text-align: right;\n",
       "    }\n",
       "</style>\n",
       "<table border=\"1\" class=\"dataframe\">\n",
       "  <thead>\n",
       "    <tr style=\"text-align: right;\">\n",
       "      <th></th>\n",
       "      <th>Day</th>\n",
       "      <th>Date</th>\n",
       "      <th>Day.1</th>\n",
       "      <th>Start</th>\n",
       "      <th>End</th>\n",
       "      <th>Km</th>\n",
       "      <th>Weather</th>\n",
       "      <th>Steps</th>\n",
       "      <th>Stiles</th>\n",
       "      <th>Dog petting</th>\n",
       "      <th>Cat stroking</th>\n",
       "      <th>Cow encounters</th>\n",
       "      <th>Unnamed: 12</th>\n",
       "      <th>Mood</th>\n",
       "      <th>Cries</th>\n",
       "      <th>Chickens</th>\n",
       "      <th>Unnamed: 16</th>\n",
       "    </tr>\n",
       "  </thead>\n",
       "  <tbody>\n",
       "    <tr>\n",
       "      <th>0</th>\n",
       "      <td>NaN</td>\n",
       "      <td>NaN</td>\n",
       "      <td>NaN</td>\n",
       "      <td>NaN</td>\n",
       "      <td>NaN</td>\n",
       "      <td>NaN</td>\n",
       "      <td>NaN</td>\n",
       "      <td>3157177.0</td>\n",
       "      <td>243.0</td>\n",
       "      <td>94.0</td>\n",
       "      <td>11.0</td>\n",
       "      <td>6.0</td>\n",
       "      <td>NaN</td>\n",
       "      <td>NaN</td>\n",
       "      <td>25.0</td>\n",
       "      <td>NaN</td>\n",
       "      <td>NaN</td>\n",
       "    </tr>\n",
       "    <tr>\n",
       "      <th>1</th>\n",
       "      <td>0.0</td>\n",
       "      <td>17/05/2023</td>\n",
       "      <td>Wed</td>\n",
       "      <td>-</td>\n",
       "      <td>-</td>\n",
       "      <td>-</td>\n",
       "      <td>NaN</td>\n",
       "      <td>NaN</td>\n",
       "      <td>NaN</td>\n",
       "      <td>NaN</td>\n",
       "      <td>NaN</td>\n",
       "      <td>NaN</td>\n",
       "      <td>NaN</td>\n",
       "      <td>NaN</td>\n",
       "      <td>NaN</td>\n",
       "      <td>NaN</td>\n",
       "      <td>NaN</td>\n",
       "    </tr>\n",
       "    <tr>\n",
       "      <th>2</th>\n",
       "      <td>1.0</td>\n",
       "      <td>18/05/2023</td>\n",
       "      <td>Thu</td>\n",
       "      <td>Land's End</td>\n",
       "      <td>Penzance</td>\n",
       "      <td>23</td>\n",
       "      <td>Sunny/cloudy</td>\n",
       "      <td>30982.0</td>\n",
       "      <td>6.0</td>\n",
       "      <td>5.0</td>\n",
       "      <td>1.0</td>\n",
       "      <td>0.0</td>\n",
       "      <td>NaN</td>\n",
       "      <td>NaN</td>\n",
       "      <td>0.0</td>\n",
       "      <td>NaN</td>\n",
       "      <td>NaN</td>\n",
       "    </tr>\n",
       "    <tr>\n",
       "      <th>3</th>\n",
       "      <td>2.0</td>\n",
       "      <td>19/05/2023</td>\n",
       "      <td>Fri</td>\n",
       "      <td>Penzance</td>\n",
       "      <td>Helston/Porthleven</td>\n",
       "      <td>25</td>\n",
       "      <td>Cloudy</td>\n",
       "      <td>35306.0</td>\n",
       "      <td>4.0</td>\n",
       "      <td>1.0</td>\n",
       "      <td>0.0</td>\n",
       "      <td>0.0</td>\n",
       "      <td>NaN</td>\n",
       "      <td>NaN</td>\n",
       "      <td>0.0</td>\n",
       "      <td>NaN</td>\n",
       "      <td>cornwall</td>\n",
       "    </tr>\n",
       "    <tr>\n",
       "      <th>4</th>\n",
       "      <td>3.0</td>\n",
       "      <td>20/05/2023</td>\n",
       "      <td>Sat</td>\n",
       "      <td>Helston/Porthleven</td>\n",
       "      <td>Lizard</td>\n",
       "      <td>23</td>\n",
       "      <td>Blue skies</td>\n",
       "      <td>37643.0</td>\n",
       "      <td>9.0</td>\n",
       "      <td>3.0</td>\n",
       "      <td>0.0</td>\n",
       "      <td>0.0</td>\n",
       "      <td>NaN</td>\n",
       "      <td>NaN</td>\n",
       "      <td>0.0</td>\n",
       "      <td>NaN</td>\n",
       "      <td>devon</td>\n",
       "    </tr>\n",
       "  </tbody>\n",
       "</table>\n",
       "</div>"
      ],
      "text/plain": [
       "   Day        Date Day.1               Start                 End   Km  \\\n",
       "0  NaN         NaN   NaN                 NaN                 NaN  NaN   \n",
       "1  0.0  17/05/2023   Wed                   -                   -    -   \n",
       "2  1.0  18/05/2023   Thu          Land's End            Penzance   23   \n",
       "3  2.0  19/05/2023   Fri            Penzance  Helston/Porthleven   25   \n",
       "4  3.0  20/05/2023   Sat  Helston/Porthleven              Lizard   23   \n",
       "\n",
       "        Weather      Steps  Stiles  Dog petting  Cat stroking  Cow encounters  \\\n",
       "0           NaN  3157177.0   243.0         94.0          11.0             6.0   \n",
       "1           NaN        NaN     NaN          NaN           NaN             NaN   \n",
       "2  Sunny/cloudy    30982.0     6.0          5.0           1.0             0.0   \n",
       "3        Cloudy    35306.0     4.0          1.0           0.0             0.0   \n",
       "4    Blue skies    37643.0     9.0          3.0           0.0             0.0   \n",
       "\n",
       "   Unnamed: 12  Mood  Cries Chickens Unnamed: 16  \n",
       "0          NaN   NaN   25.0      NaN         NaN  \n",
       "1          NaN   NaN    NaN      NaN         NaN  \n",
       "2          NaN   NaN    0.0      NaN         NaN  \n",
       "3          NaN   NaN    0.0      NaN    cornwall  \n",
       "4          NaN   NaN    0.0      NaN       devon  "
      ]
     },
     "execution_count": 236,
     "metadata": {},
     "output_type": "execute_result"
    }
   ],
   "source": [
    "df_counts.head()"
   ]
  },
  {
   "cell_type": "markdown",
   "metadata": {},
   "source": [
    "# Data Cleaning <a name=\"cleaning\"></a>"
   ]
  },
  {
   "cell_type": "code",
   "execution_count": 237,
   "metadata": {},
   "outputs": [
    {
     "data": {
      "text/html": [
       "<div>\n",
       "<style scoped>\n",
       "    .dataframe tbody tr th:only-of-type {\n",
       "        vertical-align: middle;\n",
       "    }\n",
       "\n",
       "    .dataframe tbody tr th {\n",
       "        vertical-align: top;\n",
       "    }\n",
       "\n",
       "    .dataframe thead th {\n",
       "        text-align: right;\n",
       "    }\n",
       "</style>\n",
       "<table border=\"1\" class=\"dataframe\">\n",
       "  <thead>\n",
       "    <tr style=\"text-align: right;\">\n",
       "      <th></th>\n",
       "      <th>Day</th>\n",
       "      <th>Date</th>\n",
       "      <th>Day.1</th>\n",
       "      <th>Start</th>\n",
       "      <th>End</th>\n",
       "      <th>Km</th>\n",
       "      <th>Weather</th>\n",
       "      <th>Steps</th>\n",
       "      <th>Stiles</th>\n",
       "      <th>Dog petting</th>\n",
       "      <th>Cat stroking</th>\n",
       "      <th>Cow encounters</th>\n",
       "      <th>Unnamed: 12</th>\n",
       "      <th>Mood</th>\n",
       "      <th>Cries</th>\n",
       "      <th>Chickens</th>\n",
       "      <th>Unnamed: 16</th>\n",
       "    </tr>\n",
       "  </thead>\n",
       "  <tbody>\n",
       "    <tr>\n",
       "      <th>0</th>\n",
       "      <td>0.0</td>\n",
       "      <td>17/05/2023</td>\n",
       "      <td>Wed</td>\n",
       "      <td>-</td>\n",
       "      <td>-</td>\n",
       "      <td>-</td>\n",
       "      <td>NaN</td>\n",
       "      <td>NaN</td>\n",
       "      <td>NaN</td>\n",
       "      <td>NaN</td>\n",
       "      <td>NaN</td>\n",
       "      <td>NaN</td>\n",
       "      <td>NaN</td>\n",
       "      <td>NaN</td>\n",
       "      <td>NaN</td>\n",
       "      <td>NaN</td>\n",
       "      <td>NaN</td>\n",
       "    </tr>\n",
       "    <tr>\n",
       "      <th>1</th>\n",
       "      <td>1.0</td>\n",
       "      <td>18/05/2023</td>\n",
       "      <td>Thu</td>\n",
       "      <td>Land's End</td>\n",
       "      <td>Penzance</td>\n",
       "      <td>23</td>\n",
       "      <td>Sunny/cloudy</td>\n",
       "      <td>30982.0</td>\n",
       "      <td>6.0</td>\n",
       "      <td>5.0</td>\n",
       "      <td>1.0</td>\n",
       "      <td>0.0</td>\n",
       "      <td>NaN</td>\n",
       "      <td>NaN</td>\n",
       "      <td>0.0</td>\n",
       "      <td>NaN</td>\n",
       "      <td>NaN</td>\n",
       "    </tr>\n",
       "    <tr>\n",
       "      <th>2</th>\n",
       "      <td>2.0</td>\n",
       "      <td>19/05/2023</td>\n",
       "      <td>Fri</td>\n",
       "      <td>Penzance</td>\n",
       "      <td>Helston/Porthleven</td>\n",
       "      <td>25</td>\n",
       "      <td>Cloudy</td>\n",
       "      <td>35306.0</td>\n",
       "      <td>4.0</td>\n",
       "      <td>1.0</td>\n",
       "      <td>0.0</td>\n",
       "      <td>0.0</td>\n",
       "      <td>NaN</td>\n",
       "      <td>NaN</td>\n",
       "      <td>0.0</td>\n",
       "      <td>NaN</td>\n",
       "      <td>cornwall</td>\n",
       "    </tr>\n",
       "    <tr>\n",
       "      <th>3</th>\n",
       "      <td>3.0</td>\n",
       "      <td>20/05/2023</td>\n",
       "      <td>Sat</td>\n",
       "      <td>Helston/Porthleven</td>\n",
       "      <td>Lizard</td>\n",
       "      <td>23</td>\n",
       "      <td>Blue skies</td>\n",
       "      <td>37643.0</td>\n",
       "      <td>9.0</td>\n",
       "      <td>3.0</td>\n",
       "      <td>0.0</td>\n",
       "      <td>0.0</td>\n",
       "      <td>NaN</td>\n",
       "      <td>NaN</td>\n",
       "      <td>0.0</td>\n",
       "      <td>NaN</td>\n",
       "      <td>devon</td>\n",
       "    </tr>\n",
       "    <tr>\n",
       "      <th>4</th>\n",
       "      <td>4.0</td>\n",
       "      <td>21/05/2023</td>\n",
       "      <td>Sun</td>\n",
       "      <td>Lizard</td>\n",
       "      <td>Gweek</td>\n",
       "      <td>21.8</td>\n",
       "      <td>Blue skies</td>\n",
       "      <td>31287.0</td>\n",
       "      <td>2.0</td>\n",
       "      <td>0.0</td>\n",
       "      <td>0.0</td>\n",
       "      <td>0.0</td>\n",
       "      <td>NaN</td>\n",
       "      <td>NaN</td>\n",
       "      <td>0.0</td>\n",
       "      <td>NaN</td>\n",
       "      <td>somerset</td>\n",
       "    </tr>\n",
       "  </tbody>\n",
       "</table>\n",
       "</div>"
      ],
      "text/plain": [
       "   Day        Date Day.1               Start                 End    Km  \\\n",
       "0  0.0  17/05/2023   Wed                   -                   -     -   \n",
       "1  1.0  18/05/2023   Thu          Land's End            Penzance    23   \n",
       "2  2.0  19/05/2023   Fri            Penzance  Helston/Porthleven    25   \n",
       "3  3.0  20/05/2023   Sat  Helston/Porthleven              Lizard    23   \n",
       "4  4.0  21/05/2023   Sun              Lizard               Gweek  21.8   \n",
       "\n",
       "        Weather    Steps  Stiles  Dog petting  Cat stroking  Cow encounters  \\\n",
       "0           NaN      NaN     NaN          NaN           NaN             NaN   \n",
       "1  Sunny/cloudy  30982.0     6.0          5.0           1.0             0.0   \n",
       "2        Cloudy  35306.0     4.0          1.0           0.0             0.0   \n",
       "3    Blue skies  37643.0     9.0          3.0           0.0             0.0   \n",
       "4    Blue skies  31287.0     2.0          0.0           0.0             0.0   \n",
       "\n",
       "   Unnamed: 12  Mood  Cries Chickens Unnamed: 16  \n",
       "0          NaN   NaN    NaN      NaN         NaN  \n",
       "1          NaN   NaN    0.0      NaN         NaN  \n",
       "2          NaN   NaN    0.0      NaN    cornwall  \n",
       "3          NaN   NaN    0.0      NaN       devon  \n",
       "4          NaN   NaN    0.0      NaN    somerset  "
      ]
     },
     "execution_count": 237,
     "metadata": {},
     "output_type": "execute_result"
    }
   ],
   "source": [
    "#remove first row of counts dataframe \n",
    "df_counts = df_counts.drop([0],axis=0)\n",
    "df_counts.reset_index(drop=True, inplace=True)\n",
    "df_counts.head()"
   ]
  },
  {
   "cell_type": "markdown",
   "metadata": {},
   "source": [
    "Join the two dataframes into one"
   ]
  },
  {
   "cell_type": "code",
   "execution_count": 238,
   "metadata": {},
   "outputs": [],
   "source": [
    "# Join the two dataframes into one\n",
    "df = pd.concat([df_overview, df_counts], axis=1)"
   ]
  },
  {
   "cell_type": "code",
   "execution_count": 240,
   "metadata": {},
   "outputs": [],
   "source": [
    "#remove duplicate columns\n",
    "df = df.loc[:,~df.columns.duplicated()].copy()"
   ]
  },
  {
   "cell_type": "code",
   "execution_count": 241,
   "metadata": {},
   "outputs": [
    {
     "data": {
      "text/plain": [
       "Index(['Day', 'Days Left', 'Unnamed: 2', 'Date', 'Day.1', 'Start', 'End',\n",
       "       'Distance (km)', 'Total (km)', 'Distance (mi)', 'Total (mi)',\n",
       "       'Assistance', 'Notes', 'Unnamed: 13', 'Unnamed: 14', 'Km', 'Weather',\n",
       "       'Steps', 'Stiles', 'Dog petting', 'Cat stroking', 'Cow encounters',\n",
       "       'Unnamed: 12', 'Mood', 'Cries', 'Chickens', 'Unnamed: 16'],\n",
       "      dtype='object')"
      ]
     },
     "execution_count": 241,
     "metadata": {},
     "output_type": "execute_result"
    }
   ],
   "source": [
    "df.columns"
   ]
  },
  {
   "cell_type": "code",
   "execution_count": 242,
   "metadata": {},
   "outputs": [],
   "source": [
    "# drop unneeded columns\n",
    "df = df.drop(['Unnamed: 2','Unnamed: 13','Unnamed: 14','Unnamed: 16','Unnamed: 12','Notes','Mood','Days Left',\n",
    "              'Km','Assistance'],axis=1)"
   ]
  },
  {
   "cell_type": "code",
   "execution_count": 243,
   "metadata": {},
   "outputs": [],
   "source": [
    "# rename columns into more useful names\n",
    "df = df.rename(columns={\"Day.1\": \"Day_week\",\"Day\": \"Day_number\",'Dog petting':\"Dogs\",\"Cat stroking\":\"Cats\",\n",
    "                        \"Cow encounters\":\"Cow_encounters\",\"Distance (km)\":\"Distance_km\",\"Total (km)\":\"Total_km\",\n",
    "                        \"Distance (mi)\":\"Distance_miles\",\"Total (mi)\": \"Total_miles\"})"
   ]
  },
  {
   "cell_type": "code",
   "execution_count": 245,
   "metadata": {},
   "outputs": [],
   "source": [
    "# drop trailing rows\n",
    "df = df[df['Start'].notna()]"
   ]
  },
  {
   "cell_type": "code",
   "execution_count": 246,
   "metadata": {},
   "outputs": [],
   "source": [
    "#remove first row containing travel day\n",
    "df = df.drop([0],axis=0)\n",
    "df.reset_index(drop=True, inplace=True)"
   ]
  },
  {
   "cell_type": "code",
   "execution_count": 247,
   "metadata": {},
   "outputs": [
    {
     "data": {
      "text/html": [
       "<div>\n",
       "<style scoped>\n",
       "    .dataframe tbody tr th:only-of-type {\n",
       "        vertical-align: middle;\n",
       "    }\n",
       "\n",
       "    .dataframe tbody tr th {\n",
       "        vertical-align: top;\n",
       "    }\n",
       "\n",
       "    .dataframe thead th {\n",
       "        text-align: right;\n",
       "    }\n",
       "</style>\n",
       "<table border=\"1\" class=\"dataframe\">\n",
       "  <thead>\n",
       "    <tr style=\"text-align: right;\">\n",
       "      <th></th>\n",
       "      <th>Day_number</th>\n",
       "      <th>Date</th>\n",
       "      <th>Day_week</th>\n",
       "      <th>Start</th>\n",
       "      <th>End</th>\n",
       "      <th>Distance_km</th>\n",
       "      <th>Total_km</th>\n",
       "      <th>Distance_miles</th>\n",
       "      <th>Total_miles</th>\n",
       "      <th>Weather</th>\n",
       "      <th>Steps</th>\n",
       "      <th>Stiles</th>\n",
       "      <th>Dogs</th>\n",
       "      <th>Cats</th>\n",
       "      <th>Cow_encounters</th>\n",
       "      <th>Cries</th>\n",
       "      <th>Chickens</th>\n",
       "    </tr>\n",
       "  </thead>\n",
       "  <tbody>\n",
       "    <tr>\n",
       "      <th>0</th>\n",
       "      <td>1.0</td>\n",
       "      <td>18/05/2023</td>\n",
       "      <td>Thu</td>\n",
       "      <td>Land's End</td>\n",
       "      <td>Penzance</td>\n",
       "      <td>23</td>\n",
       "      <td>23</td>\n",
       "      <td>14.3</td>\n",
       "      <td>14.3</td>\n",
       "      <td>Sunny/cloudy</td>\n",
       "      <td>30982.0</td>\n",
       "      <td>6.0</td>\n",
       "      <td>5.0</td>\n",
       "      <td>1.0</td>\n",
       "      <td>0.0</td>\n",
       "      <td>0.0</td>\n",
       "      <td>NaN</td>\n",
       "    </tr>\n",
       "    <tr>\n",
       "      <th>1</th>\n",
       "      <td>2.0</td>\n",
       "      <td>19/05/2023</td>\n",
       "      <td>Fri</td>\n",
       "      <td>Penzance</td>\n",
       "      <td>Helston/Porthleven</td>\n",
       "      <td>25</td>\n",
       "      <td>48</td>\n",
       "      <td>15.5</td>\n",
       "      <td>29.8</td>\n",
       "      <td>Cloudy</td>\n",
       "      <td>35306.0</td>\n",
       "      <td>4.0</td>\n",
       "      <td>1.0</td>\n",
       "      <td>0.0</td>\n",
       "      <td>0.0</td>\n",
       "      <td>0.0</td>\n",
       "      <td>NaN</td>\n",
       "    </tr>\n",
       "    <tr>\n",
       "      <th>2</th>\n",
       "      <td>3.0</td>\n",
       "      <td>20/05/2023</td>\n",
       "      <td>Sat</td>\n",
       "      <td>Helston/Porthleven</td>\n",
       "      <td>Lizard</td>\n",
       "      <td>23</td>\n",
       "      <td>71</td>\n",
       "      <td>14.3</td>\n",
       "      <td>44.1</td>\n",
       "      <td>Blue skies</td>\n",
       "      <td>37643.0</td>\n",
       "      <td>9.0</td>\n",
       "      <td>3.0</td>\n",
       "      <td>0.0</td>\n",
       "      <td>0.0</td>\n",
       "      <td>0.0</td>\n",
       "      <td>NaN</td>\n",
       "    </tr>\n",
       "    <tr>\n",
       "      <th>3</th>\n",
       "      <td>4.0</td>\n",
       "      <td>21/05/2023</td>\n",
       "      <td>Sun</td>\n",
       "      <td>Lizard</td>\n",
       "      <td>Gweek</td>\n",
       "      <td>21.8</td>\n",
       "      <td>92.8</td>\n",
       "      <td>13.5</td>\n",
       "      <td>57.7</td>\n",
       "      <td>Blue skies</td>\n",
       "      <td>31287.0</td>\n",
       "      <td>2.0</td>\n",
       "      <td>0.0</td>\n",
       "      <td>0.0</td>\n",
       "      <td>0.0</td>\n",
       "      <td>0.0</td>\n",
       "      <td>NaN</td>\n",
       "    </tr>\n",
       "    <tr>\n",
       "      <th>4</th>\n",
       "      <td>5.0</td>\n",
       "      <td>22/05/2023</td>\n",
       "      <td>Mon</td>\n",
       "      <td>Gweek-ish</td>\n",
       "      <td>Falmouth</td>\n",
       "      <td>18.5</td>\n",
       "      <td>111.3</td>\n",
       "      <td>11.5</td>\n",
       "      <td>69.2</td>\n",
       "      <td>sunny/cloudy</td>\n",
       "      <td>25150.0</td>\n",
       "      <td>13.0</td>\n",
       "      <td>1.0</td>\n",
       "      <td>0.0</td>\n",
       "      <td>1.0</td>\n",
       "      <td>2.0</td>\n",
       "      <td>NaN</td>\n",
       "    </tr>\n",
       "    <tr>\n",
       "      <th>...</th>\n",
       "      <td>...</td>\n",
       "      <td>...</td>\n",
       "      <td>...</td>\n",
       "      <td>...</td>\n",
       "      <td>...</td>\n",
       "      <td>...</td>\n",
       "      <td>...</td>\n",
       "      <td>...</td>\n",
       "      <td>...</td>\n",
       "      <td>...</td>\n",
       "      <td>...</td>\n",
       "      <td>...</td>\n",
       "      <td>...</td>\n",
       "      <td>...</td>\n",
       "      <td>...</td>\n",
       "      <td>...</td>\n",
       "      <td>...</td>\n",
       "    </tr>\n",
       "    <tr>\n",
       "      <th>107</th>\n",
       "      <td>108.0</td>\n",
       "      <td>02/09/2023</td>\n",
       "      <td>Sat</td>\n",
       "      <td>Helmsdale</td>\n",
       "      <td>Berriedale</td>\n",
       "      <td>19</td>\n",
       "      <td>2088</td>\n",
       "      <td>11.8</td>\n",
       "      <td>1297.4</td>\n",
       "      <td>light cloud, sunny, sea mist</td>\n",
       "      <td>26508.0</td>\n",
       "      <td>13.0</td>\n",
       "      <td>NaN</td>\n",
       "      <td>NaN</td>\n",
       "      <td>NaN</td>\n",
       "      <td>NaN</td>\n",
       "      <td>NaN</td>\n",
       "    </tr>\n",
       "    <tr>\n",
       "      <th>108</th>\n",
       "      <td>109.0</td>\n",
       "      <td>03/09/2023</td>\n",
       "      <td>Sun</td>\n",
       "      <td>Berriedale</td>\n",
       "      <td>Lybster</td>\n",
       "      <td>21</td>\n",
       "      <td>2109</td>\n",
       "      <td>13.0</td>\n",
       "      <td>1310.5</td>\n",
       "      <td>light cloud, sunny</td>\n",
       "      <td>27753.0</td>\n",
       "      <td>NaN</td>\n",
       "      <td>NaN</td>\n",
       "      <td>NaN</td>\n",
       "      <td>NaN</td>\n",
       "      <td>NaN</td>\n",
       "      <td>NaN</td>\n",
       "    </tr>\n",
       "    <tr>\n",
       "      <th>109</th>\n",
       "      <td>110.0</td>\n",
       "      <td>04/09/2023</td>\n",
       "      <td>Mon</td>\n",
       "      <td>Lybster</td>\n",
       "      <td>Reiss</td>\n",
       "      <td>32</td>\n",
       "      <td>2141</td>\n",
       "      <td>19.9</td>\n",
       "      <td>1330.4</td>\n",
       "      <td>sunny</td>\n",
       "      <td>42963.0</td>\n",
       "      <td>NaN</td>\n",
       "      <td>5.0</td>\n",
       "      <td>NaN</td>\n",
       "      <td>NaN</td>\n",
       "      <td>NaN</td>\n",
       "      <td>NaN</td>\n",
       "    </tr>\n",
       "    <tr>\n",
       "      <th>110</th>\n",
       "      <td>111.0</td>\n",
       "      <td>05/09/2023</td>\n",
       "      <td>Tue</td>\n",
       "      <td>Reiss</td>\n",
       "      <td>John O'Groats</td>\n",
       "      <td>29</td>\n",
       "      <td>2170</td>\n",
       "      <td>18.0</td>\n",
       "      <td>1348.4</td>\n",
       "      <td>grey, drizzle, foggy</td>\n",
       "      <td>37899.0</td>\n",
       "      <td>1.0</td>\n",
       "      <td>1.0</td>\n",
       "      <td>NaN</td>\n",
       "      <td>NaN</td>\n",
       "      <td>NaN</td>\n",
       "      <td>NaN</td>\n",
       "    </tr>\n",
       "    <tr>\n",
       "      <th>111</th>\n",
       "      <td>112.0</td>\n",
       "      <td>06/09/2023</td>\n",
       "      <td>Wed</td>\n",
       "      <td>John O'Groats</td>\n",
       "      <td>Dunnet Head</td>\n",
       "      <td>25</td>\n",
       "      <td>2195</td>\n",
       "      <td>15.5</td>\n",
       "      <td>1363.9</td>\n",
       "      <td>sunshine</td>\n",
       "      <td>NaN</td>\n",
       "      <td>NaN</td>\n",
       "      <td>NaN</td>\n",
       "      <td>NaN</td>\n",
       "      <td>NaN</td>\n",
       "      <td>NaN</td>\n",
       "      <td>NaN</td>\n",
       "    </tr>\n",
       "  </tbody>\n",
       "</table>\n",
       "<p>112 rows × 17 columns</p>\n",
       "</div>"
      ],
      "text/plain": [
       "     Day_number        Date Day_week               Start                 End  \\\n",
       "0           1.0  18/05/2023      Thu          Land's End            Penzance   \n",
       "1           2.0  19/05/2023      Fri            Penzance  Helston/Porthleven   \n",
       "2           3.0  20/05/2023      Sat  Helston/Porthleven              Lizard   \n",
       "3           4.0  21/05/2023      Sun              Lizard               Gweek   \n",
       "4           5.0  22/05/2023      Mon           Gweek-ish            Falmouth   \n",
       "..          ...         ...      ...                 ...                 ...   \n",
       "107       108.0  02/09/2023      Sat           Helmsdale          Berriedale   \n",
       "108       109.0  03/09/2023      Sun          Berriedale             Lybster   \n",
       "109       110.0  04/09/2023      Mon            Lybster                Reiss   \n",
       "110       111.0  05/09/2023      Tue               Reiss      John O'Groats    \n",
       "111       112.0  06/09/2023      Wed      John O'Groats          Dunnet Head   \n",
       "\n",
       "    Distance_km Total_km Distance_miles Total_miles  \\\n",
       "0            23       23           14.3        14.3   \n",
       "1            25       48           15.5        29.8   \n",
       "2            23       71           14.3        44.1   \n",
       "3          21.8     92.8           13.5        57.7   \n",
       "4          18.5    111.3           11.5        69.2   \n",
       "..          ...      ...            ...         ...   \n",
       "107          19     2088           11.8      1297.4   \n",
       "108          21     2109           13.0      1310.5   \n",
       "109          32     2141           19.9      1330.4   \n",
       "110          29     2170           18.0      1348.4   \n",
       "111          25     2195           15.5      1363.9   \n",
       "\n",
       "                          Weather    Steps  Stiles  Dogs  Cats  \\\n",
       "0                    Sunny/cloudy  30982.0     6.0   5.0   1.0   \n",
       "1                          Cloudy  35306.0     4.0   1.0   0.0   \n",
       "2                      Blue skies  37643.0     9.0   3.0   0.0   \n",
       "3                      Blue skies  31287.0     2.0   0.0   0.0   \n",
       "4                    sunny/cloudy  25150.0    13.0   1.0   0.0   \n",
       "..                            ...      ...     ...   ...   ...   \n",
       "107  light cloud, sunny, sea mist  26508.0    13.0   NaN   NaN   \n",
       "108            light cloud, sunny  27753.0     NaN   NaN   NaN   \n",
       "109                         sunny  42963.0     NaN   5.0   NaN   \n",
       "110          grey, drizzle, foggy  37899.0     1.0   1.0   NaN   \n",
       "111                      sunshine      NaN     NaN   NaN   NaN   \n",
       "\n",
       "     Cow_encounters  Cries Chickens  \n",
       "0               0.0    0.0      NaN  \n",
       "1               0.0    0.0      NaN  \n",
       "2               0.0    0.0      NaN  \n",
       "3               0.0    0.0      NaN  \n",
       "4               1.0    2.0      NaN  \n",
       "..              ...    ...      ...  \n",
       "107             NaN    NaN      NaN  \n",
       "108             NaN    NaN      NaN  \n",
       "109             NaN    NaN      NaN  \n",
       "110             NaN    NaN      NaN  \n",
       "111             NaN    NaN      NaN  \n",
       "\n",
       "[112 rows x 17 columns]"
      ]
     },
     "execution_count": 247,
     "metadata": {},
     "output_type": "execute_result"
    }
   ],
   "source": [
    "df"
   ]
  },
  {
   "cell_type": "code",
   "execution_count": 256,
   "metadata": {},
   "outputs": [],
   "source": [
    "#fill NaNs with 0 in counts\n",
    "df = df.fillna(0)"
   ]
  },
  {
   "cell_type": "code",
   "execution_count": 257,
   "metadata": {},
   "outputs": [],
   "source": [
    "# replace Rest days with zeros so that it can be used as integers\n",
    "df['Distance_km'] = df['Distance_km'].apply(lambda x: 0 if 'rest' in x.lower() else x)\n",
    "df['Distance_miles'] = df['Distance_miles'].apply(lambda x: 0 if 'rest' in x.lower() else x)"
   ]
  },
  {
   "cell_type": "code",
   "execution_count": 260,
   "metadata": {},
   "outputs": [
    {
     "name": "stdout",
     "output_type": "stream",
     "text": [
      "<class 'pandas.core.frame.DataFrame'>\n",
      "RangeIndex: 112 entries, 0 to 111\n",
      "Data columns (total 20 columns):\n",
      " #   Column          Non-Null Count  Dtype  \n",
      "---  ------          --------------  -----  \n",
      " 0   Day_number      112 non-null    float64\n",
      " 1   Date            112 non-null    object \n",
      " 2   Day_week        112 non-null    object \n",
      " 3   Start           112 non-null    object \n",
      " 4   End             112 non-null    object \n",
      " 5   Distance_km     112 non-null    object \n",
      " 6   Total_km        112 non-null    object \n",
      " 7   Distance_miles  112 non-null    object \n",
      " 8   Total_miles     112 non-null    object \n",
      " 9   Weather         112 non-null    object \n",
      " 10  Steps           112 non-null    float64\n",
      " 11  Stiles          112 non-null    float64\n",
      " 12  Dogs            112 non-null    float64\n",
      " 13  Cats            112 non-null    float64\n",
      " 14  Cow_encounters  112 non-null    float64\n",
      " 15  Cries           112 non-null    float64\n",
      " 16  Chickens        112 non-null    object \n",
      " 17  rain            112 non-null    int64  \n",
      " 18  sun             112 non-null    int64  \n",
      " 19  cloud           112 non-null    int64  \n",
      "dtypes: float64(7), int64(3), object(10)\n",
      "memory usage: 17.6+ KB\n"
     ]
    }
   ],
   "source": [
    "df.info()"
   ]
  },
  {
   "cell_type": "code",
   "execution_count": 262,
   "metadata": {},
   "outputs": [],
   "source": [
    "#convert distances to floats\n",
    "df[\"Distance_km\"] = df[\"Distance_km\"].astype('float')\n",
    "df[\"Distance_miles\"] = df[\"Distance_miles\"].astype('float')\n",
    "df[\"Total_km\"] = df[\"Total_km\"].astype('float')\n",
    "df[\"Total_miles\"] = df[\"Total_miles\"].astype('float')"
   ]
  },
  {
   "cell_type": "markdown",
   "metadata": {},
   "source": [
    "## Creating new features <a name=\"features\"></a>\n",
    "\n",
    "The weather column is currently full of strings in not very useful formats (different phrasing, descriptions etc). Let's pull out some keywords from this and create columns representing different weather states. "
   ]
  },
  {
   "cell_type": "code",
   "execution_count": 259,
   "metadata": {},
   "outputs": [],
   "source": [
    "df['rain'] = df['Weather'].apply(lambda x: 1 if 'rain' in x.lower() or 'showers' in x.lower() else 0)\n",
    "df['sun'] = df['Weather'].apply(lambda x: 1 if 'sun' in x.lower() or 'blue' in x.lower() else 0)\n",
    "df['cloud'] = df['Weather'].str.lower().apply(lambda x: 1 if 'cloud' in x.lower() or 'grey' in x.lower() else 0)"
   ]
  },
  {
   "cell_type": "code",
   "execution_count": 263,
   "metadata": {},
   "outputs": [
    {
     "data": {
      "text/html": [
       "<div>\n",
       "<style scoped>\n",
       "    .dataframe tbody tr th:only-of-type {\n",
       "        vertical-align: middle;\n",
       "    }\n",
       "\n",
       "    .dataframe tbody tr th {\n",
       "        vertical-align: top;\n",
       "    }\n",
       "\n",
       "    .dataframe thead th {\n",
       "        text-align: right;\n",
       "    }\n",
       "</style>\n",
       "<table border=\"1\" class=\"dataframe\">\n",
       "  <thead>\n",
       "    <tr style=\"text-align: right;\">\n",
       "      <th></th>\n",
       "      <th>Day_number</th>\n",
       "      <th>Date</th>\n",
       "      <th>Day_week</th>\n",
       "      <th>Start</th>\n",
       "      <th>End</th>\n",
       "      <th>Distance_km</th>\n",
       "      <th>Total_km</th>\n",
       "      <th>Distance_miles</th>\n",
       "      <th>Total_miles</th>\n",
       "      <th>Weather</th>\n",
       "      <th>Steps</th>\n",
       "      <th>Stiles</th>\n",
       "      <th>Dogs</th>\n",
       "      <th>Cats</th>\n",
       "      <th>Cow_encounters</th>\n",
       "      <th>Cries</th>\n",
       "      <th>Chickens</th>\n",
       "      <th>rain</th>\n",
       "      <th>sun</th>\n",
       "      <th>cloud</th>\n",
       "    </tr>\n",
       "  </thead>\n",
       "  <tbody>\n",
       "    <tr>\n",
       "      <th>0</th>\n",
       "      <td>1.0</td>\n",
       "      <td>18/05/2023</td>\n",
       "      <td>Thu</td>\n",
       "      <td>Land's End</td>\n",
       "      <td>Penzance</td>\n",
       "      <td>23.0</td>\n",
       "      <td>23.0</td>\n",
       "      <td>14.3</td>\n",
       "      <td>14.3</td>\n",
       "      <td>Sunny/cloudy</td>\n",
       "      <td>30982.0</td>\n",
       "      <td>6.0</td>\n",
       "      <td>5.0</td>\n",
       "      <td>1.0</td>\n",
       "      <td>0.0</td>\n",
       "      <td>0.0</td>\n",
       "      <td>0</td>\n",
       "      <td>0</td>\n",
       "      <td>1</td>\n",
       "      <td>1</td>\n",
       "    </tr>\n",
       "    <tr>\n",
       "      <th>1</th>\n",
       "      <td>2.0</td>\n",
       "      <td>19/05/2023</td>\n",
       "      <td>Fri</td>\n",
       "      <td>Penzance</td>\n",
       "      <td>Helston/Porthleven</td>\n",
       "      <td>25.0</td>\n",
       "      <td>48.0</td>\n",
       "      <td>15.5</td>\n",
       "      <td>29.8</td>\n",
       "      <td>Cloudy</td>\n",
       "      <td>35306.0</td>\n",
       "      <td>4.0</td>\n",
       "      <td>1.0</td>\n",
       "      <td>0.0</td>\n",
       "      <td>0.0</td>\n",
       "      <td>0.0</td>\n",
       "      <td>0</td>\n",
       "      <td>0</td>\n",
       "      <td>0</td>\n",
       "      <td>1</td>\n",
       "    </tr>\n",
       "    <tr>\n",
       "      <th>2</th>\n",
       "      <td>3.0</td>\n",
       "      <td>20/05/2023</td>\n",
       "      <td>Sat</td>\n",
       "      <td>Helston/Porthleven</td>\n",
       "      <td>Lizard</td>\n",
       "      <td>23.0</td>\n",
       "      <td>71.0</td>\n",
       "      <td>14.3</td>\n",
       "      <td>44.1</td>\n",
       "      <td>Blue skies</td>\n",
       "      <td>37643.0</td>\n",
       "      <td>9.0</td>\n",
       "      <td>3.0</td>\n",
       "      <td>0.0</td>\n",
       "      <td>0.0</td>\n",
       "      <td>0.0</td>\n",
       "      <td>0</td>\n",
       "      <td>0</td>\n",
       "      <td>1</td>\n",
       "      <td>0</td>\n",
       "    </tr>\n",
       "    <tr>\n",
       "      <th>3</th>\n",
       "      <td>4.0</td>\n",
       "      <td>21/05/2023</td>\n",
       "      <td>Sun</td>\n",
       "      <td>Lizard</td>\n",
       "      <td>Gweek</td>\n",
       "      <td>21.8</td>\n",
       "      <td>92.8</td>\n",
       "      <td>13.5</td>\n",
       "      <td>57.7</td>\n",
       "      <td>Blue skies</td>\n",
       "      <td>31287.0</td>\n",
       "      <td>2.0</td>\n",
       "      <td>0.0</td>\n",
       "      <td>0.0</td>\n",
       "      <td>0.0</td>\n",
       "      <td>0.0</td>\n",
       "      <td>0</td>\n",
       "      <td>0</td>\n",
       "      <td>1</td>\n",
       "      <td>0</td>\n",
       "    </tr>\n",
       "    <tr>\n",
       "      <th>4</th>\n",
       "      <td>5.0</td>\n",
       "      <td>22/05/2023</td>\n",
       "      <td>Mon</td>\n",
       "      <td>Gweek-ish</td>\n",
       "      <td>Falmouth</td>\n",
       "      <td>18.5</td>\n",
       "      <td>111.3</td>\n",
       "      <td>11.5</td>\n",
       "      <td>69.2</td>\n",
       "      <td>sunny/cloudy</td>\n",
       "      <td>25150.0</td>\n",
       "      <td>13.0</td>\n",
       "      <td>1.0</td>\n",
       "      <td>0.0</td>\n",
       "      <td>1.0</td>\n",
       "      <td>2.0</td>\n",
       "      <td>0</td>\n",
       "      <td>0</td>\n",
       "      <td>1</td>\n",
       "      <td>1</td>\n",
       "    </tr>\n",
       "  </tbody>\n",
       "</table>\n",
       "</div>"
      ],
      "text/plain": [
       "   Day_number        Date Day_week               Start                 End  \\\n",
       "0         1.0  18/05/2023      Thu          Land's End            Penzance   \n",
       "1         2.0  19/05/2023      Fri            Penzance  Helston/Porthleven   \n",
       "2         3.0  20/05/2023      Sat  Helston/Porthleven              Lizard   \n",
       "3         4.0  21/05/2023      Sun              Lizard               Gweek   \n",
       "4         5.0  22/05/2023      Mon           Gweek-ish            Falmouth   \n",
       "\n",
       "   Distance_km  Total_km  Distance_miles  Total_miles       Weather    Steps  \\\n",
       "0         23.0      23.0            14.3         14.3  Sunny/cloudy  30982.0   \n",
       "1         25.0      48.0            15.5         29.8        Cloudy  35306.0   \n",
       "2         23.0      71.0            14.3         44.1    Blue skies  37643.0   \n",
       "3         21.8      92.8            13.5         57.7    Blue skies  31287.0   \n",
       "4         18.5     111.3            11.5         69.2  sunny/cloudy  25150.0   \n",
       "\n",
       "   Stiles  Dogs  Cats  Cow_encounters  Cries Chickens  rain  sun  cloud  \n",
       "0     6.0   5.0   1.0             0.0    0.0        0     0    1      1  \n",
       "1     4.0   1.0   0.0             0.0    0.0        0     0    0      1  \n",
       "2     9.0   3.0   0.0             0.0    0.0        0     0    1      0  \n",
       "3     2.0   0.0   0.0             0.0    0.0        0     0    1      0  \n",
       "4    13.0   1.0   0.0             1.0    2.0        0     0    1      1  "
      ]
     },
     "execution_count": 263,
     "metadata": {},
     "output_type": "execute_result"
    }
   ],
   "source": [
    "df.head()"
   ]
  },
  {
   "cell_type": "markdown",
   "metadata": {},
   "source": [
    "# Exploratory Data Analysis <a name=\"EDA\"></a>"
   ]
  },
  {
   "cell_type": "code",
   "execution_count": 502,
   "metadata": {},
   "outputs": [
    {
     "data": {
      "image/png": "[encoded data removed]",
      "text/plain": [
       "<Figure size 432x288 with 1 Axes>"
      ]
     },
     "metadata": {
      "needs_background": "light"
     },
     "output_type": "display_data"
    }
   ],
   "source": [
    "plt.hist(df.Distance_km,bins=12,alpha=0.7)\n",
    "plt.xlim(0,)\n",
    "plt.xlabel(\"Distance (km)\")\n",
    "plt.ylabel(\"Count\");"
   ]
  },
  {
   "cell_type": "code",
   "execution_count": 503,
   "metadata": {},
   "outputs": [
    {
     "data": {
      "image/png": "[encoded data removed]",
      "text/plain": [
       "<Figure size 432x288 with 1 Axes>"
      ]
     },
     "metadata": {
      "needs_background": "light"
     },
     "output_type": "display_data"
    }
   ],
   "source": [
    "plt.hist(df.Steps,bins=16,alpha=0.7)\n",
    "plt.xlim(0,50000)\n",
    "plt.xlabel(\"Steps\")\n",
    "plt.ylabel(\"Count\");"
   ]
  },
  {
   "cell_type": "code",
   "execution_count": 335,
   "metadata": {},
   "outputs": [
    {
     "data": {
      "text/plain": [
       "<matplotlib.axes._subplots.AxesSubplot at 0x7f3a30922b00>"
      ]
     },
     "execution_count": 335,
     "metadata": {},
     "output_type": "execute_result"
    },
    {
     "data": {
      "image/png": "[encoded data removed]",
      "text/plain": [
       "<Figure size 432x288 with 1 Axes>"
      ]
     },
     "metadata": {
      "needs_background": "light"
     },
     "output_type": "display_data"
    }
   ],
   "source": [
    "df.Stiles.hist()"
   ]
  },
  {
   "cell_type": "code",
   "execution_count": 333,
   "metadata": {},
   "outputs": [
    {
     "data": {
      "text/plain": [
       "Text(0.5, 0, 'Day')"
      ]
     },
     "execution_count": 333,
     "metadata": {},
     "output_type": "execute_result"
    },
    {
     "data": {
      "image/png": "[encoded data removed]",
      "text/plain": [
       "<Figure size 432x288 with 1 Axes>"
      ]
     },
     "metadata": {
      "needs_background": "light"
     },
     "output_type": "display_data"
    }
   ],
   "source": [
    "sns.regplot(data=df[df.Distance_km>5],x=\"Day_number\",y=\"Distance_km\")\n",
    "plt.ylim(4,)\n",
    "plt.ylabel(\"Distance (km)\")\n",
    "plt.xlabel(\"Day\");"
   ]
  },
  {
   "cell_type": "markdown",
   "metadata": {},
   "source": [
    "Remarkably consistent. I expected that maybe there would be a slight upward trend as I got fitter but clearly not. Though subjectively, while I may not have been walking further each day, it definitely got easier!"
   ]
  },
  {
   "cell_type": "code",
   "execution_count": 384,
   "metadata": {
    "scrolled": true
   },
   "outputs": [
    {
     "data": {
      "image/png": "[encoded data removed]",
      "text/plain": [
       "<Figure size 432x288 with 1 Axes>"
      ]
     },
     "metadata": {
      "needs_background": "light"
     },
     "output_type": "display_data"
    }
   ],
   "source": [
    "rainy_days_df = df[df[\"rain\"] == 1]\n",
    "sunny_days_df = df[df[\"sun\"] == 1]\n",
    "cloudy_days_df = df[df[\"cloud\"] == 1]\n",
    "\n",
    "plt.hist(rainy_days_df[\"Distance_km\"], bins=8,range=(0,40),alpha=0.8,label=\"Rainy\", density=True)\n",
    "plt.hist(sunny_days_df[\"Distance_km\"], bins=8,range=(0,40),alpha=0.8,label=\"Sunny\", density=True)\n",
    "\n",
    "plt.legend()\n",
    "plt.xlabel('Distance Walked (km)')\n",
    "plt.ylabel('Frequency')\n",
    "plt.xlim(0,40);"
   ]
  },
  {
   "cell_type": "code",
   "execution_count": 527,
   "metadata": {},
   "outputs": [
    {
     "data": {
      "image/png": "[encoded data removed]",
      "text/plain": [
       "<Figure size 1080x360 with 1 Axes>"
      ]
     },
     "metadata": {
      "needs_background": "light"
     },
     "output_type": "display_data"
    }
   ],
   "source": [
    "plt.figure(figsize=(15,5))\n",
    "plt.bar(df.Day_number,df.Distance_km)\n",
    "plt.xlim(0,113)\n",
    "plt.xlabel(\"Day Number\",fontsize=12)\n",
    "plt.ylabel(\"Distance (km)\", fontsize=12)\n",
    "\n",
    "avg_distance = np.mean(df.Distance_km)\n",
    "avg_distance_exc_rest = np.mean(df[df.Distance_km>5].Distance_km)\n",
    "plt.hlines(avg_distance,0,113,color='k',alpha=0.5,label=\"Average distance\",linewidths=3)\n",
    "plt.hlines(avg_distance_exc_rest,0,113,linestyle=\"--\",color='k',alpha=0.5,\n",
    "           label=\"Average distance (excluding rest days)\",linewidths=3)\n",
    "plt.legend(loc='lower right',fontsize=12);"
   ]
  },
  {
   "cell_type": "code",
   "execution_count": 489,
   "metadata": {},
   "outputs": [],
   "source": [
    "def draw_brace(ax, xspan, yy, text, font_size):\n",
    "    \"\"\"Draws an annotated brace on the axes.\"\"\"\n",
    "    xmin, xmax = xspan\n",
    "    xspan = xmax - xmin\n",
    "    ax_xmin, ax_xmax = ax.get_xlim()\n",
    "    xax_span = ax_xmax - ax_xmin\n",
    "\n",
    "    ymin, ymax = ax.get_ylim()\n",
    "    yspan = ymax - ymin\n",
    "    resolution = int(xspan/xax_span*100)*2+1 # guaranteed uneven\n",
    "    beta = 300./xax_span # the higher this is, the smaller the radius\n",
    "\n",
    "    x = np.linspace(xmin, xmax, resolution)\n",
    "    x_half = x[:int(resolution/2)+1]\n",
    "    y_half_brace = (1/(1.+np.exp(-beta*(x_half-x_half[0])))\n",
    "                    + 1/(1.+np.exp(-beta*(x_half-x_half[-1]))))\n",
    "    y = np.concatenate((y_half_brace, y_half_brace[-2::-1]))\n",
    "    y = yy + (.05*y - .01)*yspan # adjust vertical position\n",
    "\n",
    "    ax.autoscale(False)\n",
    "    ax.plot(x, y, color='black', lw=1)\n",
    "\n",
    "    ax.text((xmax+xmin)/2., yy+.09*yspan, text, ha='center', va='bottom', fontsize=font_size)"
   ]
  },
  {
   "cell_type": "code",
   "execution_count": 495,
   "metadata": {},
   "outputs": [
    {
     "data": {
      "image/png": "[encoded data removed]",
      "text/plain": [
       "<Figure size 1080x360 with 1 Axes>"
      ]
     },
     "metadata": {
      "needs_background": "light"
     },
     "output_type": "display_data"
    }
   ],
   "source": [
    "font_size = 12\n",
    "\n",
    "plt.figure(figsize=(15,5))\n",
    "plt.bar(df.Day_number,df.Cries)\n",
    "plt.xlim(0,112)\n",
    "plt.xlabel(\"Day Number\",fontsize=font_size)\n",
    "plt.ylabel(\"Number of times I cried...\",fontsize=font_size)\n",
    "plt.xticks(np.arange(0,110,10))\n",
    "\n",
    "\n",
    "plt.annotate(\"Wondering what I've \\n signed up for...\", xy=(5,2.2), xytext=(10,3.8),\n",
    "             horizontalalignment='center', fontsize=font_size,\n",
    "             arrowprops={'arrowstyle':'->', 'connectionstyle':'arc3,rad=0.2'})\n",
    "plt.annotate(\"\", xy=(12.5,2.6), xytext=(11,3.7),horizontalalignment='center',\n",
    "             arrowprops={'arrowstyle':'->', 'connectionstyle':'arc3,rad=-0.4'})\n",
    "\n",
    "plt.annotate(\"Saying goodbye to family!\", xy=(26,1.5), xytext=(35,2.5),\n",
    "             horizontalalignment='center', fontsize=font_size,\n",
    "             arrowprops={'arrowstyle':'->', 'connectionstyle':'arc3,rad=-0.2'})\n",
    "plt.annotate(\"\", xy=(39,1), xytext=(35,2.4),horizontalalignment='center',\n",
    "             arrowprops={'arrowstyle':'->', 'connectionstyle':'arc3,rad=-0.2'})\n",
    "plt.annotate(\"\", xy=(60.5,1), xytext=(36,2.4),horizontalalignment='center',\n",
    "             arrowprops={'arrowstyle':'->', 'connectionstyle':'arc3,rad=0.2'})\n",
    "\n",
    "plt.annotate(\"Pennine Way! \\n The closest I came \\n to quitting the walk!\",\n",
    "             xy=(51,3), xytext=(60,4),horizontalalignment='center', fontsize=font_size,\n",
    "             arrowprops={'arrowstyle':'->', 'connectionstyle':'arc3,rad=-0.2'})\n",
    "\n",
    "plt.annotate(\"Scottish border: \\n Cliff edges + awful weather! \",\n",
    "             xy=(78,2), xytext=(90,2.75),horizontalalignment='center', fontsize=font_size,\n",
    "             arrowprops={'arrowstyle':'->', 'connectionstyle':'arc3,rad=-0.2'})\n",
    "\n",
    "ax = plt.gca()\n",
    "draw_brace(ax, (80, 110), 0.05, \"The glorious highlands where \\n I didn't want it to ever end!\", font_size)"
   ]
  },
  {
   "cell_type": "code",
   "execution_count": 385,
   "metadata": {},
   "outputs": [
    {
     "data": {
      "text/plain": [
       "<matplotlib.axes._subplots.AxesSubplot at 0x7f3a307aee80>"
      ]
     },
     "execution_count": 385,
     "metadata": {},
     "output_type": "execute_result"
    },
    {
     "data": {
      "image/png": "[encoded data removed]",
      "text/plain": [
       "<Figure size 720x576 with 2 Axes>"
      ]
     },
     "metadata": {
      "needs_background": "light"
     },
     "output_type": "display_data"
    }
   ],
   "source": [
    "columns_for_correlation = [\"Distance_km\", \"Steps\", \"Stiles\", \"Dogs\", \"Cats\", \"Cow_encounters\", \"Cries\",\"Chickens\", \n",
    "                           \"rain\", \"sun\", \"cloud\"]\n",
    "\n",
    "correlation_matrix = df[columns_for_correlation].corr()\n",
    "\n",
    "plt.figure(figsize=(10, 8))\n",
    "cmap = sns.diverging_palette(220,10,as_cmap=True)\n",
    "sns.heatmap(correlation_matrix, annot=True, cmap=cmap, fmt=\".2f\");"
   ]
  },
  {
   "cell_type": "code",
   "execution_count": 381,
   "metadata": {},
   "outputs": [
    {
     "data": {
      "image/png": "[encoded data removed]",
      "text/plain": [
       "<Figure size 720x576 with 2 Axes>"
      ]
     },
     "metadata": {
      "needs_background": "light"
     },
     "output_type": "display_data"
    }
   ],
   "source": [
    "columns_for_correlation = [\"Distance_km\", \"Steps\", \"Stiles\", \"Dogs\", \"Cats\", \"Cow_encounters\", \"Cries\",\"Chickens\", \"rain\", \"sun\", \"cloud\"]\n",
    "\n",
    "correlation_matrix = df[columns_for_correlation].corr()\n",
    "\n",
    "mask = np.triu(np.ones_like(correlation_matrix, dtype=bool))\n",
    "mask[np.diag_indices_from(mask)] = False\n",
    "\n",
    "plt.figure(figsize=(10, 8))\n",
    "sns.heatmap(correlation_matrix, annot=True, cmap=cmap, fmt=\".2f\", mask=mask);"
   ]
  },
  {
   "cell_type": "code",
   "execution_count": 382,
   "metadata": {},
   "outputs": [
    {
     "data": {
      "image/png": "[encoded data removed]",
      "text/plain": [
       "<Figure size 720x432 with 1 Axes>"
      ]
     },
     "metadata": {
      "needs_background": "light"
     },
     "output_type": "display_data"
    }
   ],
   "source": [
    "day_order = ['Mon', 'Tue', 'Wed', 'Thu', 'Fri', 'Sat', 'Sun']\n",
    "\n",
    "# Set the figure size\n",
    "plt.figure(figsize=(10, 6))\n",
    "\n",
    "# Calculate the average distance walked on each day of the week\n",
    "average_distance_per_day = df.groupby('Day_week')['Distance_km'].mean().reset_index()\n",
    "\n",
    "# Plot the average distance walked on each day of the week with specified order\n",
    "sns.barplot(x='Day_week', y='Distance_km', data=average_distance_per_day, order=day_order, palette='Blues')\n",
    "plt.title('Average Distance Walked on Each Day of the Week')\n",
    "plt.xlabel('Day of the Week')\n",
    "plt.ylabel('Average Distance Walked (km)');"
   ]
  },
  {
   "cell_type": "code",
   "execution_count": 383,
   "metadata": {},
   "outputs": [
    {
     "data": {
      "image/png": "[encoded data removed]",
      "text/plain": [
       "<Figure size 720x432 with 1 Axes>"
      ]
     },
     "metadata": {
      "needs_background": "light"
     },
     "output_type": "display_data"
    }
   ],
   "source": [
    "df_rest_days = df[df['Distance_km'] <= 5]\n",
    "\n",
    "# Set the figure size\n",
    "plt.figure(figsize=(10, 6))\n",
    "\n",
    "# Plot the number of times walked less than or equal to 5km by day of the week\n",
    "sns.countplot(x='Day_week', data=df_rest_days, order=day_order, palette='Reds')\n",
    "plt.title('Rest Days')\n",
    "plt.xlabel('Day of the Week')\n",
    "plt.ylabel('Count');"
   ]
  },
  {
   "cell_type": "code",
   "execution_count": null,
   "metadata": {},
   "outputs": [],
   "source": []
  }
 ],
 "metadata": {
  "kernelspec": {
   "display_name": "Python 3",
   "language": "python",
   "name": "python3"
  },
  "language_info": {
   "codemirror_mode": {
    "name": "ipython",
    "version": 3
   },
   "file_extension": ".py",
   "mimetype": "text/x-python",
   "name": "python",
   "nbconvert_exporter": "python",
   "pygments_lexer": "ipython3",
   "version": "3.6.9"
  }
 },
 "nbformat": 4,
 "nbformat_minor": 2
}
