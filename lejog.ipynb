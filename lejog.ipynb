{
 "cells": [
  {
   "cell_type": "markdown",
   "metadata": {},
   "source": [
    "# Land's End To John O'Groats Analysis\n",
    "\n",
    "In Summer 2023, I completed a walk from one end of the UK to the other. This is a quick look at the stats!"
   ]
  },
  {
   "cell_type": "markdown",
   "metadata": {},
   "source": [
    "# Table of Contents\n",
    "\n",
    "1. [Introduction](#intro)\n",
    "2. [Dataset](#data)\n",
    "3. [Loading Modules and data](#loading)\n",
    "4. [Data Cleaning](#cleaning)"
   ]
  },
  {
   "cell_type": "markdown",
   "metadata": {},
   "source": [
    "# Introduction <a name=\"intro\"></a>"
   ]
  },
  {
   "cell_type": "markdown",
   "metadata": {},
   "source": [
    "# Dataset <a name=\"data\"></a>"
   ]
  },
  {
   "cell_type": "markdown",
   "metadata": {},
   "source": [
    "# Loading modules and data <a name=\"loading\"></a>\n"
   ]
  },
  {
   "cell_type": "code",
   "execution_count": 984,
   "metadata": {},
   "outputs": [],
   "source": [
    "import matplotlib.pyplot as plt\n",
    "import pandas as pd\n",
    "import numpy as np\n",
    "import seaborn as sns\n",
    "import requests\n",
    "import urllib.parse\n",
    "import geopy.distance\n",
    "import plotly.express as px\n"
   ]
  },
  {
   "cell_type": "code",
   "execution_count": 985,
   "metadata": {},
   "outputs": [],
   "source": [
    "df_overview = pd.read_csv(\"overview.csv\")\n",
    "df_counts = pd.read_csv(\"counts.csv\")"
   ]
  },
  {
   "cell_type": "code",
   "execution_count": 986,
   "metadata": {},
   "outputs": [
    {
     "data": {
      "text/html": [
       "<div>\n",
       "<style scoped>\n",
       "    .dataframe tbody tr th:only-of-type {\n",
       "        vertical-align: middle;\n",
       "    }\n",
       "\n",
       "    .dataframe tbody tr th {\n",
       "        vertical-align: top;\n",
       "    }\n",
       "\n",
       "    .dataframe thead th {\n",
       "        text-align: right;\n",
       "    }\n",
       "</style>\n",
       "<table border=\"1\" class=\"dataframe\">\n",
       "  <thead>\n",
       "    <tr style=\"text-align: right;\">\n",
       "      <th></th>\n",
       "      <th>Day</th>\n",
       "      <th>Days Left</th>\n",
       "      <th>Unnamed: 2</th>\n",
       "      <th>Date</th>\n",
       "      <th>Day.1</th>\n",
       "      <th>Start</th>\n",
       "      <th>End</th>\n",
       "      <th>Distance (km)</th>\n",
       "      <th>Total (km)</th>\n",
       "      <th>Distance (mi)</th>\n",
       "      <th>Total (mi)</th>\n",
       "      <th>Assistance</th>\n",
       "      <th>Notes</th>\n",
       "      <th>Unnamed: 13</th>\n",
       "      <th>Unnamed: 14</th>\n",
       "    </tr>\n",
       "  </thead>\n",
       "  <tbody>\n",
       "    <tr>\n",
       "      <th>0</th>\n",
       "      <td>0.0</td>\n",
       "      <td>NaN</td>\n",
       "      <td>NaN</td>\n",
       "      <td>17/05/2023</td>\n",
       "      <td>Wed</td>\n",
       "      <td>-</td>\n",
       "      <td>-</td>\n",
       "      <td>-</td>\n",
       "      <td>-</td>\n",
       "      <td>-</td>\n",
       "      <td>-</td>\n",
       "      <td>Mum/Dad</td>\n",
       "      <td>Travel Day</td>\n",
       "      <td>NaN</td>\n",
       "      <td>NaN</td>\n",
       "    </tr>\n",
       "    <tr>\n",
       "      <th>1</th>\n",
       "      <td>1.0</td>\n",
       "      <td>113.0</td>\n",
       "      <td>0%</td>\n",
       "      <td>18/05/2023</td>\n",
       "      <td>Thu</td>\n",
       "      <td>Land's End</td>\n",
       "      <td>Penzance</td>\n",
       "      <td>23</td>\n",
       "      <td>23</td>\n",
       "      <td>14.3</td>\n",
       "      <td>14.3</td>\n",
       "      <td>Mum/Dad</td>\n",
       "      <td>NaN</td>\n",
       "      <td>NaN</td>\n",
       "      <td>NaN</td>\n",
       "    </tr>\n",
       "    <tr>\n",
       "      <th>2</th>\n",
       "      <td>2.0</td>\n",
       "      <td>112.0</td>\n",
       "      <td>2%</td>\n",
       "      <td>19/05/2023</td>\n",
       "      <td>Fri</td>\n",
       "      <td>Penzance</td>\n",
       "      <td>Helston/Porthleven</td>\n",
       "      <td>25</td>\n",
       "      <td>48</td>\n",
       "      <td>15.5</td>\n",
       "      <td>29.8</td>\n",
       "      <td>Mum/Dad</td>\n",
       "      <td>to helston (25km) or to porthleven (22km) hilly!</td>\n",
       "      <td>NaN</td>\n",
       "      <td>NaN</td>\n",
       "    </tr>\n",
       "    <tr>\n",
       "      <th>3</th>\n",
       "      <td>3.0</td>\n",
       "      <td>111.0</td>\n",
       "      <td>3%</td>\n",
       "      <td>20/05/2023</td>\n",
       "      <td>Sat</td>\n",
       "      <td>Helston/Porthleven</td>\n",
       "      <td>Lizard</td>\n",
       "      <td>23</td>\n",
       "      <td>71</td>\n",
       "      <td>14.3</td>\n",
       "      <td>44.1</td>\n",
       "      <td>Mum/Dad</td>\n",
       "      <td>NaN</td>\n",
       "      <td>NaN</td>\n",
       "      <td>NaN</td>\n",
       "    </tr>\n",
       "    <tr>\n",
       "      <th>4</th>\n",
       "      <td>4.0</td>\n",
       "      <td>110.0</td>\n",
       "      <td>3%</td>\n",
       "      <td>21/05/2023</td>\n",
       "      <td>Sun</td>\n",
       "      <td>Lizard</td>\n",
       "      <td>Gweek</td>\n",
       "      <td>21.8</td>\n",
       "      <td>92.8</td>\n",
       "      <td>13.5</td>\n",
       "      <td>57.7</td>\n",
       "      <td>Mum/Dad</td>\n",
       "      <td>NaN</td>\n",
       "      <td>NaN</td>\n",
       "      <td>NaN</td>\n",
       "    </tr>\n",
       "  </tbody>\n",
       "</table>\n",
       "</div>"
      ],
      "text/plain": [
       "   Day  Days Left Unnamed: 2        Date Day.1               Start  \\\n",
       "0  0.0        NaN        NaN  17/05/2023   Wed                   -   \n",
       "1  1.0      113.0         0%  18/05/2023   Thu          Land's End   \n",
       "2  2.0      112.0         2%  19/05/2023   Fri            Penzance   \n",
       "3  3.0      111.0         3%  20/05/2023   Sat  Helston/Porthleven   \n",
       "4  4.0      110.0         3%  21/05/2023   Sun              Lizard   \n",
       "\n",
       "                  End Distance (km) Total (km) Distance (mi) Total (mi)  \\\n",
       "0                   -             -          -             -          -   \n",
       "1            Penzance            23         23          14.3       14.3   \n",
       "2  Helston/Porthleven            25         48          15.5       29.8   \n",
       "3              Lizard            23         71          14.3       44.1   \n",
       "4               Gweek          21.8       92.8          13.5       57.7   \n",
       "\n",
       "  Assistance                                             Notes Unnamed: 13  \\\n",
       "0    Mum/Dad                                        Travel Day         NaN   \n",
       "1    Mum/Dad                                               NaN         NaN   \n",
       "2    Mum/Dad  to helston (25km) or to porthleven (22km) hilly!         NaN   \n",
       "3    Mum/Dad                                               NaN         NaN   \n",
       "4    Mum/Dad                                               NaN         NaN   \n",
       "\n",
       "  Unnamed: 14  \n",
       "0         NaN  \n",
       "1         NaN  \n",
       "2         NaN  \n",
       "3         NaN  \n",
       "4         NaN  "
      ]
     },
     "execution_count": 986,
     "metadata": {},
     "output_type": "execute_result"
    }
   ],
   "source": [
    "df_overview.head()"
   ]
  },
  {
   "cell_type": "code",
   "execution_count": 987,
   "metadata": {},
   "outputs": [
    {
     "data": {
      "text/html": [
       "<div>\n",
       "<style scoped>\n",
       "    .dataframe tbody tr th:only-of-type {\n",
       "        vertical-align: middle;\n",
       "    }\n",
       "\n",
       "    .dataframe tbody tr th {\n",
       "        vertical-align: top;\n",
       "    }\n",
       "\n",
       "    .dataframe thead th {\n",
       "        text-align: right;\n",
       "    }\n",
       "</style>\n",
       "<table border=\"1\" class=\"dataframe\">\n",
       "  <thead>\n",
       "    <tr style=\"text-align: right;\">\n",
       "      <th></th>\n",
       "      <th>Day</th>\n",
       "      <th>Date</th>\n",
       "      <th>Day.1</th>\n",
       "      <th>Start</th>\n",
       "      <th>End</th>\n",
       "      <th>Km</th>\n",
       "      <th>Weather</th>\n",
       "      <th>Steps</th>\n",
       "      <th>Stiles</th>\n",
       "      <th>Dog petting</th>\n",
       "      <th>Cat stroking</th>\n",
       "      <th>Cow encounters</th>\n",
       "      <th>Mood</th>\n",
       "      <th>Cries</th>\n",
       "      <th>Chickens</th>\n",
       "      <th>County</th>\n",
       "      <th>Unnamed: 16</th>\n",
       "      <th>Unnamed: 17</th>\n",
       "    </tr>\n",
       "  </thead>\n",
       "  <tbody>\n",
       "    <tr>\n",
       "      <th>0</th>\n",
       "      <td>NaN</td>\n",
       "      <td>NaN</td>\n",
       "      <td>NaN</td>\n",
       "      <td>NaN</td>\n",
       "      <td>NaN</td>\n",
       "      <td>NaN</td>\n",
       "      <td>NaN</td>\n",
       "      <td>3157177.0</td>\n",
       "      <td>243.0</td>\n",
       "      <td>94.0</td>\n",
       "      <td>11.0</td>\n",
       "      <td>6.0</td>\n",
       "      <td>NaN</td>\n",
       "      <td>25.0</td>\n",
       "      <td>NaN</td>\n",
       "      <td>NaN</td>\n",
       "      <td>NaN</td>\n",
       "      <td>NaN</td>\n",
       "    </tr>\n",
       "    <tr>\n",
       "      <th>1</th>\n",
       "      <td>0.0</td>\n",
       "      <td>17/05/2023</td>\n",
       "      <td>Wed</td>\n",
       "      <td>-</td>\n",
       "      <td>-</td>\n",
       "      <td>-</td>\n",
       "      <td>NaN</td>\n",
       "      <td>NaN</td>\n",
       "      <td>NaN</td>\n",
       "      <td>NaN</td>\n",
       "      <td>NaN</td>\n",
       "      <td>NaN</td>\n",
       "      <td>NaN</td>\n",
       "      <td>NaN</td>\n",
       "      <td>NaN</td>\n",
       "      <td>NaN</td>\n",
       "      <td>NaN</td>\n",
       "      <td>NaN</td>\n",
       "    </tr>\n",
       "    <tr>\n",
       "      <th>2</th>\n",
       "      <td>1.0</td>\n",
       "      <td>18/05/2023</td>\n",
       "      <td>Thu</td>\n",
       "      <td>Land's End</td>\n",
       "      <td>Penzance</td>\n",
       "      <td>23</td>\n",
       "      <td>Sunny/cloudy</td>\n",
       "      <td>30982.0</td>\n",
       "      <td>6.0</td>\n",
       "      <td>5.0</td>\n",
       "      <td>1.0</td>\n",
       "      <td>0.0</td>\n",
       "      <td>10.0</td>\n",
       "      <td>0.0</td>\n",
       "      <td>NaN</td>\n",
       "      <td>Cornwall</td>\n",
       "      <td>NaN</td>\n",
       "      <td>NaN</td>\n",
       "    </tr>\n",
       "    <tr>\n",
       "      <th>3</th>\n",
       "      <td>2.0</td>\n",
       "      <td>19/05/2023</td>\n",
       "      <td>Fri</td>\n",
       "      <td>Penzance</td>\n",
       "      <td>Helston/Porthleven</td>\n",
       "      <td>25</td>\n",
       "      <td>Cloudy</td>\n",
       "      <td>35306.0</td>\n",
       "      <td>4.0</td>\n",
       "      <td>1.0</td>\n",
       "      <td>0.0</td>\n",
       "      <td>0.0</td>\n",
       "      <td>9.0</td>\n",
       "      <td>0.0</td>\n",
       "      <td>NaN</td>\n",
       "      <td>Cornwall</td>\n",
       "      <td>NaN</td>\n",
       "      <td>NaN</td>\n",
       "    </tr>\n",
       "    <tr>\n",
       "      <th>4</th>\n",
       "      <td>3.0</td>\n",
       "      <td>20/05/2023</td>\n",
       "      <td>Sat</td>\n",
       "      <td>Helston/Porthleven</td>\n",
       "      <td>Lizard</td>\n",
       "      <td>23</td>\n",
       "      <td>Blue skies</td>\n",
       "      <td>37643.0</td>\n",
       "      <td>9.0</td>\n",
       "      <td>3.0</td>\n",
       "      <td>0.0</td>\n",
       "      <td>0.0</td>\n",
       "      <td>8.0</td>\n",
       "      <td>0.0</td>\n",
       "      <td>NaN</td>\n",
       "      <td>Cornwall</td>\n",
       "      <td>NaN</td>\n",
       "      <td>cornwall</td>\n",
       "    </tr>\n",
       "  </tbody>\n",
       "</table>\n",
       "</div>"
      ],
      "text/plain": [
       "   Day        Date Day.1               Start                 End   Km  \\\n",
       "0  NaN         NaN   NaN                 NaN                 NaN  NaN   \n",
       "1  0.0  17/05/2023   Wed                   -                   -    -   \n",
       "2  1.0  18/05/2023   Thu          Land's End            Penzance   23   \n",
       "3  2.0  19/05/2023   Fri            Penzance  Helston/Porthleven   25   \n",
       "4  3.0  20/05/2023   Sat  Helston/Porthleven              Lizard   23   \n",
       "\n",
       "        Weather      Steps  Stiles  Dog petting  Cat stroking  Cow encounters  \\\n",
       "0           NaN  3157177.0   243.0         94.0          11.0             6.0   \n",
       "1           NaN        NaN     NaN          NaN           NaN             NaN   \n",
       "2  Sunny/cloudy    30982.0     6.0          5.0           1.0             0.0   \n",
       "3        Cloudy    35306.0     4.0          1.0           0.0             0.0   \n",
       "4    Blue skies    37643.0     9.0          3.0           0.0             0.0   \n",
       "\n",
       "   Mood  Cries Chickens    County Unnamed: 16 Unnamed: 17  \n",
       "0   NaN   25.0      NaN       NaN         NaN         NaN  \n",
       "1   NaN    NaN      NaN       NaN         NaN         NaN  \n",
       "2  10.0    0.0      NaN  Cornwall         NaN         NaN  \n",
       "3   9.0    0.0      NaN  Cornwall         NaN         NaN  \n",
       "4   8.0    0.0      NaN  Cornwall         NaN    cornwall  "
      ]
     },
     "execution_count": 987,
     "metadata": {},
     "output_type": "execute_result"
    }
   ],
   "source": [
    "df_counts.head()"
   ]
  },
  {
   "cell_type": "markdown",
   "metadata": {},
   "source": [
    "# Data Cleaning <a name=\"cleaning\"></a>"
   ]
  },
  {
   "cell_type": "code",
   "execution_count": 988,
   "metadata": {},
   "outputs": [
    {
     "data": {
      "text/html": [
       "<div>\n",
       "<style scoped>\n",
       "    .dataframe tbody tr th:only-of-type {\n",
       "        vertical-align: middle;\n",
       "    }\n",
       "\n",
       "    .dataframe tbody tr th {\n",
       "        vertical-align: top;\n",
       "    }\n",
       "\n",
       "    .dataframe thead th {\n",
       "        text-align: right;\n",
       "    }\n",
       "</style>\n",
       "<table border=\"1\" class=\"dataframe\">\n",
       "  <thead>\n",
       "    <tr style=\"text-align: right;\">\n",
       "      <th></th>\n",
       "      <th>Day</th>\n",
       "      <th>Date</th>\n",
       "      <th>Day.1</th>\n",
       "      <th>Start</th>\n",
       "      <th>End</th>\n",
       "      <th>Km</th>\n",
       "      <th>Weather</th>\n",
       "      <th>Steps</th>\n",
       "      <th>Stiles</th>\n",
       "      <th>Dog petting</th>\n",
       "      <th>Cat stroking</th>\n",
       "      <th>Cow encounters</th>\n",
       "      <th>Mood</th>\n",
       "      <th>Cries</th>\n",
       "      <th>Chickens</th>\n",
       "      <th>County</th>\n",
       "      <th>Unnamed: 16</th>\n",
       "      <th>Unnamed: 17</th>\n",
       "    </tr>\n",
       "  </thead>\n",
       "  <tbody>\n",
       "    <tr>\n",
       "      <th>0</th>\n",
       "      <td>0.0</td>\n",
       "      <td>17/05/2023</td>\n",
       "      <td>Wed</td>\n",
       "      <td>-</td>\n",
       "      <td>-</td>\n",
       "      <td>-</td>\n",
       "      <td>NaN</td>\n",
       "      <td>NaN</td>\n",
       "      <td>NaN</td>\n",
       "      <td>NaN</td>\n",
       "      <td>NaN</td>\n",
       "      <td>NaN</td>\n",
       "      <td>NaN</td>\n",
       "      <td>NaN</td>\n",
       "      <td>NaN</td>\n",
       "      <td>NaN</td>\n",
       "      <td>NaN</td>\n",
       "      <td>NaN</td>\n",
       "    </tr>\n",
       "    <tr>\n",
       "      <th>1</th>\n",
       "      <td>1.0</td>\n",
       "      <td>18/05/2023</td>\n",
       "      <td>Thu</td>\n",
       "      <td>Land's End</td>\n",
       "      <td>Penzance</td>\n",
       "      <td>23</td>\n",
       "      <td>Sunny/cloudy</td>\n",
       "      <td>30982.0</td>\n",
       "      <td>6.0</td>\n",
       "      <td>5.0</td>\n",
       "      <td>1.0</td>\n",
       "      <td>0.0</td>\n",
       "      <td>10.0</td>\n",
       "      <td>0.0</td>\n",
       "      <td>NaN</td>\n",
       "      <td>Cornwall</td>\n",
       "      <td>NaN</td>\n",
       "      <td>NaN</td>\n",
       "    </tr>\n",
       "    <tr>\n",
       "      <th>2</th>\n",
       "      <td>2.0</td>\n",
       "      <td>19/05/2023</td>\n",
       "      <td>Fri</td>\n",
       "      <td>Penzance</td>\n",
       "      <td>Helston/Porthleven</td>\n",
       "      <td>25</td>\n",
       "      <td>Cloudy</td>\n",
       "      <td>35306.0</td>\n",
       "      <td>4.0</td>\n",
       "      <td>1.0</td>\n",
       "      <td>0.0</td>\n",
       "      <td>0.0</td>\n",
       "      <td>9.0</td>\n",
       "      <td>0.0</td>\n",
       "      <td>NaN</td>\n",
       "      <td>Cornwall</td>\n",
       "      <td>NaN</td>\n",
       "      <td>NaN</td>\n",
       "    </tr>\n",
       "    <tr>\n",
       "      <th>3</th>\n",
       "      <td>3.0</td>\n",
       "      <td>20/05/2023</td>\n",
       "      <td>Sat</td>\n",
       "      <td>Helston/Porthleven</td>\n",
       "      <td>Lizard</td>\n",
       "      <td>23</td>\n",
       "      <td>Blue skies</td>\n",
       "      <td>37643.0</td>\n",
       "      <td>9.0</td>\n",
       "      <td>3.0</td>\n",
       "      <td>0.0</td>\n",
       "      <td>0.0</td>\n",
       "      <td>8.0</td>\n",
       "      <td>0.0</td>\n",
       "      <td>NaN</td>\n",
       "      <td>Cornwall</td>\n",
       "      <td>NaN</td>\n",
       "      <td>cornwall</td>\n",
       "    </tr>\n",
       "    <tr>\n",
       "      <th>4</th>\n",
       "      <td>4.0</td>\n",
       "      <td>21/05/2023</td>\n",
       "      <td>Sun</td>\n",
       "      <td>Lizard</td>\n",
       "      <td>Gweek</td>\n",
       "      <td>21.8</td>\n",
       "      <td>Blue skies</td>\n",
       "      <td>31287.0</td>\n",
       "      <td>2.0</td>\n",
       "      <td>0.0</td>\n",
       "      <td>0.0</td>\n",
       "      <td>0.0</td>\n",
       "      <td>8.0</td>\n",
       "      <td>0.0</td>\n",
       "      <td>NaN</td>\n",
       "      <td>Cornwall</td>\n",
       "      <td>NaN</td>\n",
       "      <td>devon</td>\n",
       "    </tr>\n",
       "  </tbody>\n",
       "</table>\n",
       "</div>"
      ],
      "text/plain": [
       "   Day        Date Day.1               Start                 End    Km  \\\n",
       "0  0.0  17/05/2023   Wed                   -                   -     -   \n",
       "1  1.0  18/05/2023   Thu          Land's End            Penzance    23   \n",
       "2  2.0  19/05/2023   Fri            Penzance  Helston/Porthleven    25   \n",
       "3  3.0  20/05/2023   Sat  Helston/Porthleven              Lizard    23   \n",
       "4  4.0  21/05/2023   Sun              Lizard               Gweek  21.8   \n",
       "\n",
       "        Weather    Steps  Stiles  Dog petting  Cat stroking  Cow encounters  \\\n",
       "0           NaN      NaN     NaN          NaN           NaN             NaN   \n",
       "1  Sunny/cloudy  30982.0     6.0          5.0           1.0             0.0   \n",
       "2        Cloudy  35306.0     4.0          1.0           0.0             0.0   \n",
       "3    Blue skies  37643.0     9.0          3.0           0.0             0.0   \n",
       "4    Blue skies  31287.0     2.0          0.0           0.0             0.0   \n",
       "\n",
       "   Mood  Cries Chickens    County Unnamed: 16 Unnamed: 17  \n",
       "0   NaN    NaN      NaN       NaN         NaN         NaN  \n",
       "1  10.0    0.0      NaN  Cornwall         NaN         NaN  \n",
       "2   9.0    0.0      NaN  Cornwall         NaN         NaN  \n",
       "3   8.0    0.0      NaN  Cornwall         NaN    cornwall  \n",
       "4   8.0    0.0      NaN  Cornwall         NaN       devon  "
      ]
     },
     "execution_count": 988,
     "metadata": {},
     "output_type": "execute_result"
    }
   ],
   "source": [
    "#remove first row of counts dataframe \n",
    "df_counts = df_counts.drop([0],axis=0)\n",
    "df_counts.reset_index(drop=True, inplace=True)\n",
    "df_counts.head()"
   ]
  },
  {
   "cell_type": "markdown",
   "metadata": {},
   "source": [
    "Join the two dataframes into one"
   ]
  },
  {
   "cell_type": "code",
   "execution_count": 989,
   "metadata": {},
   "outputs": [],
   "source": [
    "# Join the two dataframes into one\n",
    "df = pd.concat([df_overview, df_counts], axis=1)"
   ]
  },
  {
   "cell_type": "code",
   "execution_count": 990,
   "metadata": {},
   "outputs": [],
   "source": [
    "#remove duplicate columns\n",
    "df = df.loc[:,~df.columns.duplicated()].copy()"
   ]
  },
  {
   "cell_type": "code",
   "execution_count": 991,
   "metadata": {},
   "outputs": [
    {
     "data": {
      "text/plain": [
       "Index(['Day', 'Days Left', 'Unnamed: 2', 'Date', 'Day.1', 'Start', 'End',\n",
       "       'Distance (km)', 'Total (km)', 'Distance (mi)', 'Total (mi)',\n",
       "       'Assistance', 'Notes', 'Unnamed: 13', 'Unnamed: 14', 'Km', 'Weather',\n",
       "       'Steps', 'Stiles', 'Dog petting', 'Cat stroking', 'Cow encounters',\n",
       "       'Mood', 'Cries', 'Chickens', 'County', 'Unnamed: 16', 'Unnamed: 17'],\n",
       "      dtype='object')"
      ]
     },
     "execution_count": 991,
     "metadata": {},
     "output_type": "execute_result"
    }
   ],
   "source": [
    "df.columns"
   ]
  },
  {
   "cell_type": "code",
   "execution_count": 992,
   "metadata": {},
   "outputs": [],
   "source": [
    "# drop unneeded columns\n",
    "df = df.drop(['Unnamed: 2','Unnamed: 13','Unnamed: 14','Unnamed: 16','Unnamed: 17','Notes','Mood','Days Left',\n",
    "              'Km','Assistance'],axis=1)"
   ]
  },
  {
   "cell_type": "code",
   "execution_count": 993,
   "metadata": {},
   "outputs": [],
   "source": [
    "# rename columns into more useful names\n",
    "df = df.rename(columns={\"Day.1\": \"Day_week\",\"Day\": \"Day_number\",'Dog petting':\"Dogs\",\"Cat stroking\":\"Cats\",\n",
    "                        \"Cow encounters\":\"Cow_encounters\",\"Distance (km)\":\"Distance_km\",\"Total (km)\":\"Total_km\",\n",
    "                        \"Distance (mi)\":\"Distance_miles\",\"Total (mi)\": \"Total_miles\"})"
   ]
  },
  {
   "cell_type": "code",
   "execution_count": 994,
   "metadata": {},
   "outputs": [],
   "source": [
    "# drop trailing rows\n",
    "df = df[df['Start'].notna()]"
   ]
  },
  {
   "cell_type": "code",
   "execution_count": 995,
   "metadata": {},
   "outputs": [],
   "source": [
    "#remove first row containing travel day\n",
    "df = df.drop([0],axis=0)\n",
    "df.reset_index(drop=True, inplace=True)"
   ]
  },
  {
   "cell_type": "code",
   "execution_count": 996,
   "metadata": {},
   "outputs": [
    {
     "data": {
      "text/html": [
       "<div>\n",
       "<style scoped>\n",
       "    .dataframe tbody tr th:only-of-type {\n",
       "        vertical-align: middle;\n",
       "    }\n",
       "\n",
       "    .dataframe tbody tr th {\n",
       "        vertical-align: top;\n",
       "    }\n",
       "\n",
       "    .dataframe thead th {\n",
       "        text-align: right;\n",
       "    }\n",
       "</style>\n",
       "<table border=\"1\" class=\"dataframe\">\n",
       "  <thead>\n",
       "    <tr style=\"text-align: right;\">\n",
       "      <th></th>\n",
       "      <th>Day_number</th>\n",
       "      <th>Date</th>\n",
       "      <th>Day_week</th>\n",
       "      <th>Start</th>\n",
       "      <th>End</th>\n",
       "      <th>Distance_km</th>\n",
       "      <th>Total_km</th>\n",
       "      <th>Distance_miles</th>\n",
       "      <th>Total_miles</th>\n",
       "      <th>Weather</th>\n",
       "      <th>Steps</th>\n",
       "      <th>Stiles</th>\n",
       "      <th>Dogs</th>\n",
       "      <th>Cats</th>\n",
       "      <th>Cow_encounters</th>\n",
       "      <th>Cries</th>\n",
       "      <th>Chickens</th>\n",
       "      <th>County</th>\n",
       "    </tr>\n",
       "  </thead>\n",
       "  <tbody>\n",
       "    <tr>\n",
       "      <th>0</th>\n",
       "      <td>1.0</td>\n",
       "      <td>18/05/2023</td>\n",
       "      <td>Thu</td>\n",
       "      <td>Land's End</td>\n",
       "      <td>Penzance</td>\n",
       "      <td>23</td>\n",
       "      <td>23</td>\n",
       "      <td>14.3</td>\n",
       "      <td>14.3</td>\n",
       "      <td>Sunny/cloudy</td>\n",
       "      <td>30982.0</td>\n",
       "      <td>6.0</td>\n",
       "      <td>5.0</td>\n",
       "      <td>1.0</td>\n",
       "      <td>0.0</td>\n",
       "      <td>0.0</td>\n",
       "      <td>NaN</td>\n",
       "      <td>Cornwall</td>\n",
       "    </tr>\n",
       "    <tr>\n",
       "      <th>1</th>\n",
       "      <td>2.0</td>\n",
       "      <td>19/05/2023</td>\n",
       "      <td>Fri</td>\n",
       "      <td>Penzance</td>\n",
       "      <td>Helston/Porthleven</td>\n",
       "      <td>25</td>\n",
       "      <td>48</td>\n",
       "      <td>15.5</td>\n",
       "      <td>29.8</td>\n",
       "      <td>Cloudy</td>\n",
       "      <td>35306.0</td>\n",
       "      <td>4.0</td>\n",
       "      <td>1.0</td>\n",
       "      <td>0.0</td>\n",
       "      <td>0.0</td>\n",
       "      <td>0.0</td>\n",
       "      <td>NaN</td>\n",
       "      <td>Cornwall</td>\n",
       "    </tr>\n",
       "    <tr>\n",
       "      <th>2</th>\n",
       "      <td>3.0</td>\n",
       "      <td>20/05/2023</td>\n",
       "      <td>Sat</td>\n",
       "      <td>Helston/Porthleven</td>\n",
       "      <td>Lizard</td>\n",
       "      <td>23</td>\n",
       "      <td>71</td>\n",
       "      <td>14.3</td>\n",
       "      <td>44.1</td>\n",
       "      <td>Blue skies</td>\n",
       "      <td>37643.0</td>\n",
       "      <td>9.0</td>\n",
       "      <td>3.0</td>\n",
       "      <td>0.0</td>\n",
       "      <td>0.0</td>\n",
       "      <td>0.0</td>\n",
       "      <td>NaN</td>\n",
       "      <td>Cornwall</td>\n",
       "    </tr>\n",
       "    <tr>\n",
       "      <th>3</th>\n",
       "      <td>4.0</td>\n",
       "      <td>21/05/2023</td>\n",
       "      <td>Sun</td>\n",
       "      <td>Lizard</td>\n",
       "      <td>Gweek</td>\n",
       "      <td>21.8</td>\n",
       "      <td>92.8</td>\n",
       "      <td>13.5</td>\n",
       "      <td>57.7</td>\n",
       "      <td>Blue skies</td>\n",
       "      <td>31287.0</td>\n",
       "      <td>2.0</td>\n",
       "      <td>0.0</td>\n",
       "      <td>0.0</td>\n",
       "      <td>0.0</td>\n",
       "      <td>0.0</td>\n",
       "      <td>NaN</td>\n",
       "      <td>Cornwall</td>\n",
       "    </tr>\n",
       "    <tr>\n",
       "      <th>4</th>\n",
       "      <td>5.0</td>\n",
       "      <td>22/05/2023</td>\n",
       "      <td>Mon</td>\n",
       "      <td>Gweek-ish</td>\n",
       "      <td>Falmouth</td>\n",
       "      <td>18.5</td>\n",
       "      <td>111.3</td>\n",
       "      <td>11.5</td>\n",
       "      <td>69.2</td>\n",
       "      <td>sunny/cloudy</td>\n",
       "      <td>25150.0</td>\n",
       "      <td>13.0</td>\n",
       "      <td>1.0</td>\n",
       "      <td>0.0</td>\n",
       "      <td>1.0</td>\n",
       "      <td>2.0</td>\n",
       "      <td>NaN</td>\n",
       "      <td>Cornwall</td>\n",
       "    </tr>\n",
       "    <tr>\n",
       "      <th>...</th>\n",
       "      <td>...</td>\n",
       "      <td>...</td>\n",
       "      <td>...</td>\n",
       "      <td>...</td>\n",
       "      <td>...</td>\n",
       "      <td>...</td>\n",
       "      <td>...</td>\n",
       "      <td>...</td>\n",
       "      <td>...</td>\n",
       "      <td>...</td>\n",
       "      <td>...</td>\n",
       "      <td>...</td>\n",
       "      <td>...</td>\n",
       "      <td>...</td>\n",
       "      <td>...</td>\n",
       "      <td>...</td>\n",
       "      <td>...</td>\n",
       "      <td>...</td>\n",
       "    </tr>\n",
       "    <tr>\n",
       "      <th>107</th>\n",
       "      <td>108.0</td>\n",
       "      <td>02/09/2023</td>\n",
       "      <td>Sat</td>\n",
       "      <td>Helmsdale</td>\n",
       "      <td>Berriedale</td>\n",
       "      <td>19</td>\n",
       "      <td>2088</td>\n",
       "      <td>11.8</td>\n",
       "      <td>1297.4</td>\n",
       "      <td>light cloud, sunny, sea mist</td>\n",
       "      <td>26508.0</td>\n",
       "      <td>13.0</td>\n",
       "      <td>NaN</td>\n",
       "      <td>NaN</td>\n",
       "      <td>NaN</td>\n",
       "      <td>NaN</td>\n",
       "      <td>NaN</td>\n",
       "      <td>Caithness</td>\n",
       "    </tr>\n",
       "    <tr>\n",
       "      <th>108</th>\n",
       "      <td>109.0</td>\n",
       "      <td>03/09/2023</td>\n",
       "      <td>Sun</td>\n",
       "      <td>Berriedale</td>\n",
       "      <td>Lybster</td>\n",
       "      <td>21</td>\n",
       "      <td>2109</td>\n",
       "      <td>13.0</td>\n",
       "      <td>1310.5</td>\n",
       "      <td>light cloud, sunny</td>\n",
       "      <td>27753.0</td>\n",
       "      <td>NaN</td>\n",
       "      <td>NaN</td>\n",
       "      <td>NaN</td>\n",
       "      <td>NaN</td>\n",
       "      <td>NaN</td>\n",
       "      <td>NaN</td>\n",
       "      <td>Caithness</td>\n",
       "    </tr>\n",
       "    <tr>\n",
       "      <th>109</th>\n",
       "      <td>110.0</td>\n",
       "      <td>04/09/2023</td>\n",
       "      <td>Mon</td>\n",
       "      <td>Lybster</td>\n",
       "      <td>Reiss</td>\n",
       "      <td>32</td>\n",
       "      <td>2141</td>\n",
       "      <td>19.9</td>\n",
       "      <td>1330.4</td>\n",
       "      <td>sunny</td>\n",
       "      <td>42963.0</td>\n",
       "      <td>NaN</td>\n",
       "      <td>5.0</td>\n",
       "      <td>NaN</td>\n",
       "      <td>NaN</td>\n",
       "      <td>NaN</td>\n",
       "      <td>NaN</td>\n",
       "      <td>Caithness</td>\n",
       "    </tr>\n",
       "    <tr>\n",
       "      <th>110</th>\n",
       "      <td>111.0</td>\n",
       "      <td>05/09/2023</td>\n",
       "      <td>Tue</td>\n",
       "      <td>Reiss</td>\n",
       "      <td>John O'Groats</td>\n",
       "      <td>29</td>\n",
       "      <td>2170</td>\n",
       "      <td>18.0</td>\n",
       "      <td>1348.4</td>\n",
       "      <td>grey, drizzle, foggy</td>\n",
       "      <td>37899.0</td>\n",
       "      <td>1.0</td>\n",
       "      <td>1.0</td>\n",
       "      <td>NaN</td>\n",
       "      <td>NaN</td>\n",
       "      <td>NaN</td>\n",
       "      <td>NaN</td>\n",
       "      <td>Caithness</td>\n",
       "    </tr>\n",
       "    <tr>\n",
       "      <th>111</th>\n",
       "      <td>112.0</td>\n",
       "      <td>06/09/2023</td>\n",
       "      <td>Wed</td>\n",
       "      <td>John O'Groats</td>\n",
       "      <td>Dunnet Head</td>\n",
       "      <td>25</td>\n",
       "      <td>2195</td>\n",
       "      <td>15.5</td>\n",
       "      <td>1363.9</td>\n",
       "      <td>sunshine</td>\n",
       "      <td>NaN</td>\n",
       "      <td>NaN</td>\n",
       "      <td>NaN</td>\n",
       "      <td>NaN</td>\n",
       "      <td>NaN</td>\n",
       "      <td>NaN</td>\n",
       "      <td>NaN</td>\n",
       "      <td>Caithness</td>\n",
       "    </tr>\n",
       "  </tbody>\n",
       "</table>\n",
       "<p>112 rows × 18 columns</p>\n",
       "</div>"
      ],
      "text/plain": [
       "     Day_number        Date Day_week               Start                 End  \\\n",
       "0           1.0  18/05/2023      Thu          Land's End            Penzance   \n",
       "1           2.0  19/05/2023      Fri            Penzance  Helston/Porthleven   \n",
       "2           3.0  20/05/2023      Sat  Helston/Porthleven              Lizard   \n",
       "3           4.0  21/05/2023      Sun              Lizard               Gweek   \n",
       "4           5.0  22/05/2023      Mon           Gweek-ish            Falmouth   \n",
       "..          ...         ...      ...                 ...                 ...   \n",
       "107       108.0  02/09/2023      Sat           Helmsdale          Berriedale   \n",
       "108       109.0  03/09/2023      Sun          Berriedale             Lybster   \n",
       "109       110.0  04/09/2023      Mon            Lybster                Reiss   \n",
       "110       111.0  05/09/2023      Tue               Reiss      John O'Groats    \n",
       "111       112.0  06/09/2023      Wed      John O'Groats          Dunnet Head   \n",
       "\n",
       "    Distance_km Total_km Distance_miles Total_miles  \\\n",
       "0            23       23           14.3        14.3   \n",
       "1            25       48           15.5        29.8   \n",
       "2            23       71           14.3        44.1   \n",
       "3          21.8     92.8           13.5        57.7   \n",
       "4          18.5    111.3           11.5        69.2   \n",
       "..          ...      ...            ...         ...   \n",
       "107          19     2088           11.8      1297.4   \n",
       "108          21     2109           13.0      1310.5   \n",
       "109          32     2141           19.9      1330.4   \n",
       "110          29     2170           18.0      1348.4   \n",
       "111          25     2195           15.5      1363.9   \n",
       "\n",
       "                          Weather    Steps  Stiles  Dogs  Cats  \\\n",
       "0                    Sunny/cloudy  30982.0     6.0   5.0   1.0   \n",
       "1                          Cloudy  35306.0     4.0   1.0   0.0   \n",
       "2                      Blue skies  37643.0     9.0   3.0   0.0   \n",
       "3                      Blue skies  31287.0     2.0   0.0   0.0   \n",
       "4                    sunny/cloudy  25150.0    13.0   1.0   0.0   \n",
       "..                            ...      ...     ...   ...   ...   \n",
       "107  light cloud, sunny, sea mist  26508.0    13.0   NaN   NaN   \n",
       "108            light cloud, sunny  27753.0     NaN   NaN   NaN   \n",
       "109                         sunny  42963.0     NaN   5.0   NaN   \n",
       "110          grey, drizzle, foggy  37899.0     1.0   1.0   NaN   \n",
       "111                      sunshine      NaN     NaN   NaN   NaN   \n",
       "\n",
       "     Cow_encounters  Cries Chickens     County  \n",
       "0               0.0    0.0      NaN   Cornwall  \n",
       "1               0.0    0.0      NaN   Cornwall  \n",
       "2               0.0    0.0      NaN   Cornwall  \n",
       "3               0.0    0.0      NaN   Cornwall  \n",
       "4               1.0    2.0      NaN   Cornwall  \n",
       "..              ...    ...      ...        ...  \n",
       "107             NaN    NaN      NaN  Caithness  \n",
       "108             NaN    NaN      NaN  Caithness  \n",
       "109             NaN    NaN      NaN  Caithness  \n",
       "110             NaN    NaN      NaN  Caithness  \n",
       "111             NaN    NaN      NaN  Caithness  \n",
       "\n",
       "[112 rows x 18 columns]"
      ]
     },
     "execution_count": 996,
     "metadata": {},
     "output_type": "execute_result"
    }
   ],
   "source": [
    "df"
   ]
  },
  {
   "cell_type": "code",
   "execution_count": 997,
   "metadata": {},
   "outputs": [],
   "source": [
    "#fill NaNs with 0 in counts\n",
    "df = df.fillna(0)"
   ]
  },
  {
   "cell_type": "code",
   "execution_count": 998,
   "metadata": {},
   "outputs": [],
   "source": [
    "# replace Rest days with zeros so that it can be used as integers\n",
    "df['Distance_km'] = df['Distance_km'].apply(lambda x: 0 if 'rest' in x.lower() else x)\n",
    "df['Distance_miles'] = df['Distance_miles'].apply(lambda x: 0 if 'rest' in x.lower() else x)"
   ]
  },
  {
   "cell_type": "code",
   "execution_count": 999,
   "metadata": {},
   "outputs": [
    {
     "name": "stdout",
     "output_type": "stream",
     "text": [
      "<class 'pandas.core.frame.DataFrame'>\n",
      "RangeIndex: 112 entries, 0 to 111\n",
      "Data columns (total 18 columns):\n",
      " #   Column          Non-Null Count  Dtype  \n",
      "---  ------          --------------  -----  \n",
      " 0   Day_number      112 non-null    float64\n",
      " 1   Date            112 non-null    object \n",
      " 2   Day_week        112 non-null    object \n",
      " 3   Start           112 non-null    object \n",
      " 4   End             112 non-null    object \n",
      " 5   Distance_km     112 non-null    object \n",
      " 6   Total_km        112 non-null    object \n",
      " 7   Distance_miles  112 non-null    object \n",
      " 8   Total_miles     112 non-null    object \n",
      " 9   Weather         112 non-null    object \n",
      " 10  Steps           112 non-null    float64\n",
      " 11  Stiles          112 non-null    float64\n",
      " 12  Dogs            112 non-null    float64\n",
      " 13  Cats            112 non-null    float64\n",
      " 14  Cow_encounters  112 non-null    float64\n",
      " 15  Cries           112 non-null    float64\n",
      " 16  Chickens        112 non-null    object \n",
      " 17  County          112 non-null    object \n",
      "dtypes: float64(7), object(11)\n",
      "memory usage: 15.9+ KB\n"
     ]
    }
   ],
   "source": [
    "df.info()"
   ]
  },
  {
   "cell_type": "code",
   "execution_count": 1000,
   "metadata": {},
   "outputs": [],
   "source": [
    "#convert distances to floats\n",
    "df[\"Distance_km\"] = df[\"Distance_km\"].astype('float')\n",
    "df[\"Distance_miles\"] = df[\"Distance_miles\"].astype('float')\n",
    "df[\"Total_km\"] = df[\"Total_km\"].astype('float')\n",
    "df[\"Total_miles\"] = df[\"Total_miles\"].astype('float')"
   ]
  },
  {
   "cell_type": "markdown",
   "metadata": {},
   "source": [
    "## Creating new features <a name=\"features\"></a>\n",
    "\n",
    "The weather column is currently full of strings in not very useful formats (different phrasing, descriptions etc). Let's pull out some keywords from this and create columns representing different weather states. "
   ]
  },
  {
   "cell_type": "code",
   "execution_count": 1001,
   "metadata": {},
   "outputs": [],
   "source": [
    "df['rain'] = df['Weather'].apply(lambda x: 1 if 'rain' in x.lower() or 'showers' in x.lower() else 0)\n",
    "df['sun'] = df['Weather'].apply(lambda x: 1 if 'sun' in x.lower() or 'blue' in x.lower() else 0)\n",
    "df['cloud'] = df['Weather'].str.lower().apply(lambda x: 1 if 'cloud' in x.lower() or 'grey' in x.lower() else 0)"
   ]
  },
  {
   "cell_type": "code",
   "execution_count": 1002,
   "metadata": {},
   "outputs": [
    {
     "data": {
      "text/html": [
       "<div>\n",
       "<style scoped>\n",
       "    .dataframe tbody tr th:only-of-type {\n",
       "        vertical-align: middle;\n",
       "    }\n",
       "\n",
       "    .dataframe tbody tr th {\n",
       "        vertical-align: top;\n",
       "    }\n",
       "\n",
       "    .dataframe thead th {\n",
       "        text-align: right;\n",
       "    }\n",
       "</style>\n",
       "<table border=\"1\" class=\"dataframe\">\n",
       "  <thead>\n",
       "    <tr style=\"text-align: right;\">\n",
       "      <th></th>\n",
       "      <th>Day_number</th>\n",
       "      <th>Date</th>\n",
       "      <th>Day_week</th>\n",
       "      <th>Start</th>\n",
       "      <th>End</th>\n",
       "      <th>Distance_km</th>\n",
       "      <th>Total_km</th>\n",
       "      <th>Distance_miles</th>\n",
       "      <th>Total_miles</th>\n",
       "      <th>Weather</th>\n",
       "      <th>...</th>\n",
       "      <th>Stiles</th>\n",
       "      <th>Dogs</th>\n",
       "      <th>Cats</th>\n",
       "      <th>Cow_encounters</th>\n",
       "      <th>Cries</th>\n",
       "      <th>Chickens</th>\n",
       "      <th>County</th>\n",
       "      <th>rain</th>\n",
       "      <th>sun</th>\n",
       "      <th>cloud</th>\n",
       "    </tr>\n",
       "  </thead>\n",
       "  <tbody>\n",
       "    <tr>\n",
       "      <th>0</th>\n",
       "      <td>1.0</td>\n",
       "      <td>18/05/2023</td>\n",
       "      <td>Thu</td>\n",
       "      <td>Land's End</td>\n",
       "      <td>Penzance</td>\n",
       "      <td>23.0</td>\n",
       "      <td>23.0</td>\n",
       "      <td>14.3</td>\n",
       "      <td>14.3</td>\n",
       "      <td>Sunny/cloudy</td>\n",
       "      <td>...</td>\n",
       "      <td>6.0</td>\n",
       "      <td>5.0</td>\n",
       "      <td>1.0</td>\n",
       "      <td>0.0</td>\n",
       "      <td>0.0</td>\n",
       "      <td>0</td>\n",
       "      <td>Cornwall</td>\n",
       "      <td>0</td>\n",
       "      <td>1</td>\n",
       "      <td>1</td>\n",
       "    </tr>\n",
       "    <tr>\n",
       "      <th>1</th>\n",
       "      <td>2.0</td>\n",
       "      <td>19/05/2023</td>\n",
       "      <td>Fri</td>\n",
       "      <td>Penzance</td>\n",
       "      <td>Helston/Porthleven</td>\n",
       "      <td>25.0</td>\n",
       "      <td>48.0</td>\n",
       "      <td>15.5</td>\n",
       "      <td>29.8</td>\n",
       "      <td>Cloudy</td>\n",
       "      <td>...</td>\n",
       "      <td>4.0</td>\n",
       "      <td>1.0</td>\n",
       "      <td>0.0</td>\n",
       "      <td>0.0</td>\n",
       "      <td>0.0</td>\n",
       "      <td>0</td>\n",
       "      <td>Cornwall</td>\n",
       "      <td>0</td>\n",
       "      <td>0</td>\n",
       "      <td>1</td>\n",
       "    </tr>\n",
       "    <tr>\n",
       "      <th>2</th>\n",
       "      <td>3.0</td>\n",
       "      <td>20/05/2023</td>\n",
       "      <td>Sat</td>\n",
       "      <td>Helston/Porthleven</td>\n",
       "      <td>Lizard</td>\n",
       "      <td>23.0</td>\n",
       "      <td>71.0</td>\n",
       "      <td>14.3</td>\n",
       "      <td>44.1</td>\n",
       "      <td>Blue skies</td>\n",
       "      <td>...</td>\n",
       "      <td>9.0</td>\n",
       "      <td>3.0</td>\n",
       "      <td>0.0</td>\n",
       "      <td>0.0</td>\n",
       "      <td>0.0</td>\n",
       "      <td>0</td>\n",
       "      <td>Cornwall</td>\n",
       "      <td>0</td>\n",
       "      <td>1</td>\n",
       "      <td>0</td>\n",
       "    </tr>\n",
       "    <tr>\n",
       "      <th>3</th>\n",
       "      <td>4.0</td>\n",
       "      <td>21/05/2023</td>\n",
       "      <td>Sun</td>\n",
       "      <td>Lizard</td>\n",
       "      <td>Gweek</td>\n",
       "      <td>21.8</td>\n",
       "      <td>92.8</td>\n",
       "      <td>13.5</td>\n",
       "      <td>57.7</td>\n",
       "      <td>Blue skies</td>\n",
       "      <td>...</td>\n",
       "      <td>2.0</td>\n",
       "      <td>0.0</td>\n",
       "      <td>0.0</td>\n",
       "      <td>0.0</td>\n",
       "      <td>0.0</td>\n",
       "      <td>0</td>\n",
       "      <td>Cornwall</td>\n",
       "      <td>0</td>\n",
       "      <td>1</td>\n",
       "      <td>0</td>\n",
       "    </tr>\n",
       "    <tr>\n",
       "      <th>4</th>\n",
       "      <td>5.0</td>\n",
       "      <td>22/05/2023</td>\n",
       "      <td>Mon</td>\n",
       "      <td>Gweek-ish</td>\n",
       "      <td>Falmouth</td>\n",
       "      <td>18.5</td>\n",
       "      <td>111.3</td>\n",
       "      <td>11.5</td>\n",
       "      <td>69.2</td>\n",
       "      <td>sunny/cloudy</td>\n",
       "      <td>...</td>\n",
       "      <td>13.0</td>\n",
       "      <td>1.0</td>\n",
       "      <td>0.0</td>\n",
       "      <td>1.0</td>\n",
       "      <td>2.0</td>\n",
       "      <td>0</td>\n",
       "      <td>Cornwall</td>\n",
       "      <td>0</td>\n",
       "      <td>1</td>\n",
       "      <td>1</td>\n",
       "    </tr>\n",
       "  </tbody>\n",
       "</table>\n",
       "<p>5 rows × 21 columns</p>\n",
       "</div>"
      ],
      "text/plain": [
       "   Day_number        Date Day_week               Start                 End  \\\n",
       "0         1.0  18/05/2023      Thu          Land's End            Penzance   \n",
       "1         2.0  19/05/2023      Fri            Penzance  Helston/Porthleven   \n",
       "2         3.0  20/05/2023      Sat  Helston/Porthleven              Lizard   \n",
       "3         4.0  21/05/2023      Sun              Lizard               Gweek   \n",
       "4         5.0  22/05/2023      Mon           Gweek-ish            Falmouth   \n",
       "\n",
       "   Distance_km  Total_km  Distance_miles  Total_miles       Weather  ...  \\\n",
       "0         23.0      23.0            14.3         14.3  Sunny/cloudy  ...   \n",
       "1         25.0      48.0            15.5         29.8        Cloudy  ...   \n",
       "2         23.0      71.0            14.3         44.1    Blue skies  ...   \n",
       "3         21.8      92.8            13.5         57.7    Blue skies  ...   \n",
       "4         18.5     111.3            11.5         69.2  sunny/cloudy  ...   \n",
       "\n",
       "   Stiles  Dogs  Cats  Cow_encounters  Cries  Chickens    County rain  sun  \\\n",
       "0     6.0   5.0   1.0             0.0    0.0         0  Cornwall    0    1   \n",
       "1     4.0   1.0   0.0             0.0    0.0         0  Cornwall    0    0   \n",
       "2     9.0   3.0   0.0             0.0    0.0         0  Cornwall    0    1   \n",
       "3     2.0   0.0   0.0             0.0    0.0         0  Cornwall    0    1   \n",
       "4    13.0   1.0   0.0             1.0    2.0         0  Cornwall    0    1   \n",
       "\n",
       "   cloud  \n",
       "0      1  \n",
       "1      1  \n",
       "2      0  \n",
       "3      0  \n",
       "4      1  \n",
       "\n",
       "[5 rows x 21 columns]"
      ]
     },
     "execution_count": 1002,
     "metadata": {},
     "output_type": "execute_result"
    }
   ],
   "source": [
    "df.head()"
   ]
  },
  {
   "cell_type": "markdown",
   "metadata": {},
   "source": [
    "# Exploratory Data Analysis <a name=\"EDA\"></a>"
   ]
  },
  {
   "cell_type": "code",
   "execution_count": 1003,
   "metadata": {},
   "outputs": [
    {
     "data": {
      "image/png": "[encoded data removed]",
      "text/plain": [
       "<Figure size 432x288 with 1 Axes>"
      ]
     },
     "metadata": {
      "needs_background": "light"
     },
     "output_type": "display_data"
    }
   ],
   "source": [
    "plt.hist(df.Distance_km,bins=12,alpha=0.7)\n",
    "plt.xlim(0,)\n",
    "plt.xlabel(\"Distance (km)\")\n",
    "plt.ylabel(\"Count\");"
   ]
  },
  {
   "cell_type": "code",
   "execution_count": 1004,
   "metadata": {},
   "outputs": [
    {
     "data": {
      "image/png": "[encoded data removed]",
      "text/plain": [
       "<Figure size 432x288 with 1 Axes>"
      ]
     },
     "metadata": {
      "needs_background": "light"
     },
     "output_type": "display_data"
    }
   ],
   "source": [
    "plt.hist(df.Steps,bins=16,alpha=0.7)\n",
    "plt.xlim(0,50000)\n",
    "plt.xlabel(\"Steps\")\n",
    "plt.ylabel(\"Count\");"
   ]
  },
  {
   "cell_type": "code",
   "execution_count": 1005,
   "metadata": {},
   "outputs": [
    {
     "data": {
      "image/png": "[encoded data removed]",
      "text/plain": [
       "<Figure size 432x288 with 1 Axes>"
      ]
     },
     "metadata": {
      "needs_background": "light"
     },
     "output_type": "display_data"
    }
   ],
   "source": [
    "sns.regplot(data=df[df.Distance_km>5],x=\"Day_number\",y=\"Distance_km\")\n",
    "plt.ylim(4,)\n",
    "plt.ylabel(\"Distance (km)\")\n",
    "plt.xlabel(\"Day\");"
   ]
  },
  {
   "cell_type": "markdown",
   "metadata": {},
   "source": [
    "Remarkably consistent. I expected that maybe there would be a slight upward trend as I got fitter but clearly not. Though subjectively, while I may not have been walking further each day, it definitely got easier!"
   ]
  },
  {
   "cell_type": "code",
   "execution_count": 1006,
   "metadata": {
    "scrolled": true
   },
   "outputs": [
    {
     "data": {
      "image/png": "[encoded data removed]",
      "text/plain": [
       "<Figure size 432x288 with 1 Axes>"
      ]
     },
     "metadata": {
      "needs_background": "light"
     },
     "output_type": "display_data"
    }
   ],
   "source": [
    "rainy_days_df = df[df[\"rain\"] == 1]\n",
    "sunny_days_df = df[df[\"sun\"] == 1]\n",
    "cloudy_days_df = df[df[\"cloud\"] == 1]\n",
    "\n",
    "plt.hist(rainy_days_df[\"Distance_km\"], bins=8,range=(0,40),alpha=0.8,label=\"Rainy\", density=True)\n",
    "plt.hist(sunny_days_df[\"Distance_km\"], bins=8,range=(0,40),alpha=0.8,label=\"Sunny\", density=True)\n",
    "\n",
    "plt.legend()\n",
    "plt.xlabel('Distance Walked (km)')\n",
    "plt.ylabel('Frequency')\n",
    "plt.xlim(0,40);"
   ]
  },
  {
   "cell_type": "code",
   "execution_count": 1007,
   "metadata": {},
   "outputs": [
    {
     "data": {
      "image/png": "[encoded data removed]",
      "text/plain": [
       "<Figure size 1080x360 with 1 Axes>"
      ]
     },
     "metadata": {
      "needs_background": "light"
     },
     "output_type": "display_data"
    }
   ],
   "source": [
    "plt.figure(figsize=(15,5))\n",
    "plt.bar(df.Day_number,df.Distance_km)\n",
    "plt.xlim(0,113)\n",
    "plt.xlabel(\"Day Number\",fontsize=12)\n",
    "plt.ylabel(\"Distance (km)\", fontsize=12)\n",
    "\n",
    "avg_distance = np.mean(df.Distance_km)\n",
    "avg_distance_exc_rest = np.mean(df[df.Distance_km>5].Distance_km)\n",
    "plt.hlines(avg_distance,0,113,color='k',alpha=0.5,label=\"Average distance\",linewidths=3)\n",
    "plt.hlines(avg_distance_exc_rest,0,113,linestyle=\"--\",color='k',alpha=0.5,\n",
    "           label=\"Average distance (excluding rest days)\",linewidths=3)\n",
    "plt.legend(loc='lower right',fontsize=12);"
   ]
  },
  {
   "cell_type": "code",
   "execution_count": 1008,
   "metadata": {},
   "outputs": [],
   "source": [
    "def draw_brace(ax, xspan, yy, text, font_size):\n",
    "    \"\"\"Draws an annotated brace on the axes.\"\"\"\n",
    "    xmin, xmax = xspan\n",
    "    xspan = xmax - xmin\n",
    "    ax_xmin, ax_xmax = ax.get_xlim()\n",
    "    xax_span = ax_xmax - ax_xmin\n",
    "\n",
    "    ymin, ymax = ax.get_ylim()\n",
    "    yspan = ymax - ymin\n",
    "    resolution = int(xspan/xax_span*100)*2+1 # guaranteed uneven\n",
    "    beta = 300./xax_span # the higher this is, the smaller the radius\n",
    "\n",
    "    x = np.linspace(xmin, xmax, resolution)\n",
    "    x_half = x[:int(resolution/2)+1]\n",
    "    y_half_brace = (1/(1.+np.exp(-beta*(x_half-x_half[0])))\n",
    "                    + 1/(1.+np.exp(-beta*(x_half-x_half[-1]))))\n",
    "    y = np.concatenate((y_half_brace, y_half_brace[-2::-1]))\n",
    "    y = yy + (.05*y - .01)*yspan # adjust vertical position\n",
    "\n",
    "    ax.autoscale(False)\n",
    "    ax.plot(x, y, color='black', lw=1)\n",
    "\n",
    "    ax.text((xmax+xmin)/2., yy+.09*yspan, text, ha='center', va='bottom', fontsize=font_size)"
   ]
  },
  {
   "cell_type": "code",
   "execution_count": 1009,
   "metadata": {},
   "outputs": [
    {
     "data": {
      "image/png": "[encoded data removed]",
      "text/plain": [
       "<Figure size 1080x360 with 1 Axes>"
      ]
     },
     "metadata": {
      "needs_background": "light"
     },
     "output_type": "display_data"
    }
   ],
   "source": [
    "font_size = 12\n",
    "\n",
    "plt.figure(figsize=(15,5))\n",
    "plt.bar(df.Day_number,df.Cries)\n",
    "plt.xlim(0,112)\n",
    "plt.xlabel(\"Day Number\",fontsize=font_size)\n",
    "plt.ylabel(\"Number of times I cried...\",fontsize=font_size)\n",
    "plt.xticks(np.arange(0,110,10))\n",
    "\n",
    "\n",
    "plt.annotate(\"Wondering what I've \\n signed up for...\", xy=(5,2.2), xytext=(10,3.8),\n",
    "             horizontalalignment='center', fontsize=font_size,\n",
    "             arrowprops={'arrowstyle':'->', 'connectionstyle':'arc3,rad=0.2'})\n",
    "plt.annotate(\"\", xy=(12.5,2.6), xytext=(11,3.7),horizontalalignment='center',\n",
    "             arrowprops={'arrowstyle':'->', 'connectionstyle':'arc3,rad=-0.4'})\n",
    "\n",
    "plt.annotate(\"Saying goodbye to family\", xy=(26,1.5), xytext=(35,2.5),\n",
    "             horizontalalignment='center', fontsize=font_size,\n",
    "             arrowprops={'arrowstyle':'->', 'connectionstyle':'arc3,rad=-0.2'})\n",
    "plt.annotate(\"\", xy=(39,1), xytext=(35,2.4),horizontalalignment='center',\n",
    "             arrowprops={'arrowstyle':'->', 'connectionstyle':'arc3,rad=-0.2'})\n",
    "\n",
    "plt.annotate(\"Cows!\", xy=(60.5,1), xytext=(58,1.4),\n",
    "             horizontalalignment='center',fontsize=font_size,\n",
    "             arrowprops={'arrowstyle':'->', 'connectionstyle':'arc3,rad=0.2'})\n",
    "\n",
    "plt.annotate(\"Pennine Way. \\n The closest I came \\n to quitting the walk!\",\n",
    "             xy=(51,3), xytext=(60,4),horizontalalignment='center', fontsize=font_size,\n",
    "             arrowprops={'arrowstyle':'->', 'connectionstyle':'arc3,rad=-0.2'})\n",
    "\n",
    "plt.annotate(\"Scottish border: \\n Cliff edges + awful weather! \",\n",
    "             xy=(78,2), xytext=(90,2.75),horizontalalignment='center', fontsize=font_size,\n",
    "             arrowprops={'arrowstyle':'->', 'connectionstyle':'arc3,rad=-0.2'})\n",
    "\n",
    "ax = plt.gca()\n",
    "draw_brace(ax, (80, 110), 0.05, \"The glorious highlands where \\n I didn't want it to ever end!\", font_size)"
   ]
  },
  {
   "cell_type": "code",
   "execution_count": 1010,
   "metadata": {},
   "outputs": [
    {
     "data": {
      "image/png": "[encoded data removed]",
      "text/plain": [
       "<Figure size 720x576 with 2 Axes>"
      ]
     },
     "metadata": {
      "needs_background": "light"
     },
     "output_type": "display_data"
    }
   ],
   "source": [
    "columns_for_correlation = [\"Distance_km\", \"Steps\", \"Stiles\", \"Dogs\", \"Cats\", \"Cow_encounters\", \"Cries\",\"Chickens\", \n",
    "                           \"rain\", \"sun\", \"cloud\"]\n",
    "\n",
    "correlation_matrix = df[columns_for_correlation].corr()\n",
    "\n",
    "plt.figure(figsize=(10, 8))\n",
    "cmap = sns.diverging_palette(220,10,as_cmap=True)\n",
    "sns.heatmap(correlation_matrix, annot=True, cmap=cmap, fmt=\".2f\");"
   ]
  },
  {
   "cell_type": "code",
   "execution_count": 1011,
   "metadata": {},
   "outputs": [
    {
     "data": {
      "image/png": "[encoded data removed]",
      "text/plain": [
       "<Figure size 720x576 with 2 Axes>"
      ]
     },
     "metadata": {
      "needs_background": "light"
     },
     "output_type": "display_data"
    }
   ],
   "source": [
    "columns_for_correlation = [\"Distance_km\", \"Steps\", \"Stiles\", \"Dogs\", \"Cats\", \"Cow_encounters\", \"Cries\",\"Chickens\", \"rain\", \"sun\", \"cloud\"]\n",
    "\n",
    "correlation_matrix = df[columns_for_correlation].corr()\n",
    "\n",
    "mask = np.triu(np.ones_like(correlation_matrix, dtype=bool))\n",
    "mask[np.diag_indices_from(mask)] = False\n",
    "\n",
    "plt.figure(figsize=(10, 8))\n",
    "sns.heatmap(correlation_matrix, annot=True, cmap=cmap, fmt=\".2f\", mask=mask);"
   ]
  },
  {
   "cell_type": "code",
   "execution_count": 1178,
   "metadata": {},
   "outputs": [
    {
     "data": {
      "text/html": [
       "<div>\n",
       "<style scoped>\n",
       "    .dataframe tbody tr th:only-of-type {\n",
       "        vertical-align: middle;\n",
       "    }\n",
       "\n",
       "    .dataframe tbody tr th {\n",
       "        vertical-align: top;\n",
       "    }\n",
       "\n",
       "    .dataframe thead th {\n",
       "        text-align: right;\n",
       "    }\n",
       "</style>\n",
       "<table border=\"1\" class=\"dataframe\">\n",
       "  <thead>\n",
       "    <tr style=\"text-align: right;\">\n",
       "      <th></th>\n",
       "      <th>Distance_km</th>\n",
       "      <th>Dogs</th>\n",
       "    </tr>\n",
       "    <tr>\n",
       "      <th>Day_week</th>\n",
       "      <th></th>\n",
       "      <th></th>\n",
       "    </tr>\n",
       "  </thead>\n",
       "  <tbody>\n",
       "    <tr>\n",
       "      <th>Fri</th>\n",
       "      <td>20.60625</td>\n",
       "      <td>0.8125</td>\n",
       "    </tr>\n",
       "    <tr>\n",
       "      <th>Mon</th>\n",
       "      <td>22.56250</td>\n",
       "      <td>1.1875</td>\n",
       "    </tr>\n",
       "    <tr>\n",
       "      <th>Sat</th>\n",
       "      <td>18.00000</td>\n",
       "      <td>0.5000</td>\n",
       "    </tr>\n",
       "    <tr>\n",
       "      <th>Sun</th>\n",
       "      <td>13.45625</td>\n",
       "      <td>0.3750</td>\n",
       "    </tr>\n",
       "    <tr>\n",
       "      <th>Thu</th>\n",
       "      <td>20.31250</td>\n",
       "      <td>1.4375</td>\n",
       "    </tr>\n",
       "    <tr>\n",
       "      <th>Tue</th>\n",
       "      <td>19.81250</td>\n",
       "      <td>0.8750</td>\n",
       "    </tr>\n",
       "    <tr>\n",
       "      <th>Wed</th>\n",
       "      <td>22.62500</td>\n",
       "      <td>0.6875</td>\n",
       "    </tr>\n",
       "  </tbody>\n",
       "</table>\n",
       "</div>"
      ],
      "text/plain": [
       "          Distance_km    Dogs\n",
       "Day_week                     \n",
       "Fri          20.60625  0.8125\n",
       "Mon          22.56250  1.1875\n",
       "Sat          18.00000  0.5000\n",
       "Sun          13.45625  0.3750\n",
       "Thu          20.31250  1.4375\n",
       "Tue          19.81250  0.8750\n",
       "Wed          22.62500  0.6875"
      ]
     },
     "execution_count": 1178,
     "metadata": {},
     "output_type": "execute_result"
    }
   ],
   "source": [
    "pd.pivot_table(df,index=\"Day_week\",values=[\"Distance_km\",\"Dogs\"])"
   ]
  },
  {
   "cell_type": "code",
   "execution_count": 1012,
   "metadata": {},
   "outputs": [
    {
     "data": {
      "image/png": "[encoded data removed]",
      "text/plain": [
       "<Figure size 720x432 with 1 Axes>"
      ]
     },
     "metadata": {
      "needs_background": "light"
     },
     "output_type": "display_data"
    }
   ],
   "source": [
    "day_order = ['Mon', 'Tue', 'Wed', 'Thu', 'Fri', 'Sat', 'Sun']\n",
    "\n",
    "# Set the figure size\n",
    "plt.figure(figsize=(10, 6))\n",
    "\n",
    "# Calculate the average distance walked on each day of the week\n",
    "average_distance_per_day = df.groupby('Day_week')['Distance_km'].mean().reset_index()\n",
    "\n",
    "# Plot the average distance walked on each day of the week with specified order\n",
    "sns.barplot(x='Day_week', y='Distance_km', data=average_distance_per_day, order=day_order, palette='Blues')\n",
    "plt.title('Average Distance Walked on Each Day of the Week')\n",
    "plt.xlabel('Day of the Week')\n",
    "plt.ylabel('Average Distance Walked (km)');"
   ]
  },
  {
   "cell_type": "code",
   "execution_count": 1013,
   "metadata": {},
   "outputs": [
    {
     "data": {
      "image/png": "[encoded data removed]",
      "text/plain": [
       "<Figure size 720x432 with 1 Axes>"
      ]
     },
     "metadata": {
      "needs_background": "light"
     },
     "output_type": "display_data"
    }
   ],
   "source": [
    "df_rest_days = df[df['Distance_km'] <= 5]\n",
    "\n",
    "# Set the figure size\n",
    "plt.figure(figsize=(10, 6))\n",
    "\n",
    "# Plot the number of times walked less than or equal to 5km by day of the week\n",
    "sns.countplot(x='Day_week', data=df_rest_days, order=day_order, palette='Reds')\n",
    "plt.title('Rest Days')\n",
    "plt.xlabel('Day of the Week')\n",
    "plt.ylabel('Count');"
   ]
  },
  {
   "cell_type": "code",
   "execution_count": 1014,
   "metadata": {},
   "outputs": [],
   "source": [
    "#fix ambigious locations\n",
    "df['End'] = df['End'].replace(\"Chancery House\", \"EX36 3EU (Chancery House)\")\n",
    "df['End'] = df['End'].replace(\"Fenwick\", \"Fenwick, TD15 2PH\")"
   ]
  },
  {
   "cell_type": "markdown",
   "metadata": {},
   "source": [
    "# Longitude and Latitude\n",
    "\n",
    "We can use the location strings to search for the longitude and latitude each day allowing us to explore how the coordinates changed each day and how far I was from John O'Groats."
   ]
  },
  {
   "cell_type": "markdown",
   "metadata": {},
   "source": [
    "## Get the coordinates\n",
    "Using nominatim we can search on open street maps for the coordinates"
   ]
  },
  {
   "cell_type": "code",
   "execution_count": 1144,
   "metadata": {},
   "outputs": [
    {
     "name": "stdout",
     "output_type": "stream",
     "text": [
      "Coordinates of Land's End are: -5.7148222, 50.0662633\n",
      "Coordinates of John O'Groats are: -3.0689679, 58.6373009\n"
     ]
    }
   ],
   "source": [
    "def get_lon_lat(place):\n",
    "    if \"(\" in place:\n",
    "        place = place.split(\"(\")[0]\n",
    "\n",
    "    url = ('https://nominatim.openstreetmap.org/search?q=' + urllib.parse.quote(place + \", UK\") + \n",
    "           '&format=json&polygon=1&addressdetails=1')\n",
    "    response = requests.get(url).json()\n",
    "        \n",
    "    return  float(response[0][\"lon\"]), float(response[0][\"lat\"])\n",
    "\n",
    "lon_LE, lat_LE = get_lon_lat(\"Land's End\")\n",
    "lon_JOG, lat_JOG = get_lon_lat(\"John O'Groats\")\n",
    "print(f\"Coordinates of Land's End are: {lon_LE}, {lat_LE}\")\n",
    "print(f\"Coordinates of John O'Groats are: {lon_JOG}, {lat_JOG}\")"
   ]
  },
  {
   "cell_type": "code",
   "execution_count": 1026,
   "metadata": {},
   "outputs": [],
   "source": [
    "df['County']= df['County'].replace(0,\" \") # replace missing county entries with empty string\n",
    "df['Finish_location'] = df['End'] + \", \" + df['County']"
   ]
  },
  {
   "cell_type": "code",
   "execution_count": 1045,
   "metadata": {},
   "outputs": [],
   "source": [
    "# search for coordinates for each day's location\n",
    "df['Lon_lat'] = df['Finish_location'].apply(lambda x: -1 if 'rest' in x.lower() else get_lon_lat(x))"
   ]
  },
  {
   "cell_type": "code",
   "execution_count": 1146,
   "metadata": {},
   "outputs": [],
   "source": [
    "# split into separate columns\n",
    "df['Longitude'] = df['Lon_lat'].apply(lambda x: x if x==-1 else float(x[0]))\n",
    "df['Latitude'] = df['Lon_lat'].apply(lambda x: x if x==-1 else float(x[1]))"
   ]
  },
  {
   "cell_type": "markdown",
   "metadata": {},
   "source": [
    "# Evolution of longitude and latitude"
   ]
  },
  {
   "cell_type": "code",
   "execution_count": 1157,
   "metadata": {},
   "outputs": [
    {
     "data": {
      "image/png": "[encoded data removed]",
      "text/plain": [
       "<Figure size 432x288 with 1 Axes>"
      ]
     },
     "metadata": {
      "needs_background": "light"
     },
     "output_type": "display_data"
    }
   ],
   "source": [
    "walking = df.loc[df['Latitude'].to_numpy() != -1]\n",
    "\n",
    "plt.plot(walking[\"Day_number\"], walking[\"Latitude\"])\n",
    "plt.xlabel(\"Day\")\n",
    "plt.ylabel(\"Latitude, $\\degree$N\")\n",
    "plt.xticks(np.arange(0,112,10))\n",
    "plt.xlim(0,113);"
   ]
  },
  {
   "cell_type": "code",
   "execution_count": 1156,
   "metadata": {},
   "outputs": [
    {
     "data": {
      "image/png": "[encoded data removed]",
      "text/plain": [
       "<Figure size 360x720 with 1 Axes>"
      ]
     },
     "metadata": {
      "needs_background": "light"
     },
     "output_type": "display_data"
    }
   ],
   "source": [
    "plt.figure(figsize=(5,10))\n",
    "plt.plot(walking[\"Longitude\"], walking[\"Day_number\"])\n",
    "plt.ylabel(\"Day\")\n",
    "plt.xlabel(\"Longitude, $\\degree$\")\n",
    "plt.yticks(np.arange(0,112,10))\n",
    "plt.ylim(0,113);"
   ]
  },
  {
   "cell_type": "markdown",
   "metadata": {},
   "source": [
    "## Distance from John O'Groats"
   ]
  },
  {
   "cell_type": "code",
   "execution_count": 1057,
   "metadata": {},
   "outputs": [],
   "source": [
    "# Calculating the distance from John O'Groats as the crow flies\n",
    "df['Lon_lat_inc_rest'] = df['Lon_lat'].replace(-1, method='ffill')\n",
    "df['Distance_from_JOG'] = df['Lon_lat_inc_rest'].apply(lambda x: geopy.distance.geodesic(x, (lon_JOG,lat_JOG)).km)"
   ]
  },
  {
   "cell_type": "code",
   "execution_count": 1164,
   "metadata": {},
   "outputs": [
    {
     "data": {
      "image/png": "[encoded data removed]",
      "text/plain": [
       "<Figure size 720x360 with 1 Axes>"
      ]
     },
     "metadata": {
      "needs_background": "light"
     },
     "output_type": "display_data"
    }
   ],
   "source": [
    "plt.figure(figsize=(10,5))\n",
    "plt.plot(df[\"Day_number\"], df[\"Distance_from_JOG\"])\n",
    "plt.gca().invert_yaxis()\n",
    "plt.xlabel(\"Day\")\n",
    "plt.xticks(np.arange(0,112,10))\n",
    "plt.ylabel(\"Distance to John O'Groats (km)\")\n",
    "plt.yticks(np.arange(0,1100,100));"
   ]
  },
  {
   "cell_type": "markdown",
   "metadata": {},
   "source": [
    "# Plot the Route\n",
    "\n",
    "Let's visualize the walk by overlaying the route on a UK map"
   ]
  },
  {
   "cell_type": "code",
   "execution_count": 1076,
   "metadata": {},
   "outputs": [],
   "source": [
    "df[\"Rest\"] = df[\"Lon_lat\"].apply(lambda x: 1 if x==-1 else 0)\n",
    "df[\"Longitude_plot\"] = df.apply(lambda x: x.Lon_lat_inc_rest[0] if not x.Rest else x.Lon_lat_inc_rest[0]+0.005,axis=1)\n",
    "df[\"Latitude_plot\"] = df.apply(lambda x: x.Lon_lat_inc_rest[1] if not x.Rest else x.Lon_lat_inc_rest[1]+0.005,axis=1)"
   ]
  },
  {
   "cell_type": "code",
   "execution_count": 1179,
   "metadata": {
    "scrolled": false
   },
   "outputs": [
    {
     "data": {
      "application/vnd.plotly.v1+json": {
       "config": {
        "plotlyServerURL": "https://plot.ly"
       },
       "data": [
        {
         "customdata": [
          [
           "Day 1",
           "Penzance",
           23
          ],
          [
           "Day 2",
           "Helston/Porthleven",
           25
          ],
          [
           "Day 3",
           "Lizard",
           23
          ],
          [
           "Day 4",
           "Gweek",
           21.8
          ],
          [
           "Day 5",
           "Falmouth",
           18.5
          ],
          [
           "Day 6",
           "Truro",
           22
          ],
          [
           "Day 7",
           "Newquay",
           29
          ],
          [
           "Day 8",
           "REST",
           0
          ],
          [
           "Day 9",
           "Wadebridge",
           35
          ],
          [
           "Day 10",
           "Tintagel",
           28
          ],
          [
           "Day 11",
           "Crackington Haven",
           19.5
          ],
          [
           "Day 12",
           "Bude",
           18.5
          ],
          [
           "Day 13",
           "REST",
           0
          ],
          [
           "Day 14",
           "Elmscott",
           25
          ],
          [
           "Day 15",
           "Horns Cross",
           27
          ],
          [
           "Day 16",
           "Barnstaple",
           28
          ],
          [
           "Day 17",
           "REST",
           0
          ],
          [
           "Day 18",
           "REST",
           0
          ],
          [
           "Day 19",
           "EX36 3EU (Chancery House)",
           21
          ],
          [
           "Day 20",
           "Wheddon cross",
           30
          ],
          [
           "Day 21",
           "Williton",
           22
          ],
          [
           "Day 22",
           "Bridgwater",
           30
          ],
          [
           "Day 23",
           "Glastonbury",
           27.7
          ],
          [
           "Day 24",
           "REST",
           0
          ],
          [
           "Day 25",
           "Midsomer norton",
           30
          ],
          [
           "Day 26",
           "Bath",
           25
          ],
          [
           "Day 27",
           "Old Sodbury",
           34
          ],
          [
           "Day 28",
           "Dursley",
           30
          ],
          [
           "Day 29",
           "Stroud",
           18
          ],
          [
           "Day 30",
           "REST",
           0
          ],
          [
           "Day 31",
           "Cheltenham",
           37
          ],
          [
           "Day 32",
           "unplanned rest!",
           0
          ],
          [
           "Day 33",
           "Broadway golf club",
           34
          ],
          [
           "Day 34",
           "REST",
           0
          ],
          [
           "Day 35",
           "Stratford-upon-avon",
           28
          ],
          [
           "Day 36",
           "Warwick",
           22
          ],
          [
           "Day 37",
           "Warwick University",
           27
          ],
          [
           "Day 38",
           "REST",
           0
          ],
          [
           "Day 39",
           "REST",
           0
          ],
          [
           "Day 40",
           "Nuneaton",
           24
          ],
          [
           "Day 41",
           "Tamworth",
           29
          ],
          [
           "Day 42",
           "Burton Upon Trent",
           25
          ],
          [
           "Day 43",
           "Etwall",
           22
          ],
          [
           "Day 44",
           "Ashbourne",
           23
          ],
          [
           "Day 45",
           "Hartington Hall",
           22
          ],
          [
           "Day 46",
           "REST",
           0
          ],
          [
           "Day 47",
           "Miller's Dale",
           21
          ],
          [
           "Day 48",
           "Edale",
           22
          ],
          [
           "Day 49",
           "Crowden",
           32
          ],
          [
           "Day 50",
           "Marsden",
           18
          ],
          [
           "Day 51",
           "Hebden Bridge",
           25
          ],
          [
           "Day 52",
           "REST",
           0
          ],
          [
           "Day 53",
           "Wilsden",
           25
          ],
          [
           "Day 54",
           "Ilkley",
           17
          ],
          [
           "Day 55",
           "REST",
           0
          ],
          [
           "Day 56",
           "Weeton ",
           22
          ],
          [
           "Day 57",
           "Harrogate",
           12
          ],
          [
           "Day 58",
           "Ripon",
           22
          ],
          [
           "Day 59",
           "South Otterington",
           27
          ],
          [
           "Day 60",
           "REST",
           0
          ],
          [
           "Day 61",
           "Darlington ",
           35
          ],
          [
           "Day 62",
           "REST",
           0
          ],
          [
           "Day 63",
           "Bishop Auckland ",
           25
          ],
          [
           "Day 64",
           "Durham",
           18
          ],
          [
           "Day 65",
           "REST",
           0
          ],
          [
           "Day 66",
           "Gateshead",
           24
          ],
          [
           "Day 67",
           "Whitley bay ",
           21
          ],
          [
           "Day 68",
           "Ashington",
           26
          ],
          [
           "Day 69",
           "Warkworth ",
           27
          ],
          [
           "Day 70",
           "Beadnell",
           35
          ],
          [
           "Day 71",
           "REST",
           0
          ],
          [
           "Day 72",
           "Fenwick, TD15 2PH",
           30
          ],
          [
           "Day 73",
           "Berwick upon Tweed",
           21
          ],
          [
           "Day 74",
           "St Abbs",
           27
          ],
          [
           "Day 75",
           "REST",
           0
          ],
          [
           "Day 76",
           "Cockburnspath",
           23
          ],
          [
           "Day 77",
           "Dunbar",
           15
          ],
          [
           "Day 78",
           "Haddington",
           27
          ],
          [
           "Day 79",
           "Edinburgh ",
           36
          ],
          [
           "Day 80",
           "REST ",
           5
          ],
          [
           "Day 81",
           "South Queensferry ",
           17
          ],
          [
           "Day 82",
           "Linlithgow",
           26
          ],
          [
           "Day 83",
           "Kilsyth",
           34
          ],
          [
           "Day 84",
           "REST",
           0
          ],
          [
           "Day 85",
           "Strathblane ",
           26
          ],
          [
           "Day 86",
           "Balmaha",
           22
          ],
          [
           "Day 87",
           "Rowardennan",
           16
          ],
          [
           "Day 88",
           "Inverarnan",
           25
          ],
          [
           "Day 89",
           "Tyndrum",
           21
          ],
          [
           "Day 90",
           "Kingshouse Hotel",
           32
          ],
          [
           "Day 91",
           "REST",
           0
          ],
          [
           "Day 92",
           "Kinlochleven",
           17
          ],
          [
           "Day 93",
           "Fort William (lochybridge)",
           29
          ],
          [
           "Day 94",
           "Laggan Locks",
           35
          ],
          [
           "Day 95",
           "REST",
           0
          ],
          [
           "Day 96",
           "Fort Augustus",
           21
          ],
          [
           "Day 97",
           "Invermoriston (Altsigh)",
           20
          ],
          [
           "Day 98",
           "Drumnadrochit ",
           22
          ],
          [
           "Day 99",
           "Inverness",
           34
          ],
          [
           "Day 100",
           "REST",
           0
          ],
          [
           "Day 101",
           "Evanton",
           31
          ],
          [
           "Day 102",
           "Alness",
           8
          ],
          [
           "Day 103",
           "Tain",
           21
          ],
          [
           "Day 104",
           "Dornoch",
           15
          ],
          [
           "Day 105",
           "Dunrobin Castle",
           27
          ],
          [
           "Day 106",
           "Helmsdale",
           31
          ],
          [
           "Day 107",
           "REST",
           0
          ],
          [
           "Day 108",
           "Berriedale",
           19
          ],
          [
           "Day 109",
           "Lybster",
           21
          ],
          [
           "Day 110",
           "Reiss",
           32
          ],
          [
           "Day 111",
           "John O'Groats ",
           29
          ],
          [
           "Day 112",
           "Dunnet Head",
           25
          ]
         ],
         "hovertemplate": "<b>%{customdata[0]}</b><br><b>Location:</b> %{customdata[1]}<br><b>Distance Walked:</b> %{customdata[2]} km<extra></extra>",
         "lat": [
          50.1194794,
          50.0839429,
          49.9588849,
          50.101985299999996,
          50.1552197,
          50.2633173,
          50.4134414,
          50.418441400000006,
          50.5171441,
          50.6642063,
          50.7403071,
          50.8285252,
          50.833525200000004,
          50.966075,
          50.9850544,
          51.0804057,
          51.0854057,
          51.0854057,
          51.07955,
          51.1385459,
          51.1640261,
          51.1283378,
          51.14804,
          51.153040000000004,
          51.2857477,
          51.3813864,
          51.532571,
          51.68138845,
          51.745424,
          51.750424,
          51.8995685,
          51.9045685,
          52.0425364,
          52.047536400000006,
          52.1927803,
          52.2814519,
          52.3869363,
          52.391936300000005,
          52.391936300000005,
          52.5246182,
          52.6345819,
          52.802742,
          52.8819126,
          53.0173327,
          53.14054095,
          53.145540950000004,
          53.2567052,
          53.368733899999995,
          53.491854,
          53.6007726,
          53.7406425,
          53.7456425,
          53.8239432,
          53.9257254,
          53.9307254,
          53.923285,
          53.9921491,
          54.1362169,
          54.284196449999996,
          54.28919645,
          54.5242081,
          54.529208100000005,
          54.6640762,
          54.7770139,
          54.7820139,
          54.9625789,
          55.0573643,
          55.1832364,
          55.3477629,
          55.5568858,
          55.561885800000006,
          55.6541993,
          55.7692442,
          55.8983976,
          55.903397600000005,
          55.932446,
          56.0021385,
          55.9556144,
          55.9533456,
          55.9583456,
          55.9902293,
          55.977167,
          55.9765389,
          55.981538900000004,
          55.9855683,
          56.0842055,
          56.1513679,
          56.3281753,
          56.4359066,
          56.651490100000004,
          56.656490100000006,
          56.7142979,
          56.8178285,
          57.0247455,
          57.029745500000004,
          57.1443325,
          57.2148494,
          57.3362302,
          57.4790124,
          57.484012400000005,
          57.6633088,
          57.6959431,
          57.8119372,
          57.8796955,
          57.9817316,
          58.1168148,
          58.1218148,
          58.1842839,
          58.3016055,
          58.4766058,
          58.6373009,
          58.6688045
         ],
         "legendgroup": "",
         "lon": [
          -5.5352463,
          -5.291809428590996,
          -5.2063788,
          -5.218614589176044,
          -5.0688262,
          -5.0518107,
          -5.0848836,
          -5.0798836000000005,
          -4.8340186,
          -4.7526181,
          -4.6319668,
          -4.5469361,
          -4.5419361,
          -4.5202184,
          -4.3026828,
          -4.0600467,
          -4.0550467,
          -4.0550467,
          -3.84277,
          -3.5390836,
          -3.32757446282025,
          -3.0037046,
          -2.716577,
          -2.711577,
          -2.4771543,
          -2.3596963,
          -2.3538046,
          -2.353186338463571,
          -2.2198605,
          -2.2148605,
          -2.0711559,
          -2.0661559,
          -1.830212022118403,
          -1.8252120221184032,
          -1.70634,
          -1.5815742,
          -1.5584550201508662,
          -1.5534550201508663,
          -1.5534550201508663,
          -1.4684488,
          -1.6948438,
          -1.629917,
          -1.6017939,
          -1.7342725,
          -1.8040659072070664,
          -1.7990659072070665,
          -1.7912931,
          -1.8223272292790735,
          -1.874567,
          -1.9279026,
          -2.0092336,
          -2.0042336,
          -1.8611921762871368,
          -1.824441,
          -1.819441,
          -1.5812986,
          -1.5391039,
          -1.5238006,
          -1.4223844379237207,
          -1.4173844379237208,
          -1.5555812,
          -1.5505812,
          -1.6752864,
          -1.5756205,
          -1.5706205000000002,
          -1.6019294,
          -1.4640746392081834,
          -1.57027,
          -1.6103256,
          -1.636858,
          -1.631858,
          -1.896369,
          -2.0026472,
          -2.1307868,
          -2.1257868,
          -2.3628295,
          -2.5158237,
          -2.779317,
          -3.1883749,
          -3.1833749,
          -3.3966999,
          -3.6006234,
          -4.0559704,
          -4.0509704,
          -4.3062661,
          -4.5395408,
          -4.6414007,
          -4.7228748,
          -4.711694,
          -4.84128838221454,
          -4.83628838221454,
          -4.9647756,
          -5.110974,
          -4.822977,
          -4.817977,
          -4.681487,
          -4.6174311,
          -4.479799,
          -4.225739,
          -4.220739,
          -4.3374679,
          -4.2541572,
          -4.0550663,
          -4.0278869,
          -3.9454417580249475,
          -3.6517112,
          -3.6467112,
          -3.4996452,
          -3.2844145,
          -3.1465218,
          -3.0689679,
          -3.374241
         ],
         "marker": {
          "color": "#636efa",
          "size": 10
         },
         "mode": "markers",
         "name": "",
         "showlegend": false,
         "subplot": "mapbox",
         "type": "scattermapbox"
        }
       ],
       "layout": {
        "height": 500,
        "legend": {
         "tracegroupgap": 0
        },
        "mapbox": {
         "center": {
          "lat": 54.086272308482144,
          "lon": -3.0751866935824133
         },
         "domain": {
          "x": [
           0,
           1
          ],
          "y": [
           0,
           1
          ]
         },
         "style": "open-street-map",
         "zoom": 5
        },
        "margin": {
         "b": 0,
         "l": 0,
         "r": 0,
         "t": 0
        },
        "template": {
         "data": {
          "bar": [
           {
            "error_x": {
             "color": "#2a3f5f"
            },
            "error_y": {
             "color": "#2a3f5f"
            },
            "marker": {
             "line": {
              "color": "#E5ECF6",
              "width": 0.5
             },
             "pattern": {
              "fillmode": "overlay",
              "size": 10,
              "solidity": 0.2
             }
            },
            "type": "bar"
           }
          ],
          "barpolar": [
           {
            "marker": {
             "line": {
              "color": "#E5ECF6",
              "width": 0.5
             },
             "pattern": {
              "fillmode": "overlay",
              "size": 10,
              "solidity": 0.2
             }
            },
            "type": "barpolar"
           }
          ],
          "carpet": [
           {
            "aaxis": {
             "endlinecolor": "#2a3f5f",
             "gridcolor": "white",
             "linecolor": "white",
             "minorgridcolor": "white",
             "startlinecolor": "#2a3f5f"
            },
            "baxis": {
             "endlinecolor": "#2a3f5f",
             "gridcolor": "white",
             "linecolor": "white",
             "minorgridcolor": "white",
             "startlinecolor": "#2a3f5f"
            },
            "type": "carpet"
           }
          ],
          "choropleth": [
           {
            "colorbar": {
             "outlinewidth": 0,
             "ticks": ""
            },
            "type": "choropleth"
           }
          ],
          "contour": [
           {
            "colorbar": {
             "outlinewidth": 0,
             "ticks": ""
            },
            "colorscale": [
             [
              0,
              "#0d0887"
             ],
             [
              0.1111111111111111,
              "#46039f"
             ],
             [
              0.2222222222222222,
              "#7201a8"
             ],
             [
              0.3333333333333333,
              "#9c179e"
             ],
             [
              0.4444444444444444,
              "#bd3786"
             ],
             [
              0.5555555555555556,
              "#d8576b"
             ],
             [
              0.6666666666666666,
              "#ed7953"
             ],
             [
              0.7777777777777778,
              "#fb9f3a"
             ],
             [
              0.8888888888888888,
              "#fdca26"
             ],
             [
              1,
              "#f0f921"
             ]
            ],
            "type": "contour"
           }
          ],
          "contourcarpet": [
           {
            "colorbar": {
             "outlinewidth": 0,
             "ticks": ""
            },
            "type": "contourcarpet"
           }
          ],
          "heatmap": [
           {
            "colorbar": {
             "outlinewidth": 0,
             "ticks": ""
            },
            "colorscale": [
             [
              0,
              "#0d0887"
             ],
             [
              0.1111111111111111,
              "#46039f"
             ],
             [
              0.2222222222222222,
              "#7201a8"
             ],
             [
              0.3333333333333333,
              "#9c179e"
             ],
             [
              0.4444444444444444,
              "#bd3786"
             ],
             [
              0.5555555555555556,
              "#d8576b"
             ],
             [
              0.6666666666666666,
              "#ed7953"
             ],
             [
              0.7777777777777778,
              "#fb9f3a"
             ],
             [
              0.8888888888888888,
              "#fdca26"
             ],
             [
              1,
              "#f0f921"
             ]
            ],
            "type": "heatmap"
           }
          ],
          "heatmapgl": [
           {
            "colorbar": {
             "outlinewidth": 0,
             "ticks": ""
            },
            "colorscale": [
             [
              0,
              "#0d0887"
             ],
             [
              0.1111111111111111,
              "#46039f"
             ],
             [
              0.2222222222222222,
              "#7201a8"
             ],
             [
              0.3333333333333333,
              "#9c179e"
             ],
             [
              0.4444444444444444,
              "#bd3786"
             ],
             [
              0.5555555555555556,
              "#d8576b"
             ],
             [
              0.6666666666666666,
              "#ed7953"
             ],
             [
              0.7777777777777778,
              "#fb9f3a"
             ],
             [
              0.8888888888888888,
              "#fdca26"
             ],
             [
              1,
              "#f0f921"
             ]
            ],
            "type": "heatmapgl"
           }
          ],
          "histogram": [
           {
            "marker": {
             "pattern": {
              "fillmode": "overlay",
              "size": 10,
              "solidity": 0.2
             }
            },
            "type": "histogram"
           }
          ],
          "histogram2d": [
           {
            "colorbar": {
             "outlinewidth": 0,
             "ticks": ""
            },
            "colorscale": [
             [
              0,
              "#0d0887"
             ],
             [
              0.1111111111111111,
              "#46039f"
             ],
             [
              0.2222222222222222,
              "#7201a8"
             ],
             [
              0.3333333333333333,
              "#9c179e"
             ],
             [
              0.4444444444444444,
              "#bd3786"
             ],
             [
              0.5555555555555556,
              "#d8576b"
             ],
             [
              0.6666666666666666,
              "#ed7953"
             ],
             [
              0.7777777777777778,
              "#fb9f3a"
             ],
             [
              0.8888888888888888,
              "#fdca26"
             ],
             [
              1,
              "#f0f921"
             ]
            ],
            "type": "histogram2d"
           }
          ],
          "histogram2dcontour": [
           {
            "colorbar": {
             "outlinewidth": 0,
             "ticks": ""
            },
            "colorscale": [
             [
              0,
              "#0d0887"
             ],
             [
              0.1111111111111111,
              "#46039f"
             ],
             [
              0.2222222222222222,
              "#7201a8"
             ],
             [
              0.3333333333333333,
              "#9c179e"
             ],
             [
              0.4444444444444444,
              "#bd3786"
             ],
             [
              0.5555555555555556,
              "#d8576b"
             ],
             [
              0.6666666666666666,
              "#ed7953"
             ],
             [
              0.7777777777777778,
              "#fb9f3a"
             ],
             [
              0.8888888888888888,
              "#fdca26"
             ],
             [
              1,
              "#f0f921"
             ]
            ],
            "type": "histogram2dcontour"
           }
          ],
          "mesh3d": [
           {
            "colorbar": {
             "outlinewidth": 0,
             "ticks": ""
            },
            "type": "mesh3d"
           }
          ],
          "parcoords": [
           {
            "line": {
             "colorbar": {
              "outlinewidth": 0,
              "ticks": ""
             }
            },
            "type": "parcoords"
           }
          ],
          "pie": [
           {
            "automargin": true,
            "type": "pie"
           }
          ],
          "scatter": [
           {
            "fillpattern": {
             "fillmode": "overlay",
             "size": 10,
             "solidity": 0.2
            },
            "type": "scatter"
           }
          ],
          "scatter3d": [
           {
            "line": {
             "colorbar": {
              "outlinewidth": 0,
              "ticks": ""
             }
            },
            "marker": {
             "colorbar": {
              "outlinewidth": 0,
              "ticks": ""
             }
            },
            "type": "scatter3d"
           }
          ],
          "scattercarpet": [
           {
            "marker": {
             "colorbar": {
              "outlinewidth": 0,
              "ticks": ""
             }
            },
            "type": "scattercarpet"
           }
          ],
          "scattergeo": [
           {
            "marker": {
             "colorbar": {
              "outlinewidth": 0,
              "ticks": ""
             }
            },
            "type": "scattergeo"
           }
          ],
          "scattergl": [
           {
            "marker": {
             "colorbar": {
              "outlinewidth": 0,
              "ticks": ""
             }
            },
            "type": "scattergl"
           }
          ],
          "scattermapbox": [
           {
            "marker": {
             "colorbar": {
              "outlinewidth": 0,
              "ticks": ""
             }
            },
            "type": "scattermapbox"
           }
          ],
          "scatterpolar": [
           {
            "marker": {
             "colorbar": {
              "outlinewidth": 0,
              "ticks": ""
             }
            },
            "type": "scatterpolar"
           }
          ],
          "scatterpolargl": [
           {
            "marker": {
             "colorbar": {
              "outlinewidth": 0,
              "ticks": ""
             }
            },
            "type": "scatterpolargl"
           }
          ],
          "scatterternary": [
           {
            "marker": {
             "colorbar": {
              "outlinewidth": 0,
              "ticks": ""
             }
            },
            "type": "scatterternary"
           }
          ],
          "surface": [
           {
            "colorbar": {
             "outlinewidth": 0,
             "ticks": ""
            },
            "colorscale": [
             [
              0,
              "#0d0887"
             ],
             [
              0.1111111111111111,
              "#46039f"
             ],
             [
              0.2222222222222222,
              "#7201a8"
             ],
             [
              0.3333333333333333,
              "#9c179e"
             ],
             [
              0.4444444444444444,
              "#bd3786"
             ],
             [
              0.5555555555555556,
              "#d8576b"
             ],
             [
              0.6666666666666666,
              "#ed7953"
             ],
             [
              0.7777777777777778,
              "#fb9f3a"
             ],
             [
              0.8888888888888888,
              "#fdca26"
             ],
             [
              1,
              "#f0f921"
             ]
            ],
            "type": "surface"
           }
          ],
          "table": [
           {
            "cells": {
             "fill": {
              "color": "#EBF0F8"
             },
             "line": {
              "color": "white"
             }
            },
            "header": {
             "fill": {
              "color": "#C8D4E3"
             },
             "line": {
              "color": "white"
             }
            },
            "type": "table"
           }
          ]
         },
         "layout": {
          "annotationdefaults": {
           "arrowcolor": "#2a3f5f",
           "arrowhead": 0,
           "arrowwidth": 1
          },
          "autotypenumbers": "strict",
          "coloraxis": {
           "colorbar": {
            "outlinewidth": 0,
            "ticks": ""
           }
          },
          "colorscale": {
           "diverging": [
            [
             0,
             "#8e0152"
            ],
            [
             0.1,
             "#c51b7d"
            ],
            [
             0.2,
             "#de77ae"
            ],
            [
             0.3,
             "#f1b6da"
            ],
            [
             0.4,
             "#fde0ef"
            ],
            [
             0.5,
             "#f7f7f7"
            ],
            [
             0.6,
             "#e6f5d0"
            ],
            [
             0.7,
             "#b8e186"
            ],
            [
             0.8,
             "#7fbc41"
            ],
            [
             0.9,
             "#4d9221"
            ],
            [
             1,
             "#276419"
            ]
           ],
           "sequential": [
            [
             0,
             "#0d0887"
            ],
            [
             0.1111111111111111,
             "#46039f"
            ],
            [
             0.2222222222222222,
             "#7201a8"
            ],
            [
             0.3333333333333333,
             "#9c179e"
            ],
            [
             0.4444444444444444,
             "#bd3786"
            ],
            [
             0.5555555555555556,
             "#d8576b"
            ],
            [
             0.6666666666666666,
             "#ed7953"
            ],
            [
             0.7777777777777778,
             "#fb9f3a"
            ],
            [
             0.8888888888888888,
             "#fdca26"
            ],
            [
             1,
             "#f0f921"
            ]
           ],
           "sequentialminus": [
            [
             0,
             "#0d0887"
            ],
            [
             0.1111111111111111,
             "#46039f"
            ],
            [
             0.2222222222222222,
             "#7201a8"
            ],
            [
             0.3333333333333333,
             "#9c179e"
            ],
            [
             0.4444444444444444,
             "#bd3786"
            ],
            [
             0.5555555555555556,
             "#d8576b"
            ],
            [
             0.6666666666666666,
             "#ed7953"
            ],
            [
             0.7777777777777778,
             "#fb9f3a"
            ],
            [
             0.8888888888888888,
             "#fdca26"
            ],
            [
             1,
             "#f0f921"
            ]
           ]
          },
          "colorway": [
           "#636efa",
           "#EF553B",
           "#00cc96",
           "#ab63fa",
           "#FFA15A",
           "#19d3f3",
           "#FF6692",
           "#B6E880",
           "#FF97FF",
           "#FECB52"
          ],
          "font": {
           "color": "#2a3f5f"
          },
          "geo": {
           "bgcolor": "white",
           "lakecolor": "white",
           "landcolor": "#E5ECF6",
           "showlakes": true,
           "showland": true,
           "subunitcolor": "white"
          },
          "hoverlabel": {
           "align": "left"
          },
          "hovermode": "closest",
          "mapbox": {
           "style": "light"
          },
          "paper_bgcolor": "white",
          "plot_bgcolor": "#E5ECF6",
          "polar": {
           "angularaxis": {
            "gridcolor": "white",
            "linecolor": "white",
            "ticks": ""
           },
           "bgcolor": "#E5ECF6",
           "radialaxis": {
            "gridcolor": "white",
            "linecolor": "white",
            "ticks": ""
           }
          },
          "scene": {
           "xaxis": {
            "backgroundcolor": "#E5ECF6",
            "gridcolor": "white",
            "gridwidth": 2,
            "linecolor": "white",
            "showbackground": true,
            "ticks": "",
            "zerolinecolor": "white"
           },
           "yaxis": {
            "backgroundcolor": "#E5ECF6",
            "gridcolor": "white",
            "gridwidth": 2,
            "linecolor": "white",
            "showbackground": true,
            "ticks": "",
            "zerolinecolor": "white"
           },
           "zaxis": {
            "backgroundcolor": "#E5ECF6",
            "gridcolor": "white",
            "gridwidth": 2,
            "linecolor": "white",
            "showbackground": true,
            "ticks": "",
            "zerolinecolor": "white"
           }
          },
          "shapedefaults": {
           "line": {
            "color": "#2a3f5f"
           }
          },
          "ternary": {
           "aaxis": {
            "gridcolor": "white",
            "linecolor": "white",
            "ticks": ""
           },
           "baxis": {
            "gridcolor": "white",
            "linecolor": "white",
            "ticks": ""
           },
           "bgcolor": "#E5ECF6",
           "caxis": {
            "gridcolor": "white",
            "linecolor": "white",
            "ticks": ""
           }
          },
          "title": {
           "x": 0.05
          },
          "xaxis": {
           "automargin": true,
           "gridcolor": "white",
           "linecolor": "white",
           "ticks": "",
           "title": {
            "standoff": 15
           },
           "zerolinecolor": "white",
           "zerolinewidth": 2
          },
          "yaxis": {
           "automargin": true,
           "gridcolor": "white",
           "linecolor": "white",
           "ticks": "",
           "title": {
            "standoff": 15
           },
           "zerolinecolor": "white",
           "zerolinewidth": 2
          }
         }
        },
        "width": 500
       }
      },
      "text/html": [
       "<div>                            <div id=\"ad3e537e-0acb-4666-9a57-50a0f7463d29\" class=\"plotly-graph-div\" style=\"height:500px; width:500px;\"></div>            <script type=\"text/javascript\">                require([\"plotly\"], function(Plotly) {                    window.PLOTLYENV=window.PLOTLYENV || {};                                    if (document.getElementById(\"ad3e537e-0acb-4666-9a57-50a0f7463d29\")) {                    Plotly.newPlot(                        \"ad3e537e-0acb-4666-9a57-50a0f7463d29\",                        [{\"customdata\":[[\"Day 1\",\"Penzance\",23.0],[\"Day 2\",\"Helston\\u002fPorthleven\",25.0],[\"Day 3\",\"Lizard\",23.0],[\"Day 4\",\"Gweek\",21.8],[\"Day 5\",\"Falmouth\",18.5],[\"Day 6\",\"Truro\",22.0],[\"Day 7\",\"Newquay\",29.0],[\"Day 8\",\"REST\",0.0],[\"Day 9\",\"Wadebridge\",35.0],[\"Day 10\",\"Tintagel\",28.0],[\"Day 11\",\"Crackington Haven\",19.5],[\"Day 12\",\"Bude\",18.5],[\"Day 13\",\"REST\",0.0],[\"Day 14\",\"Elmscott\",25.0],[\"Day 15\",\"Horns Cross\",27.0],[\"Day 16\",\"Barnstaple\",28.0],[\"Day 17\",\"REST\",0.0],[\"Day 18\",\"REST\",0.0],[\"Day 19\",\"EX36 3EU (Chancery House)\",21.0],[\"Day 20\",\"Wheddon cross\",30.0],[\"Day 21\",\"Williton\",22.0],[\"Day 22\",\"Bridgwater\",30.0],[\"Day 23\",\"Glastonbury\",27.7],[\"Day 24\",\"REST\",0.0],[\"Day 25\",\"Midsomer norton\",30.0],[\"Day 26\",\"Bath\",25.0],[\"Day 27\",\"Old Sodbury\",34.0],[\"Day 28\",\"Dursley\",30.0],[\"Day 29\",\"Stroud\",18.0],[\"Day 30\",\"REST\",0.0],[\"Day 31\",\"Cheltenham\",37.0],[\"Day 32\",\"unplanned rest!\",0.0],[\"Day 33\",\"Broadway golf club\",34.0],[\"Day 34\",\"REST\",0.0],[\"Day 35\",\"Stratford-upon-avon\",28.0],[\"Day 36\",\"Warwick\",22.0],[\"Day 37\",\"Warwick University\",27.0],[\"Day 38\",\"REST\",0.0],[\"Day 39\",\"REST\",0.0],[\"Day 40\",\"Nuneaton\",24.0],[\"Day 41\",\"Tamworth\",29.0],[\"Day 42\",\"Burton Upon Trent\",25.0],[\"Day 43\",\"Etwall\",22.0],[\"Day 44\",\"Ashbourne\",23.0],[\"Day 45\",\"Hartington Hall\",22.0],[\"Day 46\",\"REST\",0.0],[\"Day 47\",\"Miller's Dale\",21.0],[\"Day 48\",\"Edale\",22.0],[\"Day 49\",\"Crowden\",32.0],[\"Day 50\",\"Marsden\",18.0],[\"Day 51\",\"Hebden Bridge\",25.0],[\"Day 52\",\"REST\",0.0],[\"Day 53\",\"Wilsden\",25.0],[\"Day 54\",\"Ilkley\",17.0],[\"Day 55\",\"REST\",0.0],[\"Day 56\",\"Weeton \",22.0],[\"Day 57\",\"Harrogate\",12.0],[\"Day 58\",\"Ripon\",22.0],[\"Day 59\",\"South Otterington\",27.0],[\"Day 60\",\"REST\",0.0],[\"Day 61\",\"Darlington \",35.0],[\"Day 62\",\"REST\",0.0],[\"Day 63\",\"Bishop Auckland \",25.0],[\"Day 64\",\"Durham\",18.0],[\"Day 65\",\"REST\",0.0],[\"Day 66\",\"Gateshead\",24.0],[\"Day 67\",\"Whitley bay \",21.0],[\"Day 68\",\"Ashington\",26.0],[\"Day 69\",\"Warkworth \",27.0],[\"Day 70\",\"Beadnell\",35.0],[\"Day 71\",\"REST\",0.0],[\"Day 72\",\"Fenwick, TD15 2PH\",30.0],[\"Day 73\",\"Berwick upon Tweed\",21.0],[\"Day 74\",\"St Abbs\",27.0],[\"Day 75\",\"REST\",0.0],[\"Day 76\",\"Cockburnspath\",23.0],[\"Day 77\",\"Dunbar\",15.0],[\"Day 78\",\"Haddington\",27.0],[\"Day 79\",\"Edinburgh \",36.0],[\"Day 80\",\"REST \",5.0],[\"Day 81\",\"South Queensferry \",17.0],[\"Day 82\",\"Linlithgow\",26.0],[\"Day 83\",\"Kilsyth\",34.0],[\"Day 84\",\"REST\",0.0],[\"Day 85\",\"Strathblane \",26.0],[\"Day 86\",\"Balmaha\",22.0],[\"Day 87\",\"Rowardennan\",16.0],[\"Day 88\",\"Inverarnan\",25.0],[\"Day 89\",\"Tyndrum\",21.0],[\"Day 90\",\"Kingshouse Hotel\",32.0],[\"Day 91\",\"REST\",0.0],[\"Day 92\",\"Kinlochleven\",17.0],[\"Day 93\",\"Fort William (lochybridge)\",29.0],[\"Day 94\",\"Laggan Locks\",35.0],[\"Day 95\",\"REST\",0.0],[\"Day 96\",\"Fort Augustus\",21.0],[\"Day 97\",\"Invermoriston (Altsigh)\",20.0],[\"Day 98\",\"Drumnadrochit \",22.0],[\"Day 99\",\"Inverness\",34.0],[\"Day 100\",\"REST\",0.0],[\"Day 101\",\"Evanton\",31.0],[\"Day 102\",\"Alness\",8.0],[\"Day 103\",\"Tain\",21.0],[\"Day 104\",\"Dornoch\",15.0],[\"Day 105\",\"Dunrobin Castle\",27.0],[\"Day 106\",\"Helmsdale\",31.0],[\"Day 107\",\"REST\",0.0],[\"Day 108\",\"Berriedale\",19.0],[\"Day 109\",\"Lybster\",21.0],[\"Day 110\",\"Reiss\",32.0],[\"Day 111\",\"John O'Groats \",29.0],[\"Day 112\",\"Dunnet Head\",25.0]],\"hovertemplate\":\"\\u003cb\\u003e%{customdata[0]}\\u003c\\u002fb\\u003e\\u003cbr\\u003e\\u003cb\\u003eLocation:\\u003c\\u002fb\\u003e %{customdata[1]}\\u003cbr\\u003e\\u003cb\\u003eDistance Walked:\\u003c\\u002fb\\u003e %{customdata[2]} km\\u003cextra\\u003e\\u003c\\u002fextra\\u003e\",\"lat\":[50.1194794,50.0839429,49.9588849,50.101985299999996,50.1552197,50.2633173,50.4134414,50.418441400000006,50.5171441,50.6642063,50.7403071,50.8285252,50.833525200000004,50.966075,50.9850544,51.0804057,51.0854057,51.0854057,51.07955,51.1385459,51.1640261,51.1283378,51.14804,51.153040000000004,51.2857477,51.3813864,51.532571,51.68138845,51.745424,51.750424,51.8995685,51.9045685,52.0425364,52.047536400000006,52.1927803,52.2814519,52.3869363,52.391936300000005,52.391936300000005,52.5246182,52.6345819,52.802742,52.8819126,53.0173327,53.14054095,53.145540950000004,53.2567052,53.368733899999995,53.491854,53.6007726,53.7406425,53.7456425,53.8239432,53.9257254,53.9307254,53.923285,53.9921491,54.1362169,54.284196449999996,54.28919645,54.5242081,54.529208100000005,54.6640762,54.7770139,54.7820139,54.9625789,55.0573643,55.1832364,55.3477629,55.5568858,55.561885800000006,55.6541993,55.7692442,55.8983976,55.903397600000005,55.932446,56.0021385,55.9556144,55.9533456,55.9583456,55.9902293,55.977167,55.9765389,55.981538900000004,55.9855683,56.0842055,56.1513679,56.3281753,56.4359066,56.651490100000004,56.656490100000006,56.7142979,56.8178285,57.0247455,57.029745500000004,57.1443325,57.2148494,57.3362302,57.4790124,57.484012400000005,57.6633088,57.6959431,57.8119372,57.8796955,57.9817316,58.1168148,58.1218148,58.1842839,58.3016055,58.4766058,58.6373009,58.6688045],\"legendgroup\":\"\",\"lon\":[-5.5352463,-5.291809428590996,-5.2063788,-5.218614589176044,-5.0688262,-5.0518107,-5.0848836,-5.0798836000000005,-4.8340186,-4.7526181,-4.6319668,-4.5469361,-4.5419361,-4.5202184,-4.3026828,-4.0600467,-4.0550467,-4.0550467,-3.84277,-3.5390836,-3.32757446282025,-3.0037046,-2.716577,-2.711577,-2.4771543,-2.3596963,-2.3538046,-2.353186338463571,-2.2198605,-2.2148605,-2.0711559,-2.0661559,-1.830212022118403,-1.8252120221184032,-1.70634,-1.5815742,-1.5584550201508662,-1.5534550201508663,-1.5534550201508663,-1.4684488,-1.6948438,-1.629917,-1.6017939,-1.7342725,-1.8040659072070664,-1.7990659072070665,-1.7912931,-1.8223272292790735,-1.874567,-1.9279026,-2.0092336,-2.0042336,-1.8611921762871368,-1.824441,-1.819441,-1.5812986,-1.5391039,-1.5238006,-1.4223844379237207,-1.4173844379237208,-1.5555812,-1.5505812,-1.6752864,-1.5756205,-1.5706205000000002,-1.6019294,-1.4640746392081834,-1.57027,-1.6103256,-1.636858,-1.631858,-1.896369,-2.0026472,-2.1307868,-2.1257868,-2.3628295,-2.5158237,-2.779317,-3.1883749,-3.1833749,-3.3966999,-3.6006234,-4.0559704,-4.0509704,-4.3062661,-4.5395408,-4.6414007,-4.7228748,-4.711694,-4.84128838221454,-4.83628838221454,-4.9647756,-5.110974,-4.822977,-4.817977,-4.681487,-4.6174311,-4.479799,-4.225739,-4.220739,-4.3374679,-4.2541572,-4.0550663,-4.0278869,-3.9454417580249475,-3.6517112,-3.6467112,-3.4996452,-3.2844145,-3.1465218,-3.0689679,-3.374241],\"marker\":{\"color\":\"#636efa\",\"size\":10},\"mode\":\"markers\",\"name\":\"\",\"showlegend\":false,\"subplot\":\"mapbox\",\"type\":\"scattermapbox\"}],                        {\"template\":{\"data\":{\"histogram2dcontour\":[{\"type\":\"histogram2dcontour\",\"colorbar\":{\"outlinewidth\":0,\"ticks\":\"\"},\"colorscale\":[[0.0,\"#0d0887\"],[0.1111111111111111,\"#46039f\"],[0.2222222222222222,\"#7201a8\"],[0.3333333333333333,\"#9c179e\"],[0.4444444444444444,\"#bd3786\"],[0.5555555555555556,\"#d8576b\"],[0.6666666666666666,\"#ed7953\"],[0.7777777777777778,\"#fb9f3a\"],[0.8888888888888888,\"#fdca26\"],[1.0,\"#f0f921\"]]}],\"choropleth\":[{\"type\":\"choropleth\",\"colorbar\":{\"outlinewidth\":0,\"ticks\":\"\"}}],\"histogram2d\":[{\"type\":\"histogram2d\",\"colorbar\":{\"outlinewidth\":0,\"ticks\":\"\"},\"colorscale\":[[0.0,\"#0d0887\"],[0.1111111111111111,\"#46039f\"],[0.2222222222222222,\"#7201a8\"],[0.3333333333333333,\"#9c179e\"],[0.4444444444444444,\"#bd3786\"],[0.5555555555555556,\"#d8576b\"],[0.6666666666666666,\"#ed7953\"],[0.7777777777777778,\"#fb9f3a\"],[0.8888888888888888,\"#fdca26\"],[1.0,\"#f0f921\"]]}],\"heatmap\":[{\"type\":\"heatmap\",\"colorbar\":{\"outlinewidth\":0,\"ticks\":\"\"},\"colorscale\":[[0.0,\"#0d0887\"],[0.1111111111111111,\"#46039f\"],[0.2222222222222222,\"#7201a8\"],[0.3333333333333333,\"#9c179e\"],[0.4444444444444444,\"#bd3786\"],[0.5555555555555556,\"#d8576b\"],[0.6666666666666666,\"#ed7953\"],[0.7777777777777778,\"#fb9f3a\"],[0.8888888888888888,\"#fdca26\"],[1.0,\"#f0f921\"]]}],\"heatmapgl\":[{\"type\":\"heatmapgl\",\"colorbar\":{\"outlinewidth\":0,\"ticks\":\"\"},\"colorscale\":[[0.0,\"#0d0887\"],[0.1111111111111111,\"#46039f\"],[0.2222222222222222,\"#7201a8\"],[0.3333333333333333,\"#9c179e\"],[0.4444444444444444,\"#bd3786\"],[0.5555555555555556,\"#d8576b\"],[0.6666666666666666,\"#ed7953\"],[0.7777777777777778,\"#fb9f3a\"],[0.8888888888888888,\"#fdca26\"],[1.0,\"#f0f921\"]]}],\"contourcarpet\":[{\"type\":\"contourcarpet\",\"colorbar\":{\"outlinewidth\":0,\"ticks\":\"\"}}],\"contour\":[{\"type\":\"contour\",\"colorbar\":{\"outlinewidth\":0,\"ticks\":\"\"},\"colorscale\":[[0.0,\"#0d0887\"],[0.1111111111111111,\"#46039f\"],[0.2222222222222222,\"#7201a8\"],[0.3333333333333333,\"#9c179e\"],[0.4444444444444444,\"#bd3786\"],[0.5555555555555556,\"#d8576b\"],[0.6666666666666666,\"#ed7953\"],[0.7777777777777778,\"#fb9f3a\"],[0.8888888888888888,\"#fdca26\"],[1.0,\"#f0f921\"]]}],\"surface\":[{\"type\":\"surface\",\"colorbar\":{\"outlinewidth\":0,\"ticks\":\"\"},\"colorscale\":[[0.0,\"#0d0887\"],[0.1111111111111111,\"#46039f\"],[0.2222222222222222,\"#7201a8\"],[0.3333333333333333,\"#9c179e\"],[0.4444444444444444,\"#bd3786\"],[0.5555555555555556,\"#d8576b\"],[0.6666666666666666,\"#ed7953\"],[0.7777777777777778,\"#fb9f3a\"],[0.8888888888888888,\"#fdca26\"],[1.0,\"#f0f921\"]]}],\"mesh3d\":[{\"type\":\"mesh3d\",\"colorbar\":{\"outlinewidth\":0,\"ticks\":\"\"}}],\"scatter\":[{\"fillpattern\":{\"fillmode\":\"overlay\",\"size\":10,\"solidity\":0.2},\"type\":\"scatter\"}],\"parcoords\":[{\"type\":\"parcoords\",\"line\":{\"colorbar\":{\"outlinewidth\":0,\"ticks\":\"\"}}}],\"scatterpolargl\":[{\"type\":\"scatterpolargl\",\"marker\":{\"colorbar\":{\"outlinewidth\":0,\"ticks\":\"\"}}}],\"bar\":[{\"error_x\":{\"color\":\"#2a3f5f\"},\"error_y\":{\"color\":\"#2a3f5f\"},\"marker\":{\"line\":{\"color\":\"#E5ECF6\",\"width\":0.5},\"pattern\":{\"fillmode\":\"overlay\",\"size\":10,\"solidity\":0.2}},\"type\":\"bar\"}],\"scattergeo\":[{\"type\":\"scattergeo\",\"marker\":{\"colorbar\":{\"outlinewidth\":0,\"ticks\":\"\"}}}],\"scatterpolar\":[{\"type\":\"scatterpolar\",\"marker\":{\"colorbar\":{\"outlinewidth\":0,\"ticks\":\"\"}}}],\"histogram\":[{\"marker\":{\"pattern\":{\"fillmode\":\"overlay\",\"size\":10,\"solidity\":0.2}},\"type\":\"histogram\"}],\"scattergl\":[{\"type\":\"scattergl\",\"marker\":{\"colorbar\":{\"outlinewidth\":0,\"ticks\":\"\"}}}],\"scatter3d\":[{\"type\":\"scatter3d\",\"line\":{\"colorbar\":{\"outlinewidth\":0,\"ticks\":\"\"}},\"marker\":{\"colorbar\":{\"outlinewidth\":0,\"ticks\":\"\"}}}],\"scattermapbox\":[{\"type\":\"scattermapbox\",\"marker\":{\"colorbar\":{\"outlinewidth\":0,\"ticks\":\"\"}}}],\"scatterternary\":[{\"type\":\"scatterternary\",\"marker\":{\"colorbar\":{\"outlinewidth\":0,\"ticks\":\"\"}}}],\"scattercarpet\":[{\"type\":\"scattercarpet\",\"marker\":{\"colorbar\":{\"outlinewidth\":0,\"ticks\":\"\"}}}],\"carpet\":[{\"aaxis\":{\"endlinecolor\":\"#2a3f5f\",\"gridcolor\":\"white\",\"linecolor\":\"white\",\"minorgridcolor\":\"white\",\"startlinecolor\":\"#2a3f5f\"},\"baxis\":{\"endlinecolor\":\"#2a3f5f\",\"gridcolor\":\"white\",\"linecolor\":\"white\",\"minorgridcolor\":\"white\",\"startlinecolor\":\"#2a3f5f\"},\"type\":\"carpet\"}],\"table\":[{\"cells\":{\"fill\":{\"color\":\"#EBF0F8\"},\"line\":{\"color\":\"white\"}},\"header\":{\"fill\":{\"color\":\"#C8D4E3\"},\"line\":{\"color\":\"white\"}},\"type\":\"table\"}],\"barpolar\":[{\"marker\":{\"line\":{\"color\":\"#E5ECF6\",\"width\":0.5},\"pattern\":{\"fillmode\":\"overlay\",\"size\":10,\"solidity\":0.2}},\"type\":\"barpolar\"}],\"pie\":[{\"automargin\":true,\"type\":\"pie\"}]},\"layout\":{\"autotypenumbers\":\"strict\",\"colorway\":[\"#636efa\",\"#EF553B\",\"#00cc96\",\"#ab63fa\",\"#FFA15A\",\"#19d3f3\",\"#FF6692\",\"#B6E880\",\"#FF97FF\",\"#FECB52\"],\"font\":{\"color\":\"#2a3f5f\"},\"hovermode\":\"closest\",\"hoverlabel\":{\"align\":\"left\"},\"paper_bgcolor\":\"white\",\"plot_bgcolor\":\"#E5ECF6\",\"polar\":{\"bgcolor\":\"#E5ECF6\",\"angularaxis\":{\"gridcolor\":\"white\",\"linecolor\":\"white\",\"ticks\":\"\"},\"radialaxis\":{\"gridcolor\":\"white\",\"linecolor\":\"white\",\"ticks\":\"\"}},\"ternary\":{\"bgcolor\":\"#E5ECF6\",\"aaxis\":{\"gridcolor\":\"white\",\"linecolor\":\"white\",\"ticks\":\"\"},\"baxis\":{\"gridcolor\":\"white\",\"linecolor\":\"white\",\"ticks\":\"\"},\"caxis\":{\"gridcolor\":\"white\",\"linecolor\":\"white\",\"ticks\":\"\"}},\"coloraxis\":{\"colorbar\":{\"outlinewidth\":0,\"ticks\":\"\"}},\"colorscale\":{\"sequential\":[[0.0,\"#0d0887\"],[0.1111111111111111,\"#46039f\"],[0.2222222222222222,\"#7201a8\"],[0.3333333333333333,\"#9c179e\"],[0.4444444444444444,\"#bd3786\"],[0.5555555555555556,\"#d8576b\"],[0.6666666666666666,\"#ed7953\"],[0.7777777777777778,\"#fb9f3a\"],[0.8888888888888888,\"#fdca26\"],[1.0,\"#f0f921\"]],\"sequentialminus\":[[0.0,\"#0d0887\"],[0.1111111111111111,\"#46039f\"],[0.2222222222222222,\"#7201a8\"],[0.3333333333333333,\"#9c179e\"],[0.4444444444444444,\"#bd3786\"],[0.5555555555555556,\"#d8576b\"],[0.6666666666666666,\"#ed7953\"],[0.7777777777777778,\"#fb9f3a\"],[0.8888888888888888,\"#fdca26\"],[1.0,\"#f0f921\"]],\"diverging\":[[0,\"#8e0152\"],[0.1,\"#c51b7d\"],[0.2,\"#de77ae\"],[0.3,\"#f1b6da\"],[0.4,\"#fde0ef\"],[0.5,\"#f7f7f7\"],[0.6,\"#e6f5d0\"],[0.7,\"#b8e186\"],[0.8,\"#7fbc41\"],[0.9,\"#4d9221\"],[1,\"#276419\"]]},\"xaxis\":{\"gridcolor\":\"white\",\"linecolor\":\"white\",\"ticks\":\"\",\"title\":{\"standoff\":15},\"zerolinecolor\":\"white\",\"automargin\":true,\"zerolinewidth\":2},\"yaxis\":{\"gridcolor\":\"white\",\"linecolor\":\"white\",\"ticks\":\"\",\"title\":{\"standoff\":15},\"zerolinecolor\":\"white\",\"automargin\":true,\"zerolinewidth\":2},\"scene\":{\"xaxis\":{\"backgroundcolor\":\"#E5ECF6\",\"gridcolor\":\"white\",\"linecolor\":\"white\",\"showbackground\":true,\"ticks\":\"\",\"zerolinecolor\":\"white\",\"gridwidth\":2},\"yaxis\":{\"backgroundcolor\":\"#E5ECF6\",\"gridcolor\":\"white\",\"linecolor\":\"white\",\"showbackground\":true,\"ticks\":\"\",\"zerolinecolor\":\"white\",\"gridwidth\":2},\"zaxis\":{\"backgroundcolor\":\"#E5ECF6\",\"gridcolor\":\"white\",\"linecolor\":\"white\",\"showbackground\":true,\"ticks\":\"\",\"zerolinecolor\":\"white\",\"gridwidth\":2}},\"shapedefaults\":{\"line\":{\"color\":\"#2a3f5f\"}},\"annotationdefaults\":{\"arrowcolor\":\"#2a3f5f\",\"arrowhead\":0,\"arrowwidth\":1},\"geo\":{\"bgcolor\":\"white\",\"landcolor\":\"#E5ECF6\",\"subunitcolor\":\"white\",\"showland\":true,\"showlakes\":true,\"lakecolor\":\"white\"},\"title\":{\"x\":0.05},\"mapbox\":{\"style\":\"light\"}}},\"mapbox\":{\"domain\":{\"x\":[0.0,1.0],\"y\":[0.0,1.0]},\"center\":{\"lat\":54.086272308482144,\"lon\":-3.0751866935824133},\"zoom\":5,\"style\":\"open-street-map\"},\"legend\":{\"tracegroupgap\":0},\"margin\":{\"t\":0,\"b\":0,\"l\":0,\"r\":0},\"height\":500,\"width\":500},                        {\"responsive\": true}                    ).then(function(){\n",
       "                            \n",
       "var gd = document.getElementById('ad3e537e-0acb-4666-9a57-50a0f7463d29');\n",
       "var x = new MutationObserver(function (mutations, observer) {{\n",
       "        var display = window.getComputedStyle(gd).display;\n",
       "        if (!display || display === 'none') {{\n",
       "            console.log([gd, 'removed!']);\n",
       "            Plotly.purge(gd);\n",
       "            observer.disconnect();\n",
       "        }}\n",
       "}});\n",
       "\n",
       "// Listen for the removal of the full notebook cells\n",
       "var notebookContainer = gd.closest('#notebook-container');\n",
       "if (notebookContainer) {{\n",
       "    x.observe(notebookContainer, {childList: true});\n",
       "}}\n",
       "\n",
       "// Listen for the clearing of the current output cell\n",
       "var outputEl = gd.closest('.output');\n",
       "if (outputEl) {{\n",
       "    x.observe(outputEl, {childList: true});\n",
       "}}\n",
       "\n",
       "                        })                };                });            </script>        </div>"
      ]
     },
     "metadata": {},
     "output_type": "display_data"
    }
   ],
   "source": [
    "fig = px.scatter_mapbox(df, \n",
    "                        lat=\"Latitude_plot\", \n",
    "                        lon=\"Longitude_plot\", \n",
    "                        custom_data=[\"h_name\", \"End\", \"Distance_km\"],\n",
    "                        zoom=5, \n",
    "                        height=500,\n",
    "                        width=500)\n",
    "\n",
    "fig.update_traces(marker={\"size\": 10}, \\\n",
    "                  hovertemplate = (\"<b>%{customdata[0]}</b><br>\" + \n",
    "                                   \"<b>Location:</b> %{customdata[1]}<br>\" +\n",
    "                                   \"<b>Distance Walked:</b> %{customdata[2]} km<extra></extra>\")\n",
    ")\n",
    "\n",
    "fig.update_layout(mapbox_style=\"open-street-map\",margin_b=0,margin_l=0,margin_r=0,margin_t=0)\n",
    "fig.update_layout(margin={\"r\":0,\"t\":0,\"l\":0,\"b\":0})\n",
    "fig.show()\n",
    "fig.write_html(\"map.html\")"
   ]
  },
  {
   "cell_type": "code",
   "execution_count": null,
   "metadata": {},
   "outputs": [],
   "source": []
  },
  {
   "cell_type": "code",
   "execution_count": 1165,
   "metadata": {},
   "outputs": [
    {
     "data": {
      "text/html": [
       "<div>\n",
       "<style scoped>\n",
       "    .dataframe tbody tr th:only-of-type {\n",
       "        vertical-align: middle;\n",
       "    }\n",
       "\n",
       "    .dataframe tbody tr th {\n",
       "        vertical-align: top;\n",
       "    }\n",
       "\n",
       "    .dataframe thead th {\n",
       "        text-align: right;\n",
       "    }\n",
       "</style>\n",
       "<table border=\"1\" class=\"dataframe\">\n",
       "  <thead>\n",
       "    <tr style=\"text-align: right;\">\n",
       "      <th></th>\n",
       "      <th>Day_number</th>\n",
       "      <th>Date</th>\n",
       "      <th>Day_week</th>\n",
       "      <th>Start</th>\n",
       "      <th>End</th>\n",
       "      <th>Distance_km</th>\n",
       "      <th>Total_km</th>\n",
       "      <th>Distance_miles</th>\n",
       "      <th>Total_miles</th>\n",
       "      <th>Weather</th>\n",
       "      <th>...</th>\n",
       "      <th>Lon_lat</th>\n",
       "      <th>Longitude</th>\n",
       "      <th>Latitude</th>\n",
       "      <th>Distance_from_JOG</th>\n",
       "      <th>Lon_lat_inc_rest</th>\n",
       "      <th>Rest</th>\n",
       "      <th>Longitude_plot</th>\n",
       "      <th>Latitude_plot</th>\n",
       "      <th>hover_name</th>\n",
       "      <th>h_name</th>\n",
       "    </tr>\n",
       "  </thead>\n",
       "  <tbody>\n",
       "    <tr>\n",
       "      <th>0</th>\n",
       "      <td>1.0</td>\n",
       "      <td>18/05/2023</td>\n",
       "      <td>Thu</td>\n",
       "      <td>Land's End</td>\n",
       "      <td>Penzance</td>\n",
       "      <td>23.0</td>\n",
       "      <td>23.0</td>\n",
       "      <td>14.3</td>\n",
       "      <td>14.3</td>\n",
       "      <td>Sunny/cloudy</td>\n",
       "      <td>...</td>\n",
       "      <td>(-5.5352463, 50.1194794)</td>\n",
       "      <td>-5.535246</td>\n",
       "      <td>50.119479</td>\n",
       "      <td>984.015009</td>\n",
       "      <td>(-5.5352463, 50.1194794)</td>\n",
       "      <td>0</td>\n",
       "      <td>-5.535246</td>\n",
       "      <td>50.119479</td>\n",
       "      <td>Day 1</td>\n",
       "      <td>Day 1</td>\n",
       "    </tr>\n",
       "    <tr>\n",
       "      <th>1</th>\n",
       "      <td>2.0</td>\n",
       "      <td>19/05/2023</td>\n",
       "      <td>Fri</td>\n",
       "      <td>Penzance</td>\n",
       "      <td>Helston/Porthleven</td>\n",
       "      <td>25.0</td>\n",
       "      <td>48.0</td>\n",
       "      <td>15.5</td>\n",
       "      <td>29.8</td>\n",
       "      <td>Cloudy</td>\n",
       "      <td>...</td>\n",
       "      <td>(-5.291809428590996, 50.0839429)</td>\n",
       "      <td>-5.291809</td>\n",
       "      <td>50.083943</td>\n",
       "      <td>980.872161</td>\n",
       "      <td>(-5.291809428590996, 50.0839429)</td>\n",
       "      <td>0</td>\n",
       "      <td>-5.291809</td>\n",
       "      <td>50.083943</td>\n",
       "      <td>Day 2</td>\n",
       "      <td>Day 2</td>\n",
       "    </tr>\n",
       "    <tr>\n",
       "      <th>2</th>\n",
       "      <td>3.0</td>\n",
       "      <td>20/05/2023</td>\n",
       "      <td>Sat</td>\n",
       "      <td>Helston/Porthleven</td>\n",
       "      <td>Lizard</td>\n",
       "      <td>23.0</td>\n",
       "      <td>71.0</td>\n",
       "      <td>14.3</td>\n",
       "      <td>44.1</td>\n",
       "      <td>Blue skies</td>\n",
       "      <td>...</td>\n",
       "      <td>(-5.2063788, 49.9588849)</td>\n",
       "      <td>-5.206379</td>\n",
       "      <td>49.958885</td>\n",
       "      <td>992.080552</td>\n",
       "      <td>(-5.2063788, 49.9588849)</td>\n",
       "      <td>0</td>\n",
       "      <td>-5.206379</td>\n",
       "      <td>49.958885</td>\n",
       "      <td>Day 3</td>\n",
       "      <td>Day 3</td>\n",
       "    </tr>\n",
       "    <tr>\n",
       "      <th>3</th>\n",
       "      <td>4.0</td>\n",
       "      <td>21/05/2023</td>\n",
       "      <td>Sun</td>\n",
       "      <td>Lizard</td>\n",
       "      <td>Gweek</td>\n",
       "      <td>21.8</td>\n",
       "      <td>92.8</td>\n",
       "      <td>13.5</td>\n",
       "      <td>57.7</td>\n",
       "      <td>Blue skies</td>\n",
       "      <td>...</td>\n",
       "      <td>(-5.218614589176044, 50.101985299999996)</td>\n",
       "      <td>-5.218615</td>\n",
       "      <td>50.101985</td>\n",
       "      <td>976.978538</td>\n",
       "      <td>(-5.218614589176044, 50.101985299999996)</td>\n",
       "      <td>0</td>\n",
       "      <td>-5.218615</td>\n",
       "      <td>50.101985</td>\n",
       "      <td>Day 4</td>\n",
       "      <td>Day 4</td>\n",
       "    </tr>\n",
       "    <tr>\n",
       "      <th>4</th>\n",
       "      <td>5.0</td>\n",
       "      <td>22/05/2023</td>\n",
       "      <td>Mon</td>\n",
       "      <td>Gweek-ish</td>\n",
       "      <td>Falmouth</td>\n",
       "      <td>18.5</td>\n",
       "      <td>111.3</td>\n",
       "      <td>11.5</td>\n",
       "      <td>69.2</td>\n",
       "      <td>sunny/cloudy</td>\n",
       "      <td>...</td>\n",
       "      <td>(-5.0688262, 50.1552197)</td>\n",
       "      <td>-5.068826</td>\n",
       "      <td>50.155220</td>\n",
       "      <td>967.419309</td>\n",
       "      <td>(-5.0688262, 50.1552197)</td>\n",
       "      <td>0</td>\n",
       "      <td>-5.068826</td>\n",
       "      <td>50.155220</td>\n",
       "      <td>Day 5</td>\n",
       "      <td>Day 5</td>\n",
       "    </tr>\n",
       "  </tbody>\n",
       "</table>\n",
       "<p>5 rows × 32 columns</p>\n",
       "</div>"
      ],
      "text/plain": [
       "   Day_number        Date Day_week               Start                 End  \\\n",
       "0         1.0  18/05/2023      Thu          Land's End            Penzance   \n",
       "1         2.0  19/05/2023      Fri            Penzance  Helston/Porthleven   \n",
       "2         3.0  20/05/2023      Sat  Helston/Porthleven              Lizard   \n",
       "3         4.0  21/05/2023      Sun              Lizard               Gweek   \n",
       "4         5.0  22/05/2023      Mon           Gweek-ish            Falmouth   \n",
       "\n",
       "   Distance_km  Total_km  Distance_miles  Total_miles       Weather  ...  \\\n",
       "0         23.0      23.0            14.3         14.3  Sunny/cloudy  ...   \n",
       "1         25.0      48.0            15.5         29.8        Cloudy  ...   \n",
       "2         23.0      71.0            14.3         44.1    Blue skies  ...   \n",
       "3         21.8      92.8            13.5         57.7    Blue skies  ...   \n",
       "4         18.5     111.3            11.5         69.2  sunny/cloudy  ...   \n",
       "\n",
       "                                    Lon_lat  Longitude   Latitude  \\\n",
       "0                  (-5.5352463, 50.1194794)  -5.535246  50.119479   \n",
       "1          (-5.291809428590996, 50.0839429)  -5.291809  50.083943   \n",
       "2                  (-5.2063788, 49.9588849)  -5.206379  49.958885   \n",
       "3  (-5.218614589176044, 50.101985299999996)  -5.218615  50.101985   \n",
       "4                  (-5.0688262, 50.1552197)  -5.068826  50.155220   \n",
       "\n",
       "   Distance_from_JOG                          Lon_lat_inc_rest  Rest  \\\n",
       "0         984.015009                  (-5.5352463, 50.1194794)     0   \n",
       "1         980.872161          (-5.291809428590996, 50.0839429)     0   \n",
       "2         992.080552                  (-5.2063788, 49.9588849)     0   \n",
       "3         976.978538  (-5.218614589176044, 50.101985299999996)     0   \n",
       "4         967.419309                  (-5.0688262, 50.1552197)     0   \n",
       "\n",
       "  Longitude_plot Latitude_plot  hover_name  h_name  \n",
       "0      -5.535246     50.119479       Day 1   Day 1  \n",
       "1      -5.291809     50.083943       Day 2   Day 2  \n",
       "2      -5.206379     49.958885       Day 3   Day 3  \n",
       "3      -5.218615     50.101985       Day 4   Day 4  \n",
       "4      -5.068826     50.155220       Day 5   Day 5  \n",
       "\n",
       "[5 rows x 32 columns]"
      ]
     },
     "execution_count": 1165,
     "metadata": {},
     "output_type": "execute_result"
    }
   ],
   "source": [
    "df.head()"
   ]
  },
  {
   "cell_type": "code",
   "execution_count": null,
   "metadata": {},
   "outputs": [],
   "source": []
  }
 ],
 "metadata": {
  "kernelspec": {
   "display_name": "Python 3",
   "language": "python",
   "name": "python3"
  },
  "language_info": {
   "codemirror_mode": {
    "name": "ipython",
    "version": 3
   },
   "file_extension": ".py",
   "mimetype": "text/x-python",
   "name": "python",
   "nbconvert_exporter": "python",
   "pygments_lexer": "ipython3",
   "version": "3.6.9"
  },
  "widgets": {
   "application/vnd.jupyter.widget-state+json": {
    "state": {},
    "version_major": 2,
    "version_minor": 0
   }
  }
 },
 "nbformat": 4,
 "nbformat_minor": 2
}
